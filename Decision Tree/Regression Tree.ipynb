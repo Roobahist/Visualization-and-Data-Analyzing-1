{
 "cells": [
  {
   "cell_type": "code",
   "execution_count": 65,
   "metadata": {},
   "outputs": [
    {
     "data": {
      "text/html": [
       "'LC_COLLATE=Persian_Iran.1256;LC_CTYPE=Persian_Iran.1256;LC_MONETARY=Persian_Iran.1256;LC_NUMERIC=C;LC_TIME=Persian_Iran.1256'"
      ],
      "text/latex": [
       "'LC\\_COLLATE=Persian\\_Iran.1256;LC\\_CTYPE=Persian\\_Iran.1256;LC\\_MONETARY=Persian\\_Iran.1256;LC\\_NUMERIC=C;LC\\_TIME=Persian\\_Iran.1256'"
      ],
      "text/markdown": [
       "'LC_COLLATE=Persian_Iran.1256;LC_CTYPE=Persian_Iran.1256;LC_MONETARY=Persian_Iran.1256;LC_NUMERIC=C;LC_TIME=Persian_Iran.1256'"
      ],
      "text/plain": [
       "[1] \"LC_COLLATE=Persian_Iran.1256;LC_CTYPE=Persian_Iran.1256;LC_MONETARY=Persian_Iran.1256;LC_NUMERIC=C;LC_TIME=Persian_Iran.1256\""
      ]
     },
     "metadata": {},
     "output_type": "display_data"
    }
   ],
   "source": [
    "Sys.setlocale(\"LC_ALL\", 'Persian')\n",
    "\n",
    "options(scipen=999)\n",
    "\n",
    "\n",
    "library(plyr)\n",
    "library(caret)\n",
    "library(class)\n",
    "library(forecast)\n",
    "library(KernelKnn)\n",
    "library(kknn)"
   ]
  },
  {
   "cell_type": "code",
   "execution_count": 66,
   "metadata": {},
   "outputs": [],
   "source": [
    "# install.packages('plotmo')"
   ]
  },
  {
   "cell_type": "code",
   "execution_count": 76,
   "metadata": {},
   "outputs": [
    {
     "name": "stderr",
     "output_type": "stream",
     "text": [
      "Warning message:\n",
      "\"package 'psych' was built under R version 3.6.3\"\n",
      "Attaching package: 'psych'\n",
      "\n",
      "The following object is masked from 'package:plotrix':\n",
      "\n",
      "    rescale\n",
      "\n",
      "The following objects are masked from 'package:ggplot2':\n",
      "\n",
      "    %+%, alpha\n",
      "\n",
      "The following object is masked from 'package:randomForest':\n",
      "\n",
      "    outlier\n",
      "\n"
     ]
    }
   ],
   "source": [
    "library(rpart)\n",
    "library(rpart.plot)\n",
    "library(randomForest)\n",
    "library(adabag)\n",
    "library(gbm)\n",
    "library(plotmo)\n",
    "library(psych)"
   ]
  },
  {
   "cell_type": "code",
   "execution_count": null,
   "metadata": {},
   "outputs": [],
   "source": []
  },
  {
   "cell_type": "code",
   "execution_count": 83,
   "metadata": {},
   "outputs": [
    {
     "data": {
      "text/html": [
       "<table>\n",
       "<thead><tr><th scope=col>کد قرارداد</th><th scope=col>نوع قرارداد</th><th scope=col>استان</th><th scope=col>شهرستان</th><th scope=col>نوع ملک</th><th scope=col>منطقه شهرداری</th><th scope=col>نوع کاربری</th><th scope=col>مساحت</th><th scope=col>درصد</th><th scope=col>قیمت</th><th scope=col>قیمت یک مترمربع</th><th scope=col>عمر بنا</th><th scope=col>نوع اسکلت</th><th scope=col>تاریخ ثبت قرارداد</th><th scope=col>شش رقم نخست کد پستی</th></tr></thead>\n",
       "<tbody>\n",
       "\t<tr><td>19136381       </td><td>مبايعه نامه    </td><td>زنجان          </td><td>ابهر           </td><td>دستگاه آپارتمان</td><td>NA             </td><td>مسکوني         </td><td> 83.00         </td><td>100            </td><td> 3000000       </td><td>36144.58       </td><td>15             </td><td>فلزي           </td><td>1399/04/14     </td><td>456179         </td></tr>\n",
       "\t<tr><td>19140513       </td><td>مبايعه نامه    </td><td>زنجان          </td><td>ابهر           </td><td>دستگاه آپارتمان</td><td>NA             </td><td>مسکوني         </td><td> 90.00         </td><td>100            </td><td> 1080000       </td><td>12000.00       </td><td> 9             </td><td>فلزي           </td><td>1399/04/15     </td><td>456615         </td></tr>\n",
       "\t<tr><td>19192568       </td><td>مبايعه نامه    </td><td>زنجان          </td><td>ابهر           </td><td>دستگاه آپارتمان</td><td>NA             </td><td>مسکوني         </td><td> 49.00         </td><td>100            </td><td>10000000       </td><td>204081.63      </td><td>10             </td><td>بتوني          </td><td>1399/04/23     </td><td>456173         </td></tr>\n",
       "\t<tr><td>19202902       </td><td>مبايعه نامه    </td><td>زنجان          </td><td>ابهر           </td><td>دستگاه آپارتمان</td><td>NA             </td><td>مسکوني         </td><td> 80.92         </td><td>100            </td><td> 3240000       </td><td>40039.55       </td><td> 9             </td><td>فلزي           </td><td>1399/04/24     </td><td>456194         </td></tr>\n",
       "\t<tr><td>19203171       </td><td>مبايعه نامه    </td><td>زنجان          </td><td>ابهر           </td><td>دستگاه آپارتمان</td><td>NA             </td><td>مسکوني         </td><td> 80.00         </td><td>100            </td><td>  750000       </td><td>9375.00        </td><td>10             </td><td>بتوني          </td><td>1399/04/24     </td><td>456618         </td></tr>\n",
       "\t<tr><td>19052240       </td><td>مبايعه نامه    </td><td>مرکزي          </td><td>اراك           </td><td>دستگاه آپارتمان</td><td>NA             </td><td>مسکوني         </td><td>100.00         </td><td>100            </td><td> 5500000       </td><td>55000.00       </td><td> 0             </td><td>بتوني          </td><td>1399/04/01     </td><td>381333         </td></tr>\n",
       "</tbody>\n",
       "</table>\n"
      ],
      "text/latex": [
       "\\begin{tabular}{r|lllllllllllllll}\n",
       " کد قرارداد & نوع قرارداد & استان & شهرستان & نوع ملک & منطقه شهرداری & نوع کاربری & مساحت & درصد & قیمت & قیمت یک مترمربع & عمر بنا & نوع اسکلت & تاریخ ثبت قرارداد & شش رقم نخست کد پستی\\\\\n",
       "\\hline\n",
       "\t 19136381        & مبايعه نامه     & زنجان           & ابهر            & دستگاه آپارتمان & NA              & مسکوني          &  83.00          & 100             &  3000000        & 36144.58        & 15              & فلزي            & 1399/04/14      & 456179         \\\\\n",
       "\t 19140513        & مبايعه نامه     & زنجان           & ابهر            & دستگاه آپارتمان & NA              & مسکوني          &  90.00          & 100             &  1080000        & 12000.00        &  9              & فلزي            & 1399/04/15      & 456615         \\\\\n",
       "\t 19192568        & مبايعه نامه     & زنجان           & ابهر            & دستگاه آپارتمان & NA              & مسکوني          &  49.00          & 100             & 10000000        & 204081.63       & 10              & بتوني           & 1399/04/23      & 456173         \\\\\n",
       "\t 19202902        & مبايعه نامه     & زنجان           & ابهر            & دستگاه آپارتمان & NA              & مسکوني          &  80.92          & 100             &  3240000        & 40039.55        &  9              & فلزي            & 1399/04/24      & 456194         \\\\\n",
       "\t 19203171        & مبايعه نامه     & زنجان           & ابهر            & دستگاه آپارتمان & NA              & مسکوني          &  80.00          & 100             &   750000        & 9375.00         & 10              & بتوني           & 1399/04/24      & 456618         \\\\\n",
       "\t 19052240        & مبايعه نامه     & مرکزي           & اراك            & دستگاه آپارتمان & NA              & مسکوني          & 100.00          & 100             &  5500000        & 55000.00        &  0              & بتوني           & 1399/04/01      & 381333         \\\\\n",
       "\\end{tabular}\n"
      ],
      "text/markdown": [
       "\n",
       "| کد قرارداد | نوع قرارداد | استان | شهرستان | نوع ملک | منطقه شهرداری | نوع کاربری | مساحت | درصد | قیمت | قیمت یک مترمربع | عمر بنا | نوع اسکلت | تاریخ ثبت قرارداد | شش رقم نخست کد پستی |\n",
       "|---|---|---|---|---|---|---|---|---|---|---|---|---|---|---|\n",
       "| 19136381        | مبايعه نامه     | زنجان           | ابهر            | دستگاه آپارتمان | NA              | مسکوني          |  83.00          | 100             |  3000000        | 36144.58        | 15              | فلزي            | 1399/04/14      | 456179          |\n",
       "| 19140513        | مبايعه نامه     | زنجان           | ابهر            | دستگاه آپارتمان | NA              | مسکوني          |  90.00          | 100             |  1080000        | 12000.00        |  9              | فلزي            | 1399/04/15      | 456615          |\n",
       "| 19192568        | مبايعه نامه     | زنجان           | ابهر            | دستگاه آپارتمان | NA              | مسکوني          |  49.00          | 100             | 10000000        | 204081.63       | 10              | بتوني           | 1399/04/23      | 456173          |\n",
       "| 19202902        | مبايعه نامه     | زنجان           | ابهر            | دستگاه آپارتمان | NA              | مسکوني          |  80.92          | 100             |  3240000        | 40039.55        |  9              | فلزي            | 1399/04/24      | 456194          |\n",
       "| 19203171        | مبايعه نامه     | زنجان           | ابهر            | دستگاه آپارتمان | NA              | مسکوني          |  80.00          | 100             |   750000        | 9375.00         | 10              | بتوني           | 1399/04/24      | 456618          |\n",
       "| 19052240        | مبايعه نامه     | مرکزي           | اراك            | دستگاه آپارتمان | NA              | مسکوني          | 100.00          | 100             |  5500000        | 55000.00        |  0              | بتوني           | 1399/04/01      | 381333          |\n",
       "\n"
      ],
      "text/plain": [
       "  کد قرارداد نوع قرارداد استان شهرستان نوع ملک         منطقه شهرداري نوع کاربري\n",
       "1 19136381   مبايعه نامه زنجان ابهر    دستگاه آپارتمان NA            مسکوني    \n",
       "2 19140513   مبايعه نامه زنجان ابهر    دستگاه آپارتمان NA            مسکوني    \n",
       "3 19192568   مبايعه نامه زنجان ابهر    دستگاه آپارتمان NA            مسکوني    \n",
       "4 19202902   مبايعه نامه زنجان ابهر    دستگاه آپارتمان NA            مسکوني    \n",
       "5 19203171   مبايعه نامه زنجان ابهر    دستگاه آپارتمان NA            مسکوني    \n",
       "6 19052240   مبايعه نامه مرکزي اراك    دستگاه آپارتمان NA            مسکوني    \n",
       "  مساحت  درصد قيمت     قيمت يک مترمربع عمر بنا نوع اسکلت تاريخ ثبت قرارداد\n",
       "1  83.00 100   3000000 36144.58        15      فلزي      1399/04/14       \n",
       "2  90.00 100   1080000 12000.00         9      فلزي      1399/04/15       \n",
       "3  49.00 100  10000000 204081.63       10      بتوني     1399/04/23       \n",
       "4  80.92 100   3240000 40039.55         9      فلزي      1399/04/24       \n",
       "5  80.00 100    750000 9375.00         10      بتوني     1399/04/24       \n",
       "6 100.00 100   5500000 55000.00         0      بتوني     1399/04/01       \n",
       "  شش رقم نخست کد پستي\n",
       "1 456179             \n",
       "2 456615             \n",
       "3 456173             \n",
       "4 456194             \n",
       "5 456618             \n",
       "6 381333             "
      ]
     },
     "metadata": {},
     "output_type": "display_data"
    }
   ],
   "source": [
    "data = readxl::read_excel(path = 'E:\\\\Term 7\\\\Data Mining\\\\Ex2\\\\KNN\\\\Iran_Maskan_koll9904.xlsx')\n",
    "\n",
    "head(data)"
   ]
  },
  {
   "cell_type": "code",
   "execution_count": 84,
   "metadata": {},
   "outputs": [
    {
     "name": "stdout",
     "output_type": "stream",
     "text": [
      "tibble [43,133 x 15] (S3: tbl_df/tbl/data.frame)\n",
      " $ کد قرارداد         : chr [1:43133] \"19136381\" \"19140513\" \"19192568\" \"19202902\" ...\n",
      " $ نوع قرارداد        : chr [1:43133] \"مبايعه نامه\" \"مبايعه نامه\" \"مبايعه نامه\" \"مبايعه نامه\" ...\n",
      " $ استان              : chr [1:43133] \"زنجان\" \"زنجان\" \"زنجان\" \"زنجان\" ...\n",
      " $ شهرستان            : chr [1:43133] \"ابهر\" \"ابهر\" \"ابهر\" \"ابهر\" ...\n",
      " $ نوع ملک            : chr [1:43133] \"دستگاه آپارتمان\" \"دستگاه آپارتمان\" \"دستگاه آپارتمان\" \"دستگاه آپارتمان\" ...\n",
      " $ منطقه شهرداري      : num [1:43133] NA NA NA NA NA NA NA NA NA 4 ...\n",
      " $ نوع کاربري         : chr [1:43133] \"مسکوني\" \"مسکوني\" \"مسکوني\" \"مسکوني\" ...\n",
      " $ مساحت              : num [1:43133] 83 90 49 80.9 80 ...\n",
      " $ درصد               : chr [1:43133] \"100\" \"100\" \"100\" \"100\" ...\n",
      " $ قيمت               : num [1:43133] 3000000 1080000 10000000 3240000 750000 ...\n",
      " $ قيمت يک مترمربع    : chr [1:43133] \"36144.58\" \"12000.00\" \"204081.63\" \"40039.55\" ...\n",
      " $ عمر بنا            : num [1:43133] 15 9 10 9 10 0 1 6 19 0 ...\n",
      " $ نوع اسکلت          : chr [1:43133] \"فلزي\" \"فلزي\" \"بتوني\" \"فلزي\" ...\n",
      " $ تاريخ ثبت قرارداد  : chr [1:43133] \"1399/04/14\" \"1399/04/15\" \"1399/04/23\" \"1399/04/24\" ...\n",
      " $ شش رقم نخست کد پستي: chr [1:43133] \"456179\" \"456615\" \"456173\" \"456194\" ...\n"
     ]
    }
   ],
   "source": [
    "str(data)"
   ]
  },
  {
   "cell_type": "code",
   "execution_count": 85,
   "metadata": {},
   "outputs": [],
   "source": [
    "names(data)[1] = 'contrat_number'\n",
    "names(data)[2] = 'contract_type'\n",
    "names(data)[3] = 'state'\n",
    "names(data)[4] = 'city'\n",
    "names(data)[5] = 'property_type'\n",
    "names(data)[6] = 'district_number'\n",
    "names(data)[7] = 'usage_type'\n",
    "names(data)[8] = 'area'\n",
    "names(data)[9] = 'percentage'\n",
    "names(data)[10] = 'price'\n",
    "names(data)[11] = 'price_per_square'\n",
    "names(data)[12] = 'building_age'\n",
    "names(data)[13] = 'skeleton_type'\n",
    "names(data)[14] = 'contract_date'\n",
    "names(data)[15] = 'postal_code'\n",
    "data = data[!is.na(data$contrat_number),]\n",
    "data$percentage = as.numeric(data$percentage)\n",
    "data$price = ((as.numeric(data$price) / 10000) * data$percentage) / 100\n",
    "data$price_per_square = as.numeric(data$price_per_square) / 10000\n"
   ]
  },
  {
   "cell_type": "code",
   "execution_count": 86,
   "metadata": {},
   "outputs": [
    {
     "data": {
      "text/html": [
       "<table>\n",
       "<thead><tr><th scope=col>contrat_number</th><th scope=col>contract_type</th><th scope=col>state</th><th scope=col>city</th><th scope=col>property_type</th><th scope=col>district_number</th><th scope=col>usage_type</th><th scope=col>area</th><th scope=col>percentage</th><th scope=col>price</th><th scope=col>price_per_square</th><th scope=col>building_age</th><th scope=col>skeleton_type</th><th scope=col>contract_date</th><th scope=col>postal_code</th></tr></thead>\n",
       "<tbody>\n",
       "\t<tr><td>19048971       </td><td>مبايعه نامه    </td><td>خوزستان        </td><td>اهواز          </td><td>دستگاه آپارتمان</td><td>NA             </td><td>مسکوني         </td><td>   75.00       </td><td>100            </td><td>195            </td><td>2.600000       </td><td> 2             </td><td>بدون اسکلت     </td><td>1399/04/01     </td><td>617563         </td></tr>\n",
       "\t<tr><td>19052727       </td><td>مبايعه نامه    </td><td>خوزستان        </td><td>اهواز          </td><td>دستگاه آپارتمان</td><td> 2             </td><td>مسکوني         </td><td>   96.30       </td><td>100            </td><td>735            </td><td>7.632399       </td><td>13             </td><td>فلزي           </td><td>1399/04/01     </td><td>191181         </td></tr>\n",
       "\t<tr><td>19056655       </td><td>مبايعه نامه    </td><td>خوزستان        </td><td>اهواز          </td><td>دستگاه آپارتمان</td><td> 8             </td><td>مسکوني         </td><td>  111.60       </td><td>100            </td><td>585            </td><td>5.241935       </td><td> 8             </td><td>بتوني          </td><td>1399/04/02     </td><td>618493         </td></tr>\n",
       "\t<tr><td>19060434       </td><td>مبايعه نامه    </td><td>خوزستان        </td><td>اهواز          </td><td>دستگاه آپارتمان</td><td> 4             </td><td>مسکوني         </td><td>13313.00       </td><td>100            </td><td>400            </td><td>0.030046       </td><td>11             </td><td>فلزي           </td><td>1399/04/02     </td><td>613668         </td></tr>\n",
       "\t<tr><td>19061836       </td><td>مبايعه نامه    </td><td>خوزستان        </td><td>اهواز          </td><td>دستگاه آپارتمان</td><td> 5             </td><td>مسکوني         </td><td>   80.48       </td><td>100            </td><td>285            </td><td>3.541252       </td><td>11             </td><td>بتوني و فلزي   </td><td>1399/04/02     </td><td>613495         </td></tr>\n",
       "\t<tr><td>19061854       </td><td>مبايعه نامه    </td><td>خوزستان        </td><td>اهواز          </td><td>دستگاه آپارتمان</td><td> 3             </td><td>مسکوني         </td><td>   72.22       </td><td>100            </td><td>500            </td><td>6.923290       </td><td> 9             </td><td>بتوني و فلزي   </td><td>1399/04/02     </td><td>617763         </td></tr>\n",
       "</tbody>\n",
       "</table>\n"
      ],
      "text/latex": [
       "\\begin{tabular}{r|lllllllllllllll}\n",
       " contrat\\_number & contract\\_type & state & city & property\\_type & district\\_number & usage\\_type & area & percentage & price & price\\_per\\_square & building\\_age & skeleton\\_type & contract\\_date & postal\\_code\\\\\n",
       "\\hline\n",
       "\t 19048971        & مبايعه نامه     & خوزستان         & اهواز           & دستگاه آپارتمان & NA              & مسکوني          &    75.00        & 100             & 195             & 2.600000        &  2              & بدون اسکلت      & 1399/04/01      & 617563         \\\\\n",
       "\t 19052727        & مبايعه نامه     & خوزستان         & اهواز           & دستگاه آپارتمان &  2              & مسکوني          &    96.30        & 100             & 735             & 7.632399        & 13              & فلزي            & 1399/04/01      & 191181         \\\\\n",
       "\t 19056655        & مبايعه نامه     & خوزستان         & اهواز           & دستگاه آپارتمان &  8              & مسکوني          &   111.60        & 100             & 585             & 5.241935        &  8              & بتوني           & 1399/04/02      & 618493         \\\\\n",
       "\t 19060434        & مبايعه نامه     & خوزستان         & اهواز           & دستگاه آپارتمان &  4              & مسکوني          & 13313.00        & 100             & 400             & 0.030046        & 11              & فلزي            & 1399/04/02      & 613668         \\\\\n",
       "\t 19061836        & مبايعه نامه     & خوزستان         & اهواز           & دستگاه آپارتمان &  5              & مسکوني          &    80.48        & 100             & 285             & 3.541252        & 11              & بتوني و فلزي    & 1399/04/02      & 613495         \\\\\n",
       "\t 19061854        & مبايعه نامه     & خوزستان         & اهواز           & دستگاه آپارتمان &  3              & مسکوني          &    72.22        & 100             & 500             & 6.923290        &  9              & بتوني و فلزي    & 1399/04/02      & 617763         \\\\\n",
       "\\end{tabular}\n"
      ],
      "text/markdown": [
       "\n",
       "| contrat_number | contract_type | state | city | property_type | district_number | usage_type | area | percentage | price | price_per_square | building_age | skeleton_type | contract_date | postal_code |\n",
       "|---|---|---|---|---|---|---|---|---|---|---|---|---|---|---|\n",
       "| 19048971        | مبايعه نامه     | خوزستان         | اهواز           | دستگاه آپارتمان | NA              | مسکوني          |    75.00        | 100             | 195             | 2.600000        |  2              | بدون اسکلت      | 1399/04/01      | 617563          |\n",
       "| 19052727        | مبايعه نامه     | خوزستان         | اهواز           | دستگاه آپارتمان |  2              | مسکوني          |    96.30        | 100             | 735             | 7.632399        | 13              | فلزي            | 1399/04/01      | 191181          |\n",
       "| 19056655        | مبايعه نامه     | خوزستان         | اهواز           | دستگاه آپارتمان |  8              | مسکوني          |   111.60        | 100             | 585             | 5.241935        |  8              | بتوني           | 1399/04/02      | 618493          |\n",
       "| 19060434        | مبايعه نامه     | خوزستان         | اهواز           | دستگاه آپارتمان |  4              | مسکوني          | 13313.00        | 100             | 400             | 0.030046        | 11              | فلزي            | 1399/04/02      | 613668          |\n",
       "| 19061836        | مبايعه نامه     | خوزستان         | اهواز           | دستگاه آپارتمان |  5              | مسکوني          |    80.48        | 100             | 285             | 3.541252        | 11              | بتوني و فلزي    | 1399/04/02      | 613495          |\n",
       "| 19061854        | مبايعه نامه     | خوزستان         | اهواز           | دستگاه آپارتمان |  3              | مسکوني          |    72.22        | 100             | 500             | 6.923290        |  9              | بتوني و فلزي    | 1399/04/02      | 617763          |\n",
       "\n"
      ],
      "text/plain": [
       "  contrat_number contract_type state   city  property_type   district_number\n",
       "1 19048971       مبايعه نامه   خوزستان اهواز دستگاه آپارتمان NA             \n",
       "2 19052727       مبايعه نامه   خوزستان اهواز دستگاه آپارتمان  2             \n",
       "3 19056655       مبايعه نامه   خوزستان اهواز دستگاه آپارتمان  8             \n",
       "4 19060434       مبايعه نامه   خوزستان اهواز دستگاه آپارتمان  4             \n",
       "5 19061836       مبايعه نامه   خوزستان اهواز دستگاه آپارتمان  5             \n",
       "6 19061854       مبايعه نامه   خوزستان اهواز دستگاه آپارتمان  3             \n",
       "  usage_type area     percentage price price_per_square building_age\n",
       "1 مسکوني        75.00 100        195   2.600000          2          \n",
       "2 مسکوني        96.30 100        735   7.632399         13          \n",
       "3 مسکوني       111.60 100        585   5.241935          8          \n",
       "4 مسکوني     13313.00 100        400   0.030046         11          \n",
       "5 مسکوني        80.48 100        285   3.541252         11          \n",
       "6 مسکوني        72.22 100        500   6.923290          9          \n",
       "  skeleton_type contract_date postal_code\n",
       "1 بدون اسکلت    1399/04/01    617563     \n",
       "2 فلزي          1399/04/01    191181     \n",
       "3 بتوني         1399/04/02    618493     \n",
       "4 فلزي          1399/04/02    613668     \n",
       "5 بتوني و فلزي  1399/04/02    613495     \n",
       "6 بتوني و فلزي  1399/04/02    617763     "
      ]
     },
     "metadata": {},
     "output_type": "display_data"
    }
   ],
   "source": [
    "khoozestan = data[data$state == 'خوزستان',]\n",
    "\n",
    "head(khoozestan)"
   ]
  },
  {
   "cell_type": "code",
   "execution_count": 87,
   "metadata": {},
   "outputs": [
    {
     "data": {
      "text/plain": [
       " contrat_number     contract_type         state               city          \n",
       " Length:768         Length:768         Length:768         Length:768        \n",
       " Class :character   Class :character   Class :character   Class :character  \n",
       " Mode  :character   Mode  :character   Mode  :character   Mode  :character  \n",
       "                                                                            \n",
       "                                                                            \n",
       "                                                                            \n",
       "                                                                            \n",
       " property_type      district_number   usage_type             area         \n",
       " Length:768         Min.   : 1.000   Length:768         Min.   :    1.00  \n",
       " Class :character   1st Qu.: 2.000   Class :character   1st Qu.:   76.15  \n",
       " Mode  :character   Median : 2.000   Mode  :character   Median :   90.00  \n",
       "                    Mean   : 2.492                      Mean   :  323.55  \n",
       "                    3rd Qu.: 2.000                      3rd Qu.:  110.00  \n",
       "                    Max.   :22.000                      Max.   :68085.00  \n",
       "                    NA's   :522                                           \n",
       "   percentage         price           price_per_square     building_age  \n",
       " Min.   :  0.01   Min.   :   0.0142   Min.   :  0.00016   Min.   : 0.00  \n",
       " 1st Qu.:100.00   1st Qu.: 230.5625   1st Qu.:  2.74057   1st Qu.: 2.00  \n",
       " Median :100.00   Median : 338.0000   Median :  3.77690   Median : 6.00  \n",
       " Mean   : 99.62   Mean   : 404.2294   Mean   :  4.35780   Mean   : 7.06  \n",
       " 3rd Qu.:100.00   3rd Qu.: 510.0000   3rd Qu.:  4.90325   3rd Qu.: 9.00  \n",
       " Max.   :100.00   Max.   :2255.0000   Max.   :225.00000   Max.   :60.00  \n",
       "                                                                         \n",
       " skeleton_type      contract_date      postal_code       \n",
       " Length:768         Length:768         Length:768        \n",
       " Class :character   Class :character   Class :character  \n",
       " Mode  :character   Mode  :character   Mode  :character  \n",
       "                                                         \n",
       "                                                         \n",
       "                                                         \n",
       "                                                         "
      ]
     },
     "metadata": {},
     "output_type": "display_data"
    }
   ],
   "source": [
    "summary(khoozestan)"
   ]
  },
  {
   "cell_type": "markdown",
   "metadata": {},
   "source": [
    "#### 1:contrat_number:no_use\n",
    "#### 2:contract_type:all_same\n",
    "#### 3:state:all_same\n",
    "#### 5:property_type:all_same\n",
    "#### 6:district_number:522 NA out of 768 records\n",
    "#### 7:usage_type:all_same\n",
    "#### 9:percentage:multiplied_in_price\n",
    "#### 11:price_per_square:should not be used in prediction\n",
    "#### 14:contract_date:no_use"
   ]
  },
  {
   "cell_type": "code",
   "execution_count": 88,
   "metadata": {},
   "outputs": [
    {
     "data": {
      "text/html": [
       "<table>\n",
       "<thead><tr><th scope=col>city</th><th scope=col>area</th><th scope=col>price</th><th scope=col>building_age</th><th scope=col>skeleton_type</th><th scope=col>postal_code</th></tr></thead>\n",
       "<tbody>\n",
       "\t<tr><td>اهواز       </td><td>   75.00    </td><td>195         </td><td> 2          </td><td>بدون اسکلت  </td><td>617563      </td></tr>\n",
       "\t<tr><td>اهواز       </td><td>   96.30    </td><td>735         </td><td>13          </td><td>فلزي        </td><td>191181      </td></tr>\n",
       "\t<tr><td>اهواز       </td><td>  111.60    </td><td>585         </td><td> 8          </td><td>بتوني       </td><td>618493      </td></tr>\n",
       "\t<tr><td>اهواز       </td><td>13313.00    </td><td>400         </td><td>11          </td><td>فلزي        </td><td>613668      </td></tr>\n",
       "\t<tr><td>اهواز       </td><td>   80.48    </td><td>285         </td><td>11          </td><td>بتوني و فلزي</td><td>613495      </td></tr>\n",
       "\t<tr><td>اهواز       </td><td>   72.22    </td><td>500         </td><td> 9          </td><td>بتوني و فلزي</td><td>617763      </td></tr>\n",
       "</tbody>\n",
       "</table>\n"
      ],
      "text/latex": [
       "\\begin{tabular}{r|llllll}\n",
       " city & area & price & building\\_age & skeleton\\_type & postal\\_code\\\\\n",
       "\\hline\n",
       "\t اهواز        &    75.00     & 195          &  2           & بدون اسکلت   & 617563      \\\\\n",
       "\t اهواز        &    96.30     & 735          & 13           & فلزي         & 191181      \\\\\n",
       "\t اهواز        &   111.60     & 585          &  8           & بتوني        & 618493      \\\\\n",
       "\t اهواز        & 13313.00     & 400          & 11           & فلزي         & 613668      \\\\\n",
       "\t اهواز        &    80.48     & 285          & 11           & بتوني و فلزي & 613495      \\\\\n",
       "\t اهواز        &    72.22     & 500          &  9           & بتوني و فلزي & 617763      \\\\\n",
       "\\end{tabular}\n"
      ],
      "text/markdown": [
       "\n",
       "| city | area | price | building_age | skeleton_type | postal_code |\n",
       "|---|---|---|---|---|---|\n",
       "| اهواز        |    75.00     | 195          |  2           | بدون اسکلت   | 617563       |\n",
       "| اهواز        |    96.30     | 735          | 13           | فلزي         | 191181       |\n",
       "| اهواز        |   111.60     | 585          |  8           | بتوني        | 618493       |\n",
       "| اهواز        | 13313.00     | 400          | 11           | فلزي         | 613668       |\n",
       "| اهواز        |    80.48     | 285          | 11           | بتوني و فلزي | 613495       |\n",
       "| اهواز        |    72.22     | 500          |  9           | بتوني و فلزي | 617763       |\n",
       "\n"
      ],
      "text/plain": [
       "  city  area     price building_age skeleton_type postal_code\n",
       "1 اهواز    75.00 195    2           بدون اسکلت    617563     \n",
       "2 اهواز    96.30 735   13           فلزي          191181     \n",
       "3 اهواز   111.60 585    8           بتوني         618493     \n",
       "4 اهواز 13313.00 400   11           فلزي          613668     \n",
       "5 اهواز    80.48 285   11           بتوني و فلزي  613495     \n",
       "6 اهواز    72.22 500    9           بتوني و فلزي  617763     "
      ]
     },
     "metadata": {},
     "output_type": "display_data"
    }
   ],
   "source": [
    "khoozestan = khoozestan[-c(1,2,3,5,6,7,9,11,14)]\n",
    "\n",
    "head(khoozestan)"
   ]
  },
  {
   "cell_type": "code",
   "execution_count": 89,
   "metadata": {},
   "outputs": [
    {
     "data": {
      "text/html": [
       "<ol class=list-inline>\n",
       "\t<li>'اهواز'</li>\n",
       "\t<li>'ايذه'</li>\n",
       "\t<li>'آبادان'</li>\n",
       "\t<li>'بندر امام خمینی'</li>\n",
       "\t<li>'بندر ماهشهر'</li>\n",
       "\t<li>'بهبهان'</li>\n",
       "\t<li>'چمران'</li>\n",
       "\t<li>'خرمشهر'</li>\n",
       "\t<li>'دزفول'</li>\n",
       "\t<li>'رامشير'</li>\n",
       "\t<li>'شوش'</li>\n",
       "\t<li>'شوشتر'</li>\n",
       "\t<li>'شيبان'</li>\n",
       "\t<li>'مسجد سليمان'</li>\n",
       "\t<li>'هنديجان'</li>\n",
       "</ol>\n"
      ],
      "text/latex": [
       "\\begin{enumerate*}\n",
       "\\item 'اهواز'\n",
       "\\item 'ايذه'\n",
       "\\item 'آبادان'\n",
       "\\item 'بندر امام خمینی'\n",
       "\\item 'بندر ماهشهر'\n",
       "\\item 'بهبهان'\n",
       "\\item 'چمران'\n",
       "\\item 'خرمشهر'\n",
       "\\item 'دزفول'\n",
       "\\item 'رامشير'\n",
       "\\item 'شوش'\n",
       "\\item 'شوشتر'\n",
       "\\item 'شيبان'\n",
       "\\item 'مسجد سليمان'\n",
       "\\item 'هنديجان'\n",
       "\\end{enumerate*}\n"
      ],
      "text/markdown": [
       "1. 'اهواز'\n",
       "2. 'ايذه'\n",
       "3. 'آبادان'\n",
       "4. 'بندر امام خمینی'\n",
       "5. 'بندر ماهشهر'\n",
       "6. 'بهبهان'\n",
       "7. 'چمران'\n",
       "8. 'خرمشهر'\n",
       "9. 'دزفول'\n",
       "10. 'رامشير'\n",
       "11. 'شوش'\n",
       "12. 'شوشتر'\n",
       "13. 'شيبان'\n",
       "14. 'مسجد سليمان'\n",
       "15. 'هنديجان'\n",
       "\n",
       "\n"
      ],
      "text/plain": [
       " [1] \"اهواز\"           \"ايذه\"            \"آبادان\"          \"بندر امام خميني\"\n",
       " [5] \"بندر ماهشهر\"     \"بهبهان\"          \"چمران\"           \"خرمشهر\"         \n",
       " [9] \"دزفول\"           \"رامشير\"          \"شوش\"             \"شوشتر\"          \n",
       "[13] \"شيبان\"           \"مسجد سليمان\"     \"هنديجان\"        "
      ]
     },
     "metadata": {},
     "output_type": "display_data"
    }
   ],
   "source": [
    "city before mapping"
   ]
  },
  {
   "cell_type": "code",
   "execution_count": 92,
   "metadata": {},
   "outputs": [
    {
     "data": {
      "text/html": [
       "<ol class=list-inline>\n",
       "\t<li>'ahvaz'</li>\n",
       "\t<li>'izeh'</li>\n",
       "\t<li>'abadan'</li>\n",
       "\t<li>'bandare_emam_khomeini'</li>\n",
       "\t<li>'bandare_mahshahr'</li>\n",
       "\t<li>'behbahan'</li>\n",
       "\t<li>'chamran'</li>\n",
       "\t<li>'khorramshahr'</li>\n",
       "\t<li>'dezfool'</li>\n",
       "\t<li>'raamshir'</li>\n",
       "\t<li>'shoosh'</li>\n",
       "\t<li>'shooshtar'</li>\n",
       "\t<li>'shiban'</li>\n",
       "\t<li>'masjed_soleiman'</li>\n",
       "\t<li>'handijan'</li>\n",
       "</ol>\n"
      ],
      "text/latex": [
       "\\begin{enumerate*}\n",
       "\\item 'ahvaz'\n",
       "\\item 'izeh'\n",
       "\\item 'abadan'\n",
       "\\item 'bandare\\_emam\\_khomeini'\n",
       "\\item 'bandare\\_mahshahr'\n",
       "\\item 'behbahan'\n",
       "\\item 'chamran'\n",
       "\\item 'khorramshahr'\n",
       "\\item 'dezfool'\n",
       "\\item 'raamshir'\n",
       "\\item 'shoosh'\n",
       "\\item 'shooshtar'\n",
       "\\item 'shiban'\n",
       "\\item 'masjed\\_soleiman'\n",
       "\\item 'handijan'\n",
       "\\end{enumerate*}\n"
      ],
      "text/markdown": [
       "1. 'ahvaz'\n",
       "2. 'izeh'\n",
       "3. 'abadan'\n",
       "4. 'bandare_emam_khomeini'\n",
       "5. 'bandare_mahshahr'\n",
       "6. 'behbahan'\n",
       "7. 'chamran'\n",
       "8. 'khorramshahr'\n",
       "9. 'dezfool'\n",
       "10. 'raamshir'\n",
       "11. 'shoosh'\n",
       "12. 'shooshtar'\n",
       "13. 'shiban'\n",
       "14. 'masjed_soleiman'\n",
       "15. 'handijan'\n",
       "\n",
       "\n"
      ],
      "text/plain": [
       " [1] \"ahvaz\"                 \"izeh\"                  \"abadan\"               \n",
       " [4] \"bandare_emam_khomeini\" \"bandare_mahshahr\"      \"behbahan\"             \n",
       " [7] \"chamran\"               \"khorramshahr\"          \"dezfool\"              \n",
       "[10] \"raamshir\"              \"shoosh\"                \"shooshtar\"            \n",
       "[13] \"shiban\"                \"masjed_soleiman\"       \"handijan\"             "
      ]
     },
     "metadata": {},
     "output_type": "display_data"
    }
   ],
   "source": [
    "city after mapping"
   ]
  },
  {
   "cell_type": "code",
   "execution_count": 90,
   "metadata": {},
   "outputs": [
    {
     "data": {
      "text/html": [
       "<ol class=list-inline>\n",
       "\t<li>'بدون اسکلت'</li>\n",
       "\t<li>'فلزی'</li>\n",
       "\t<li>'بتونی'</li>\n",
       "\t<li>'بتونی و فلزی'</li>\n",
       "\t<li>'آجر یا بلوک سیمانی'</li>\n",
       "\t<li>'خشتی یا گلی'</li>\n",
       "</ol>\n"
      ],
      "text/latex": [
       "\\begin{enumerate*}\n",
       "\\item 'بدون اسکلت'\n",
       "\\item 'فلزی'\n",
       "\\item 'بتونی'\n",
       "\\item 'بتونی و فلزی'\n",
       "\\item 'آجر یا بلوک سیمانی'\n",
       "\\item 'خشتی یا گلی'\n",
       "\\end{enumerate*}\n"
      ],
      "text/markdown": [
       "1. 'بدون اسکلت'\n",
       "2. 'فلزی'\n",
       "3. 'بتونی'\n",
       "4. 'بتونی و فلزی'\n",
       "5. 'آجر یا بلوک سیمانی'\n",
       "6. 'خشتی یا گلی'\n",
       "\n",
       "\n"
      ],
      "text/plain": [
       "[1] \"بدون اسکلت\"         \"فلزي\"               \"بتوني\"             \n",
       "[4] \"بتوني و فلزي\"       \"آجر يا بلوک سيماني\" \"خشتي يا گلي\"       "
      ]
     },
     "metadata": {},
     "output_type": "display_data"
    }
   ],
   "source": [
    "skeleton_type before mapping"
   ]
  },
  {
   "cell_type": "code",
   "execution_count": 93,
   "metadata": {},
   "outputs": [
    {
     "data": {
      "text/html": [
       "<ol class=list-inline>\n",
       "\t<li>'none'</li>\n",
       "\t<li>'metal'</li>\n",
       "\t<li>'concrete'</li>\n",
       "\t<li>'metal_concrete'</li>\n",
       "\t<li>'brick_or_cement_block'</li>\n",
       "\t<li>'adobe_or_clay'</li>\n",
       "</ol>\n"
      ],
      "text/latex": [
       "\\begin{enumerate*}\n",
       "\\item 'none'\n",
       "\\item 'metal'\n",
       "\\item 'concrete'\n",
       "\\item 'metal\\_concrete'\n",
       "\\item 'brick\\_or\\_cement\\_block'\n",
       "\\item 'adobe\\_or\\_clay'\n",
       "\\end{enumerate*}\n"
      ],
      "text/markdown": [
       "1. 'none'\n",
       "2. 'metal'\n",
       "3. 'concrete'\n",
       "4. 'metal_concrete'\n",
       "5. 'brick_or_cement_block'\n",
       "6. 'adobe_or_clay'\n",
       "\n",
       "\n"
      ],
      "text/plain": [
       "[1] \"none\"                  \"metal\"                 \"concrete\"             \n",
       "[4] \"metal_concrete\"        \"brick_or_cement_block\" \"adobe_or_clay\"        "
      ]
     },
     "metadata": {},
     "output_type": "display_data"
    }
   ],
   "source": [
    "skeleton_type after mapping"
   ]
  },
  {
   "cell_type": "code",
   "execution_count": 91,
   "metadata": {},
   "outputs": [
    {
     "data": {
      "text/html": [
       "<table>\n",
       "<thead><tr><th scope=col>city</th><th scope=col>area</th><th scope=col>price</th><th scope=col>building_age</th><th scope=col>skeleton_type</th><th scope=col>postal_code</th></tr></thead>\n",
       "<tbody>\n",
       "\t<tr><td>ahvaz         </td><td>   75.00      </td><td>195           </td><td> 2            </td><td>none          </td><td>617563        </td></tr>\n",
       "\t<tr><td>ahvaz         </td><td>   96.30      </td><td>735           </td><td>13            </td><td>metal         </td><td>191181        </td></tr>\n",
       "\t<tr><td>ahvaz         </td><td>  111.60      </td><td>585           </td><td> 8            </td><td>concrete      </td><td>618493        </td></tr>\n",
       "\t<tr><td>ahvaz         </td><td>13313.00      </td><td>400           </td><td>11            </td><td>metal         </td><td>613668        </td></tr>\n",
       "\t<tr><td>ahvaz         </td><td>   80.48      </td><td>285           </td><td>11            </td><td>metal_concrete</td><td>613495        </td></tr>\n",
       "\t<tr><td>ahvaz         </td><td>   72.22      </td><td>500           </td><td> 9            </td><td>metal_concrete</td><td>617763        </td></tr>\n",
       "</tbody>\n",
       "</table>\n"
      ],
      "text/latex": [
       "\\begin{tabular}{r|llllll}\n",
       " city & area & price & building\\_age & skeleton\\_type & postal\\_code\\\\\n",
       "\\hline\n",
       "\t ahvaz          &    75.00       & 195            &  2             & none           & 617563        \\\\\n",
       "\t ahvaz          &    96.30       & 735            & 13             & metal          & 191181        \\\\\n",
       "\t ahvaz          &   111.60       & 585            &  8             & concrete       & 618493        \\\\\n",
       "\t ahvaz          & 13313.00       & 400            & 11             & metal          & 613668        \\\\\n",
       "\t ahvaz            &    80.48         & 285              & 11               & metal\\_concrete & 613495          \\\\\n",
       "\t ahvaz            &    72.22         & 500              &  9               & metal\\_concrete & 617763          \\\\\n",
       "\\end{tabular}\n"
      ],
      "text/markdown": [
       "\n",
       "| city | area | price | building_age | skeleton_type | postal_code |\n",
       "|---|---|---|---|---|---|\n",
       "| ahvaz          |    75.00       | 195            |  2             | none           | 617563         |\n",
       "| ahvaz          |    96.30       | 735            | 13             | metal          | 191181         |\n",
       "| ahvaz          |   111.60       | 585            |  8             | concrete       | 618493         |\n",
       "| ahvaz          | 13313.00       | 400            | 11             | metal          | 613668         |\n",
       "| ahvaz          |    80.48       | 285            | 11             | metal_concrete | 613495         |\n",
       "| ahvaz          |    72.22       | 500            |  9             | metal_concrete | 617763         |\n",
       "\n"
      ],
      "text/plain": [
       "  city  area     price building_age skeleton_type  postal_code\n",
       "1 ahvaz    75.00 195    2           none           617563     \n",
       "2 ahvaz    96.30 735   13           metal          191181     \n",
       "3 ahvaz   111.60 585    8           concrete       618493     \n",
       "4 ahvaz 13313.00 400   11           metal          613668     \n",
       "5 ahvaz    80.48 285   11           metal_concrete 613495     \n",
       "6 ahvaz    72.22 500    9           metal_concrete 617763     "
      ]
     },
     "metadata": {},
     "output_type": "display_data"
    }
   ],
   "source": [
    "khoozestan$city = mapvalues(khoozestan$city, \n",
    "          from=c('اهواز','ايذه','آبادان',unique(khoozestan$city)[4],'بندر ماهشهر','بهبهان','چمران','خرمشهر','دزفول','رامشير','شوش','شوشتر','شيبان','مسجد سليمان','هنديجان'), \n",
    "          to=c('ahvaz','izeh','abadan','bandare_emam_khomeini','bandare_mahshahr','behbahan','chamran',\n",
    "               'khorramshahr','dezfool','raamshir','shoosh','shooshtar','shiban','masjed_soleiman','handijan'))\n",
    "\n",
    "khoozestan$skeleton_type = mapvalues(khoozestan$skeleton_type, \n",
    "          from=c(unique(khoozestan$skeleton_type)[1],unique(khoozestan$skeleton_type)[2],unique(khoozestan$skeleton_type)[3],unique(khoozestan$skeleton_type)[4],unique(khoozestan$skeleton_type)[5],unique(khoozestan$skeleton_type)[6]), \n",
    "          to=c('none','metal','concrete','metal_concrete','brick_or_cement_block','adobe_or_clay'))\n",
    "\n",
    "head(khoozestan)"
   ]
  },
  {
   "cell_type": "code",
   "execution_count": 82,
   "metadata": {},
   "outputs": [
    {
     "data": {
      "image/png": "[encoded data removed]",
      "text/plain": [
       "plot without title"
      ]
     },
     "metadata": {},
     "output_type": "display_data"
    }
   ],
   "source": [
    "pairs.panels(khoozestan)"
   ]
  },
  {
   "cell_type": "code",
   "execution_count": 20,
   "metadata": {},
   "outputs": [
    {
     "data": {
      "text/html": [
       "<ol class=list-inline>\n",
       "\t<li>768</li>\n",
       "\t<li>6</li>\n",
       "</ol>\n"
      ],
      "text/latex": [
       "\\begin{enumerate*}\n",
       "\\item 768\n",
       "\\item 6\n",
       "\\end{enumerate*}\n"
      ],
      "text/markdown": [
       "1. 768\n",
       "2. 6\n",
       "\n",
       "\n"
      ],
      "text/plain": [
       "[1] 768   6"
      ]
     },
     "metadata": {},
     "output_type": "display_data"
    }
   ],
   "source": [
    "dim(khoozestan)"
   ]
  },
  {
   "cell_type": "code",
   "execution_count": null,
   "metadata": {},
   "outputs": [],
   "source": []
  },
  {
   "cell_type": "code",
   "execution_count": 21,
   "metadata": {},
   "outputs": [],
   "source": [
    "dummy_khoozestan = data.frame(predict(dummyVars(~.,khoozestan),khoozestan))"
   ]
  },
  {
   "cell_type": "code",
   "execution_count": 22,
   "metadata": {},
   "outputs": [
    {
     "name": "stdout",
     "output_type": "stream",
     "text": [
      "'data.frame':\t768 obs. of  327 variables:\n",
      " $ cityabadan                        : num  0 0 0 0 0 0 0 0 0 0 ...\n",
      " $ cityahvaz                         : num  1 1 1 1 1 1 1 1 1 1 ...\n",
      " $ citybandare_emam_khomeini         : num  0 0 0 0 0 0 0 0 0 0 ...\n",
      " $ citybandare_mahshahr              : num  0 0 0 0 0 0 0 0 0 0 ...\n",
      " $ citybehbahan                      : num  0 0 0 0 0 0 0 0 0 0 ...\n",
      " $ citychamran                       : num  0 0 0 0 0 0 0 0 0 0 ...\n",
      " $ citydezfool                       : num  0 0 0 0 0 0 0 0 0 0 ...\n",
      " $ cityhandijan                      : num  0 0 0 0 0 0 0 0 0 0 ...\n",
      " $ cityizeh                          : num  0 0 0 0 0 0 0 0 0 0 ...\n",
      " $ citykhorramshahr                  : num  0 0 0 0 0 0 0 0 0 0 ...\n",
      " $ citymasjed_soleiman               : num  0 0 0 0 0 0 0 0 0 0 ...\n",
      " $ cityraamshir                      : num  0 0 0 0 0 0 0 0 0 0 ...\n",
      " $ cityshiban                        : num  0 0 0 0 0 0 0 0 0 0 ...\n",
      " $ cityshoosh                        : num  0 0 0 0 0 0 0 0 0 0 ...\n",
      " $ cityshooshtar                     : num  0 0 0 0 0 0 0 0 0 0 ...\n",
      " $ area                              : num  75 96.3 111.6 13313 80.5 ...\n",
      " $ price                             : num  195 735 585 400 285 ...\n",
      " $ building_age                      : num  2 13 8 11 11 9 3 1 2 2 ...\n",
      " $ skeleton_typeadobe_or_clay        : num  0 0 0 0 0 0 0 0 0 0 ...\n",
      " $ skeleton_typebrick_or_cement_block: num  0 0 0 0 0 0 0 1 0 0 ...\n",
      " $ skeleton_typeconcrete             : num  0 0 1 0 0 0 0 0 1 0 ...\n",
      " $ skeleton_typemetal                : num  0 1 0 1 0 0 1 0 0 0 ...\n",
      " $ skeleton_typemetal_concrete       : num  0 0 0 0 1 1 0 0 0 0 ...\n",
      " $ skeleton_typenone                 : num  1 0 0 0 0 0 0 0 0 1 ...\n",
      " $ postal_code181757                 : num  0 0 0 0 0 0 0 0 0 0 ...\n",
      " $ postal_code191181                 : num  0 1 0 0 0 0 0 0 0 0 ...\n",
      " $ postal_code613373                 : num  0 0 0 0 0 0 0 0 0 0 ...\n",
      " $ postal_code613388                 : num  0 0 0 0 0 0 0 0 0 0 ...\n",
      " $ postal_code613493                 : num  0 0 0 0 0 0 0 0 0 0 ...\n",
      " $ postal_code613495                 : num  0 0 0 0 1 0 0 0 0 0 ...\n",
      " $ postal_code613664                 : num  0 0 0 0 0 0 0 1 0 0 ...\n",
      " $ postal_code613668                 : num  0 0 0 1 0 0 0 0 0 0 ...\n",
      " $ postal_code613669                 : num  0 0 0 0 0 0 0 0 0 0 ...\n",
      " $ postal_code613674                 : num  0 0 0 0 0 0 0 0 0 0 ...\n",
      " $ postal_code613682                 : num  0 0 0 0 0 0 0 0 0 0 ...\n",
      " $ postal_code613691                 : num  0 0 0 0 0 0 0 0 0 0 ...\n",
      " $ postal_code613697                 : num  0 0 0 0 0 0 0 0 0 0 ...\n",
      " $ postal_code613761                 : num  0 0 0 0 0 0 0 0 0 0 ...\n",
      " $ postal_code613783                 : num  0 0 0 0 0 0 0 0 0 0 ...\n",
      " $ postal_code613858                 : num  0 0 0 0 0 0 0 0 0 0 ...\n",
      " $ postal_code613865                 : num  0 0 0 0 0 0 0 0 0 0 ...\n",
      " $ postal_code613866                 : num  0 0 0 0 0 0 0 0 0 0 ...\n",
      " $ postal_code613868                 : num  0 0 0 0 0 0 0 0 0 0 ...\n",
      " $ postal_code613873                 : num  0 0 0 0 0 0 0 0 0 1 ...\n",
      " $ postal_code613877                 : num  0 0 0 0 0 0 0 0 0 0 ...\n",
      " $ postal_code613881                 : num  0 0 0 0 0 0 0 0 0 0 ...\n",
      " $ postal_code613968                 : num  0 0 0 0 0 0 0 0 0 0 ...\n",
      " $ postal_code613975                 : num  0 0 0 0 0 0 0 0 0 0 ...\n",
      " $ postal_code614398                 : num  0 0 0 0 0 0 0 0 0 0 ...\n",
      " $ postal_code614464                 : num  0 0 0 0 0 0 0 0 0 0 ...\n",
      " $ postal_code614497                 : num  0 0 0 0 0 0 0 0 0 0 ...\n",
      " $ postal_code614498                 : num  0 0 0 0 0 0 0 0 0 0 ...\n",
      " $ postal_code614818                 : num  0 0 0 0 0 0 0 0 0 0 ...\n",
      " $ postal_code615167                 : num  0 0 0 0 0 0 0 0 0 0 ...\n",
      " $ postal_code615377                 : num  0 0 0 0 0 0 0 0 0 0 ...\n",
      " $ postal_code615381                 : num  0 0 0 0 0 0 0 0 0 0 ...\n",
      " $ postal_code615458                 : num  0 0 0 0 0 0 0 0 0 0 ...\n",
      " $ postal_code615468                 : num  0 0 0 0 0 0 0 0 0 0 ...\n",
      " $ postal_code615488                 : num  0 0 0 0 0 0 1 0 0 0 ...\n",
      " $ postal_code615568                 : num  0 0 0 0 0 0 0 0 0 0 ...\n",
      " $ postal_code615569                 : num  0 0 0 0 0 0 0 0 0 0 ...\n",
      " $ postal_code615573                 : num  0 0 0 0 0 0 0 0 0 0 ...\n",
      " $ postal_code615574                 : num  0 0 0 0 0 0 0 0 1 0 ...\n",
      " $ postal_code615583                 : num  0 0 0 0 0 0 0 0 0 0 ...\n",
      " $ postal_code615591                 : num  0 0 0 0 0 0 0 0 0 0 ...\n",
      " $ postal_code615896                 : num  0 0 0 0 0 0 0 0 0 0 ...\n",
      " $ postal_code616388                 : num  0 0 0 0 0 0 0 0 0 0 ...\n",
      " $ postal_code616394                 : num  0 0 0 0 0 0 0 0 0 0 ...\n",
      " $ postal_code616395                 : num  0 0 0 0 0 0 0 0 0 0 ...\n",
      " $ postal_code616396                 : num  0 0 0 0 0 0 0 0 0 0 ...\n",
      " $ postal_code616397                 : num  0 0 0 0 0 0 0 0 0 0 ...\n",
      " $ postal_code616463                 : num  0 0 0 0 0 0 0 0 0 0 ...\n",
      " $ postal_code616464                 : num  0 0 0 0 0 0 0 0 0 0 ...\n",
      " $ postal_code616478                 : num  0 0 0 0 0 0 0 0 0 0 ...\n",
      " $ postal_code616488                 : num  0 0 0 0 0 0 0 0 0 0 ...\n",
      " $ postal_code616571                 : num  0 0 0 0 0 0 0 0 0 0 ...\n",
      " $ postal_code616576                 : num  0 0 0 0 0 0 0 0 0 0 ...\n",
      " $ postal_code617563                 : num  1 0 0 0 0 0 0 0 0 0 ...\n",
      " $ postal_code617596                 : num  0 0 0 0 0 0 0 0 0 0 ...\n",
      " $ postal_code617763                 : num  0 0 0 0 0 1 0 0 0 0 ...\n",
      " $ postal_code617781                 : num  0 0 0 0 0 0 0 0 0 0 ...\n",
      " $ postal_code617797                 : num  0 0 0 0 0 0 0 0 0 0 ...\n",
      " $ postal_code618389                 : num  0 0 0 0 0 0 0 0 0 0 ...\n",
      " $ postal_code618397                 : num  0 0 0 0 0 0 0 0 0 0 ...\n",
      " $ postal_code618398                 : num  0 0 0 0 0 0 0 0 0 0 ...\n",
      " $ postal_code618484                 : num  0 0 0 0 0 0 0 0 0 0 ...\n",
      " $ postal_code618491                 : num  0 0 0 0 0 0 0 0 0 0 ...\n",
      " $ postal_code618493                 : num  0 0 1 0 0 0 0 0 0 0 ...\n",
      " $ postal_code618576                 : num  0 0 0 0 0 0 0 0 0 0 ...\n",
      " $ postal_code618761                 : num  0 0 0 0 0 0 0 0 0 0 ...\n",
      " $ postal_code618763                 : num  0 0 0 0 0 0 0 0 0 0 ...\n",
      " $ postal_code618776                 : num  0 0 0 0 0 0 0 0 0 0 ...\n",
      " $ postal_code618783                 : num  0 0 0 0 0 0 0 0 0 0 ...\n",
      " $ postal_code619587                 : num  0 0 0 0 0 0 0 0 0 0 ...\n",
      " $ postal_code619595                 : num  0 0 0 0 0 0 0 0 0 0 ...\n",
      " $ postal_code619767                 : num  0 0 0 0 0 0 0 0 0 0 ...\n",
      " $ postal_code619785                 : num  0 0 0 0 0 0 0 0 0 0 ...\n",
      " $ postal_code631131                 : num  0 0 0 0 0 0 0 0 0 0 ...\n",
      " $ postal_code631158                 : num  0 0 0 0 0 0 0 0 0 0 ...\n",
      "  [list output truncated]\n"
     ]
    }
   ],
   "source": [
    "# names(dummy_khoozestan)\n",
    "str(dummy_khoozestan)"
   ]
  },
  {
   "cell_type": "code",
   "execution_count": null,
   "metadata": {},
   "outputs": [],
   "source": []
  },
  {
   "cell_type": "code",
   "execution_count": 23,
   "metadata": {},
   "outputs": [],
   "source": [
    "X = dummy_khoozestan[-c(17)]\n",
    "Y = dummy_khoozestan['price']"
   ]
  },
  {
   "cell_type": "code",
   "execution_count": 24,
   "metadata": {},
   "outputs": [],
   "source": [
    "set.seed(313)\n",
    "\n",
    "train_index = sample.int(nrow(dummy_khoozestan),0.8*nrow(dummy_khoozestan),replace=F)\n",
    "\n",
    "x_train = X[train_index,]\n",
    "y_train = Y[train_index,]\n",
    "train = cbind(x_train,y_train)\n",
    "\n",
    "x_test = X[-train_index,]\n",
    "y_test = Y[-train_index,]\n",
    "test = cbind(x_test,y_test)"
   ]
  },
  {
   "cell_type": "code",
   "execution_count": null,
   "metadata": {},
   "outputs": [],
   "source": []
  },
  {
   "cell_type": "code",
   "execution_count": 25,
   "metadata": {},
   "outputs": [],
   "source": [
    "reg.tree = rpart(formula = y_train~. , data = train, method = \"anova\")"
   ]
  },
  {
   "cell_type": "code",
   "execution_count": 32,
   "metadata": {},
   "outputs": [
    {
     "data": {
      "image/png": "[encoded data removed]",
      "text/plain": [
       "plot without title"
      ]
     },
     "metadata": {},
     "output_type": "display_data"
    }
   ],
   "source": [
    "rpart.plot(reg.tree,split.font=2)"
   ]
  },
  {
   "cell_type": "code",
   "execution_count": 33,
   "metadata": {},
   "outputs": [
    {
     "data": {
      "text/html": [
       "<table>\n",
       "<thead><tr><th></th><th scope=col>y_train</th><th scope=col></th><th scope=col></th><th scope=col></th><th scope=col></th><th scope=col></th><th scope=col></th><th scope=col></th><th scope=col></th><th scope=col></th><th scope=col></th><th scope=col></th><th scope=col></th><th scope=col></th><th scope=col></th><th scope=col></th><th scope=col></th><th scope=col></th><th scope=col></th><th scope=col>  cover</th></tr></thead>\n",
       "<tbody>\n",
       "\t<tr><th scope=row>8</th><td> 257                                                         </td><td>when                                                         </td><td>area                                                         </td><td>&lt;                                                         </td><td> 90                                                          </td><td><span style=white-space:pre-wrap>  </span>                   </td><td><span style=white-space:pre-wrap>   </span>                  </td><td>                                                             </td><td><span style=white-space:pre-wrap>                     </span></td><td><span style=white-space:pre-wrap>  </span>                   </td><td>                                                             </td><td>&amp;                                                        </td><td>cityahvaz                                                    </td><td>is                                                           </td><td>0                                                            </td><td>                                                             </td><td><span style=white-space:pre-wrap>                    </span> </td><td><span style=white-space:pre-wrap>  </span>                   </td><td>                                                             </td><td>47%                                                          </td></tr>\n",
       "\t<tr><th scope=row>18</th><td> 393                                                         </td><td>when                                                         </td><td>area                                                         </td><td>&lt;                                                         </td><td> 81                                                          </td><td><span style=white-space:pre-wrap>  </span>                   </td><td><span style=white-space:pre-wrap>   </span>                  </td><td>                                                             </td><td><span style=white-space:pre-wrap>                     </span></td><td><span style=white-space:pre-wrap>  </span>                   </td><td>                                                             </td><td>&amp;                                                        </td><td>cityahvaz                                                    </td><td>is                                                           </td><td>1                                                            </td><td>                                                             </td><td><span style=white-space:pre-wrap>                    </span> </td><td><span style=white-space:pre-wrap>  </span>                   </td><td>                                                             </td><td> 3%                                                          </td></tr>\n",
       "\t<tr><th scope=row>12</th><td> 424                                                        </td><td>when                                                        </td><td>area                                                        </td><td>&gt;=                                                       </td><td><span style=white-space:pre-wrap>   </span>                 </td><td><span style=white-space:pre-wrap>  </span>                  </td><td>196                                                         </td><td>&amp;                                                       </td><td>skeleton_typeconcrete                                       </td><td>is                                                          </td><td>0                                                           </td><td>                                                            </td><td><span style=white-space:pre-wrap>         </span>           </td><td><span style=white-space:pre-wrap>  </span>                  </td><td>                                                            </td><td>                                                            </td><td><span style=white-space:pre-wrap>                    </span></td><td><span style=white-space:pre-wrap>  </span>                  </td><td>                                                            </td><td> 3%                                                         </td></tr>\n",
       "\t<tr><th scope=row>5</th><td> 436                 </td><td>when                 </td><td>area                 </td><td>is                   </td><td> 90                  </td><td>to                   </td><td>123                  </td><td>                     </td><td>                     </td><td>                     </td><td>                     </td><td>                     </td><td>                     </td><td>                     </td><td>                     </td><td>                     </td><td>                     </td><td>                     </td><td>                     </td><td>30%                  </td></tr>\n",
       "\t<tr><th scope=row>56</th><td> 574                 </td><td>when                 </td><td>area                 </td><td>is                   </td><td>123                  </td><td>to                   </td><td>175                  </td><td>&amp;                </td><td>skeleton_typeconcrete</td><td>is                   </td><td>1                    </td><td>&amp;                </td><td>cityahvaz            </td><td>is                   </td><td>0                    </td><td>&amp;                </td><td>citybandare_mahshahr </td><td>is                   </td><td>0                    </td><td> 4%                  </td></tr>\n",
       "\t<tr><th scope=row>26</th><td> 590                                                        </td><td>when                                                        </td><td>area                                                        </td><td>is                                                          </td><td>123                                                         </td><td>to                                                          </td><td>162                                                         </td><td>&amp;                                                       </td><td>skeleton_typeconcrete                                       </td><td>is                                                          </td><td>0                                                           </td><td>                                                            </td><td><span style=white-space:pre-wrap>         </span>           </td><td><span style=white-space:pre-wrap>  </span>                  </td><td>                                                            </td><td>                                                            </td><td><span style=white-space:pre-wrap>                    </span></td><td><span style=white-space:pre-wrap>  </span>                  </td><td>                                                            </td><td> 7%                                                         </td></tr>\n",
       "\t<tr><th scope=row>19</th><td> 685                                                         </td><td>when                                                         </td><td>area                                                         </td><td>is                                                           </td><td> 81                                                          </td><td>to                                                           </td><td> 90                                                          </td><td>                                                             </td><td><span style=white-space:pre-wrap>                     </span></td><td><span style=white-space:pre-wrap>  </span>                   </td><td>                                                             </td><td>&amp;                                                        </td><td>cityahvaz                                                    </td><td>is                                                           </td><td>1                                                            </td><td>                                                             </td><td><span style=white-space:pre-wrap>                    </span> </td><td><span style=white-space:pre-wrap>  </span>                   </td><td>                                                             </td><td> 1%                                                          </td></tr>\n",
       "\t<tr><th scope=row>57</th><td> 913                                       </td><td>when                                       </td><td>area                                       </td><td>&gt;=                                      </td><td><span style=white-space:pre-wrap>   </span></td><td><span style=white-space:pre-wrap>  </span> </td><td>175                                        </td><td>&amp;                                      </td><td>skeleton_typeconcrete                      </td><td>is                                         </td><td>1                                          </td><td>&amp;                                      </td><td>cityahvaz                                  </td><td>is                                         </td><td>0                                          </td><td>&amp;                                      </td><td>citybandare_mahshahr                       </td><td>is                                         </td><td>0                                          </td><td> 1%                                        </td></tr>\n",
       "\t<tr><th scope=row>29</th><td>1068                                       </td><td>when                                       </td><td>area                                       </td><td>&gt;=                                      </td><td><span style=white-space:pre-wrap>   </span></td><td><span style=white-space:pre-wrap>  </span> </td><td>123                                        </td><td>&amp;                                      </td><td>skeleton_typeconcrete                      </td><td>is                                         </td><td>1                                          </td><td>&amp;                                      </td><td>cityahvaz                                  </td><td>is                                         </td><td>1                                          </td><td>&amp;                                      </td><td>citybandare_mahshahr                       </td><td>is                                         </td><td>0                                          </td><td> 1%                                        </td></tr>\n",
       "\t<tr><th scope=row>27</th><td>1087                                                        </td><td>when                                                        </td><td>area                                                        </td><td>is                                                          </td><td>162                                                         </td><td>to                                                          </td><td>196                                                         </td><td>&amp;                                                       </td><td>skeleton_typeconcrete                                       </td><td>is                                                          </td><td>0                                                           </td><td>                                                            </td><td><span style=white-space:pre-wrap>         </span>           </td><td><span style=white-space:pre-wrap>  </span>                  </td><td>                                                            </td><td>                                                            </td><td><span style=white-space:pre-wrap>                    </span></td><td><span style=white-space:pre-wrap>  </span>                  </td><td>                                                            </td><td> 1%                                                         </td></tr>\n",
       "\t<tr><th scope=row>15</th><td>1390                                             </td><td>when                                             </td><td>area                                             </td><td>&gt;=                                            </td><td><span style=white-space:pre-wrap>   </span>      </td><td><span style=white-space:pre-wrap>  </span>       </td><td>123                                              </td><td>&amp;                                            </td><td>skeleton_typeconcrete                            </td><td>is                                               </td><td>1                                                </td><td>                                                 </td><td><span style=white-space:pre-wrap>         </span></td><td><span style=white-space:pre-wrap>  </span>       </td><td>                                                 </td><td>&amp;                                            </td><td>citybandare_mahshahr                             </td><td>is                                               </td><td>1                                                </td><td> 1%                                              </td></tr>\n",
       "</tbody>\n",
       "</table>\n"
      ],
      "text/latex": [
       "\\begin{tabular}{r|llllllllllllllllllll}\n",
       "  & y\\_train &  &  &  &  &  &  &  &  &  &  &  &  &  &  &  &  &  &  &   cover\\\\\n",
       "\\hline\n",
       "\t8 &  257                  & when                  & area                  & <                     &  90                   &                       &                       &                       &                       &                       &                       & \\&                   & cityahvaz             & is                    & 0                     &                       &                       &                       &                       & 47\\%                \\\\\n",
       "\t18 &  393                  & when                  & area                  & <                     &  81                   &                       &                       &                       &                       &                       &                       & \\&                   & cityahvaz             & is                    & 1                     &                       &                       &                       &                       &  3\\%                \\\\\n",
       "\t12 &  424                    & when                    & area                    & >=                      &                         &                         & 196                     & \\&                     & skeleton\\_typeconcrete & is                      & 0                       &                         &                         &                         &                         &                         &                         &                         &                         &  3\\%                  \\\\\n",
       "\t5 &  436                  & when                  & area                  & is                    &  90                   & to                    & 123                   &                       &                       &                       &                       &                       &                       &                       &                       &                       &                       &                       &                       & 30\\%                \\\\\n",
       "\t56 &  574                    & when                    & area                    & is                      & 123                     & to                      & 175                     & \\&                     & skeleton\\_typeconcrete & is                      & 1                       & \\&                     & cityahvaz               & is                      & 0                       & \\&                     & citybandare\\_mahshahr  & is                      & 0                       &  4\\%                  \\\\\n",
       "\t26 &  590                    & when                    & area                    & is                      & 123                     & to                      & 162                     & \\&                     & skeleton\\_typeconcrete & is                      & 0                       &                         &                         &                         &                         &                         &                         &                         &                         &  7\\%                  \\\\\n",
       "\t19 &  685                  & when                  & area                  & is                    &  81                   & to                    &  90                   &                       &                       &                       &                       & \\&                   & cityahvaz             & is                    & 1                     &                       &                       &                       &                       &  1\\%                \\\\\n",
       "\t57 &  913                    & when                    & area                    & >=                      &                         &                         & 175                     & \\&                     & skeleton\\_typeconcrete & is                      & 1                       & \\&                     & cityahvaz               & is                      & 0                       & \\&                     & citybandare\\_mahshahr  & is                      & 0                       &  1\\%                  \\\\\n",
       "\t29 & 1068                    & when                    & area                    & >=                      &                         &                         & 123                     & \\&                     & skeleton\\_typeconcrete & is                      & 1                       & \\&                     & cityahvaz               & is                      & 1                       & \\&                     & citybandare\\_mahshahr  & is                      & 0                       &  1\\%                  \\\\\n",
       "\t27 & 1087                    & when                    & area                    & is                      & 162                     & to                      & 196                     & \\&                     & skeleton\\_typeconcrete & is                      & 0                       &                         &                         &                         &                         &                         &                         &                         &                         &  1\\%                  \\\\\n",
       "\t15 & 1390                    & when                    & area                    & >=                      &                         &                         & 123                     & \\&                     & skeleton\\_typeconcrete & is                      & 1                       &                         &                         &                         &                         & \\&                     & citybandare\\_mahshahr  & is                      & 1                       &  1\\%                  \\\\\n",
       "\\end{tabular}\n"
      ],
      "text/markdown": [
       "\n",
       "| <!--/--> | y_train |  |  |  |  |  |  |  |  |  |  |  |  |  |  |  |  |  |  |   cover |\n",
       "|---|---|---|---|---|---|---|---|---|---|---|---|---|---|---|---|---|---|---|---|---|\n",
       "| 8 |  257                  | when                  | area                  | <                     |  90                   |                       |                       |                       |                       |                       |                       | &                     | cityahvaz             | is                    | 0                     |                       |                       |                       |                       | 47%                   |\n",
       "| 18 |  393                  | when                  | area                  | <                     |  81                   |                       |                       |                       |                       |                       |                       | &                     | cityahvaz             | is                    | 1                     |                       |                       |                       |                       |  3%                   |\n",
       "| 12 |  424                  | when                  | area                  | >=                    |                       |                       | 196                   | &                     | skeleton_typeconcrete | is                    | 0                     |                       |                       |                       |                       |                       |                       |                       |                       |  3%                   |\n",
       "| 5 |  436                  | when                  | area                  | is                    |  90                   | to                    | 123                   |                       |                       |                       |                       |                       |                       |                       |                       |                       |                       |                       |                       | 30%                   |\n",
       "| 56 |  574                  | when                  | area                  | is                    | 123                   | to                    | 175                   | &                     | skeleton_typeconcrete | is                    | 1                     | &                     | cityahvaz             | is                    | 0                     | &                     | citybandare_mahshahr  | is                    | 0                     |  4%                   |\n",
       "| 26 |  590                  | when                  | area                  | is                    | 123                   | to                    | 162                   | &                     | skeleton_typeconcrete | is                    | 0                     |                       |                       |                       |                       |                       |                       |                       |                       |  7%                   |\n",
       "| 19 |  685                  | when                  | area                  | is                    |  81                   | to                    |  90                   |                       |                       |                       |                       | &                     | cityahvaz             | is                    | 1                     |                       |                       |                       |                       |  1%                   |\n",
       "| 57 |  913                  | when                  | area                  | >=                    |                       |                       | 175                   | &                     | skeleton_typeconcrete | is                    | 1                     | &                     | cityahvaz             | is                    | 0                     | &                     | citybandare_mahshahr  | is                    | 0                     |  1%                   |\n",
       "| 29 | 1068                  | when                  | area                  | >=                    |                       |                       | 123                   | &                     | skeleton_typeconcrete | is                    | 1                     | &                     | cityahvaz             | is                    | 1                     | &                     | citybandare_mahshahr  | is                    | 0                     |  1%                   |\n",
       "| 27 | 1087                  | when                  | area                  | is                    | 162                   | to                    | 196                   | &                     | skeleton_typeconcrete | is                    | 0                     |                       |                       |                       |                       |                       |                       |                       |                       |  1%                   |\n",
       "| 15 | 1390                  | when                  | area                  | >=                    |                       |                       | 123                   | &                     | skeleton_typeconcrete | is                    | 1                     |                       |                       |                       |                       | &                     | citybandare_mahshahr  | is                    | 1                     |  1%                   |\n",
       "\n"
      ],
      "text/plain": [
       "   y_train                                                                    \n",
       "8   257    when area <   90                                     & cityahvaz is\n",
       "18  393    when area <   81                                     & cityahvaz is\n",
       "12  424    when area >=        196 & skeleton_typeconcrete is 0               \n",
       "5   436    when area is  90 to 123                                            \n",
       "56  574    when area is 123 to 175 & skeleton_typeconcrete is 1 & cityahvaz is\n",
       "26  590    when area is 123 to 162 & skeleton_typeconcrete is 0               \n",
       "19  685    when area is  81 to  90                              & cityahvaz is\n",
       "57  913    when area >=        175 & skeleton_typeconcrete is 1 & cityahvaz is\n",
       "29 1068    when area >=        123 & skeleton_typeconcrete is 1 & cityahvaz is\n",
       "27 1087    when area is 162 to 196 & skeleton_typeconcrete is 0               \n",
       "15 1390    when area >=        123 & skeleton_typeconcrete is 1               \n",
       "                                   cover\n",
       "8  0                             47%    \n",
       "18 1                              3%    \n",
       "12                                3%    \n",
       "5                                30%    \n",
       "56 0 & citybandare_mahshahr is 0  4%    \n",
       "26                                7%    \n",
       "19 1                              1%    \n",
       "57 0 & citybandare_mahshahr is 0  1%    \n",
       "29 1 & citybandare_mahshahr is 0  1%    \n",
       "27                                1%    \n",
       "15   & citybandare_mahshahr is 1  1%    "
      ]
     },
     "metadata": {},
     "output_type": "display_data"
    }
   ],
   "source": [
    "rpart.rules(reg.tree,cover = TRUE)"
   ]
  },
  {
   "cell_type": "code",
   "execution_count": 34,
   "metadata": {},
   "outputs": [
    {
     "name": "stdout",
     "output_type": "stream",
     "text": [
      "\n",
      "Regression tree:\n",
      "rpart(formula = y_train ~ ., data = train, method = \"anova\")\n",
      "\n",
      "Variables actually used in tree construction:\n",
      "[1] area                  cityahvaz             citybandare_mahshahr \n",
      "[4] skeleton_typeconcrete\n",
      "\n",
      "Root node error: 48176757/614 = 78464\n",
      "\n",
      "n= 614 \n",
      "\n",
      "        CP nsplit rel error  xerror    xstd\n",
      "1 0.240793      0   1.00000 1.00212 0.13482\n",
      "2 0.059848      1   0.75921 0.79260 0.10959\n",
      "3 0.042885      2   0.69936 0.75628 0.11283\n",
      "4 0.027999      4   0.61359 0.76714 0.11953\n",
      "5 0.023601      5   0.58559 0.73207 0.11632\n",
      "6 0.020250      7   0.53839 0.74994 0.11813\n",
      "7 0.014443      8   0.51814 0.76885 0.12128\n",
      "8 0.010966      9   0.50369 0.76973 0.11407\n",
      "9 0.010000     10   0.49273 0.77080 0.11427\n"
     ]
    }
   ],
   "source": [
    "printcp(reg.tree)"
   ]
  },
  {
   "cell_type": "code",
   "execution_count": null,
   "metadata": {},
   "outputs": [],
   "source": []
  },
  {
   "cell_type": "code",
   "execution_count": 35,
   "metadata": {},
   "outputs": [
    {
     "data": {
      "text/html": [
       "<table>\n",
       "<thead><tr><th></th><th scope=col>ME</th><th scope=col>RMSE</th><th scope=col>MAE</th><th scope=col>MPE</th><th scope=col>MAPE</th></tr></thead>\n",
       "<tbody>\n",
       "\t<tr><th scope=row>Test set</th><td>-0.00000000000004001206</td><td>196.6246               </td><td>133.6232               </td><td>-5960.619              </td><td>5981.634               </td></tr>\n",
       "</tbody>\n",
       "</table>\n"
      ],
      "text/latex": [
       "\\begin{tabular}{r|lllll}\n",
       "  & ME & RMSE & MAE & MPE & MAPE\\\\\n",
       "\\hline\n",
       "\tTest set & -0.00000000000004001206 & 196.6246                & 133.6232                & -5960.619               & 5981.634               \\\\\n",
       "\\end{tabular}\n"
      ],
      "text/markdown": [
       "\n",
       "| <!--/--> | ME | RMSE | MAE | MPE | MAPE |\n",
       "|---|---|---|---|---|---|\n",
       "| Test set | -0.00000000000004001206 | 196.6246                | 133.6232                | -5960.619               | 5981.634                |\n",
       "\n"
      ],
      "text/plain": [
       "         ME                      RMSE     MAE      MPE       MAPE    \n",
       "Test set -0.00000000000004001206 196.6246 133.6232 -5960.619 5981.634"
      ]
     },
     "metadata": {},
     "output_type": "display_data"
    }
   ],
   "source": [
    "accuracy(predict(reg.tree,x_train),y_train)"
   ]
  },
  {
   "cell_type": "code",
   "execution_count": 36,
   "metadata": {},
   "outputs": [
    {
     "data": {
      "text/html": [
       "<table>\n",
       "<thead><tr><th></th><th scope=col>ME</th><th scope=col>RMSE</th><th scope=col>MAE</th><th scope=col>MPE</th><th scope=col>MAPE</th></tr></thead>\n",
       "<tbody>\n",
       "\t<tr><th scope=row>Test set</th><td>45.25621 </td><td>257.2425 </td><td>159.983  </td><td>-1699.248</td><td>1729.426 </td></tr>\n",
       "</tbody>\n",
       "</table>\n"
      ],
      "text/latex": [
       "\\begin{tabular}{r|lllll}\n",
       "  & ME & RMSE & MAE & MPE & MAPE\\\\\n",
       "\\hline\n",
       "\tTest set & 45.25621  & 257.2425  & 159.983   & -1699.248 & 1729.426 \\\\\n",
       "\\end{tabular}\n"
      ],
      "text/markdown": [
       "\n",
       "| <!--/--> | ME | RMSE | MAE | MPE | MAPE |\n",
       "|---|---|---|---|---|---|\n",
       "| Test set | 45.25621  | 257.2425  | 159.983   | -1699.248 | 1729.426  |\n",
       "\n"
      ],
      "text/plain": [
       "         ME       RMSE     MAE     MPE       MAPE    \n",
       "Test set 45.25621 257.2425 159.983 -1699.248 1729.426"
      ]
     },
     "metadata": {},
     "output_type": "display_data"
    }
   ],
   "source": [
    "accuracy(predict(reg.tree,x_test),y_test)"
   ]
  },
  {
   "cell_type": "code",
   "execution_count": null,
   "metadata": {},
   "outputs": [],
   "source": []
  },
  {
   "cell_type": "code",
   "execution_count": null,
   "metadata": {},
   "outputs": [],
   "source": []
  },
  {
   "cell_type": "code",
   "execution_count": 37,
   "metadata": {},
   "outputs": [],
   "source": [
    "deep.reg.tree = rpart(formula = y_train~. , data = train, method = \"anova\", cp=0)"
   ]
  },
  {
   "cell_type": "code",
   "execution_count": 38,
   "metadata": {
    "scrolled": false
   },
   "outputs": [
    {
     "data": {
      "image/png": "[encoded data removed]",
      "text/plain": [
       "plot without title"
      ]
     },
     "metadata": {},
     "output_type": "display_data"
    }
   ],
   "source": [
    "rpart.plot(deep.reg.tree,split.font=2)"
   ]
  },
  {
   "cell_type": "code",
   "execution_count": 50,
   "metadata": {},
   "outputs": [
    {
     "data": {
      "text/html": [
       "<table>\n",
       "<thead><tr><th></th><th scope=col>y_train</th><th scope=col></th><th scope=col>.1</th><th scope=col>.2</th><th scope=col>.3</th><th scope=col>.4</th><th scope=col>.5</th><th scope=col>.6</th><th scope=col>.7</th><th scope=col>.8</th><th scope=col>...</th><th scope=col></th><th scope=col>.1</th><th scope=col>.2</th><th scope=col>.3</th><th scope=col>.4</th><th scope=col>.5</th><th scope=col>.6</th><th scope=col>.7</th><th scope=col>.8</th><th scope=col>  cover</th></tr></thead>\n",
       "<tbody>\n",
       "\t<tr><th scope=row>32</th><td> 130                                                     </td><td>when                                                     </td><td>area                                                     </td><td>&lt;                                                     </td><td> 80                                                      </td><td><span style=white-space:pre-wrap>  </span>               </td><td><span style=white-space:pre-wrap>   </span>              </td><td>&amp;                                                    </td><td>cityahvaz                                                </td><td>is                                                       </td><td>...                                                      </td><td>                                                         </td><td>                                                         </td><td><span style=white-space:pre-wrap>           </span>      </td><td><span style=white-space:pre-wrap>  </span>               </td><td>                                                         </td><td>                                                         </td><td><span style=white-space:pre-wrap>                 </span></td><td><span style=white-space:pre-wrap>  </span>               </td><td>                                                         </td><td> 1%                                                      </td></tr>\n",
       "\t<tr><th scope=row>132</th><td> 155                                                     </td><td>when                                                     </td><td>area                                                     </td><td>&lt;                                                     </td><td> 80                                                      </td><td><span style=white-space:pre-wrap>  </span>               </td><td><span style=white-space:pre-wrap>   </span>              </td><td>&amp;                                                    </td><td>cityahvaz                                                </td><td>is                                                       </td><td>...                                                      </td><td>                                                         </td><td>                                                         </td><td><span style=white-space:pre-wrap>           </span>      </td><td><span style=white-space:pre-wrap>  </span>               </td><td>                                                         </td><td>                                                         </td><td><span style=white-space:pre-wrap>                 </span></td><td><span style=white-space:pre-wrap>  </span>               </td><td>                                                         </td><td> 3%                                                      </td></tr>\n",
       "\t<tr><th scope=row>268</th><td> 169                                                     </td><td>when                                                     </td><td>area                                                     </td><td>&lt;                                                     </td><td> 80                                                      </td><td><span style=white-space:pre-wrap>  </span>               </td><td><span style=white-space:pre-wrap>   </span>              </td><td>&amp;                                                    </td><td>cityahvaz                                                </td><td>is                                                       </td><td>...                                                      </td><td>                                                         </td><td>                                                         </td><td><span style=white-space:pre-wrap>           </span>      </td><td><span style=white-space:pre-wrap>  </span>               </td><td>                                                         </td><td>                                                         </td><td><span style=white-space:pre-wrap>                 </span></td><td><span style=white-space:pre-wrap>  </span>               </td><td>                                                         </td><td> 2%                                                      </td></tr>\n",
       "\t<tr><th scope=row>1076</th><td> 172                                                     </td><td>when                                                     </td><td>area                                                     </td><td>is                                                       </td><td> 75                                                      </td><td>to                                                       </td><td> 76                                                      </td><td>&amp;                                                    </td><td>cityahvaz                                                </td><td>is                                                       </td><td>...                                                      </td><td>                                                         </td><td>                                                         </td><td><span style=white-space:pre-wrap>           </span>      </td><td><span style=white-space:pre-wrap>  </span>               </td><td>                                                         </td><td>                                                         </td><td><span style=white-space:pre-wrap>                 </span></td><td><span style=white-space:pre-wrap>  </span>               </td><td>                                                         </td><td> 2%                                                      </td></tr>\n",
       "\t<tr><th scope=row>1078</th><td> 192                                                     </td><td>when                                                     </td><td>area                                                     </td><td>&lt;                                                     </td><td> 61                                                      </td><td><span style=white-space:pre-wrap>  </span>               </td><td><span style=white-space:pre-wrap>   </span>              </td><td>&amp;                                                    </td><td>cityahvaz                                                </td><td>is                                                       </td><td>...                                                      </td><td>                                                         </td><td>                                                         </td><td><span style=white-space:pre-wrap>           </span>      </td><td><span style=white-space:pre-wrap>  </span>               </td><td>                                                         </td><td>                                                         </td><td><span style=white-space:pre-wrap>                 </span></td><td><span style=white-space:pre-wrap>  </span>               </td><td>                                                         </td><td> 1%                                                      </td></tr>\n",
       "\t<tr><th scope=row>270</th><td> 209                                                     </td><td>when                                                     </td><td>area                                                     </td><td>&lt;                                                     </td><td> 67                                                      </td><td><span style=white-space:pre-wrap>  </span>               </td><td><span style=white-space:pre-wrap>   </span>              </td><td>&amp;                                                    </td><td>cityahvaz                                                </td><td>is                                                       </td><td>...                                                      </td><td>                                                         </td><td>                                                         </td><td><span style=white-space:pre-wrap>           </span>      </td><td><span style=white-space:pre-wrap>  </span>               </td><td>                                                         </td><td>                                                         </td><td><span style=white-space:pre-wrap>                 </span></td><td><span style=white-space:pre-wrap>  </span>               </td><td>                                                         </td><td> 2%                                                      </td></tr>\n",
       "\t<tr><th scope=row>34</th><td> 212                                                     </td><td>when                                                     </td><td>area                                                     </td><td>is                                                       </td><td> 80                                                      </td><td>to                                                       </td><td> 90                                                      </td><td>&amp;                                                    </td><td>cityahvaz                                                </td><td>is                                                       </td><td>...                                                      </td><td>                                                         </td><td>                                                         </td><td><span style=white-space:pre-wrap>           </span>      </td><td><span style=white-space:pre-wrap>  </span>               </td><td>                                                         </td><td>                                                         </td><td><span style=white-space:pre-wrap>                 </span></td><td><span style=white-space:pre-wrap>  </span>               </td><td>                                                         </td><td> 2%                                                      </td></tr>\n",
       "\t<tr><th scope=row>280</th><td> 222                                                     </td><td>when                                                     </td><td>area                                                     </td><td>is                                                       </td><td> 85                                                      </td><td>to                                                       </td><td> 85                                                      </td><td>&amp;                                                    </td><td>cityahvaz                                                </td><td>is                                                       </td><td>...                                                      </td><td>                                                         </td><td>                                                         </td><td><span style=white-space:pre-wrap>           </span>      </td><td><span style=white-space:pre-wrap>  </span>               </td><td>                                                         </td><td>                                                         </td><td><span style=white-space:pre-wrap>                 </span></td><td><span style=white-space:pre-wrap>  </span>               </td><td>                                                         </td><td> 3%                                                      </td></tr>\n",
       "\t<tr><th scope=row>133</th><td> 228                                                     </td><td>when                                                     </td><td>area                                                     </td><td>&lt;                                                     </td><td> 80                                                      </td><td><span style=white-space:pre-wrap>  </span>               </td><td><span style=white-space:pre-wrap>   </span>              </td><td>&amp;                                                    </td><td>cityahvaz                                                </td><td>is                                                       </td><td>...                                                      </td><td>                                                         </td><td>                                                         </td><td><span style=white-space:pre-wrap>           </span>      </td><td><span style=white-space:pre-wrap>  </span>               </td><td>                                                         </td><td>                                                         </td><td><span style=white-space:pre-wrap>                 </span></td><td><span style=white-space:pre-wrap>  </span>               </td><td>                                                         </td><td> 2%                                                      </td></tr>\n",
       "\t<tr><th scope=row>2158</th><td> 232                                                     </td><td>when                                                     </td><td>area                                                     </td><td>is                                                       </td><td> 61                                                      </td><td>to                                                       </td><td> 75                                                      </td><td>&amp;                                                    </td><td>cityahvaz                                                </td><td>is                                                       </td><td>...                                                      </td><td>1                                                        </td><td>                                                         </td><td><span style=white-space:pre-wrap>           </span>      </td><td><span style=white-space:pre-wrap>  </span>               </td><td>                                                         </td><td>                                                         </td><td><span style=white-space:pre-wrap>                 </span></td><td><span style=white-space:pre-wrap>  </span>               </td><td>                                                         </td><td> 2%                                                      </td></tr>\n",
       "\t<tr><th scope=row>1084</th><td> 232                                                     </td><td>when                                                     </td><td>area                                                     </td><td>is                                                       </td><td> 67                                                      </td><td>to                                                       </td><td> 80                                                      </td><td>&amp;                                                    </td><td>cityahvaz                                                </td><td>is                                                       </td><td>...                                                      </td><td>                                                         </td><td>                                                         </td><td><span style=white-space:pre-wrap>           </span>      </td><td><span style=white-space:pre-wrap>  </span>               </td><td>                                                         </td><td>                                                         </td><td><span style=white-space:pre-wrap>                 </span></td><td><span style=white-space:pre-wrap>  </span>               </td><td>                                                         </td><td> 1%                                                      </td></tr>\n",
       "\t<tr><th scope=row>1124</th><td> 236                                                     </td><td>when                                                     </td><td>area                                                     </td><td>is                                                       </td><td> 88                                                      </td><td>to                                                       </td><td> 90                                                      </td><td>&amp;                                                    </td><td>cityahvaz                                                </td><td>is                                                       </td><td>...                                                      </td><td>                                                         </td><td>                                                         </td><td><span style=white-space:pre-wrap>           </span>      </td><td><span style=white-space:pre-wrap>  </span>               </td><td>                                                         </td><td>                                                         </td><td><span style=white-space:pre-wrap>                 </span></td><td><span style=white-space:pre-wrap>  </span>               </td><td>                                                         </td><td> 2%                                                      </td></tr>\n",
       "\t<tr><th scope=row>1077</th><td> 249                                                     </td><td>when                                                     </td><td>area                                                     </td><td>is                                                       </td><td> 76                                                      </td><td>to                                                       </td><td> 80                                                      </td><td>&amp;                                                    </td><td>cityahvaz                                                </td><td>is                                                       </td><td>...                                                      </td><td>                                                         </td><td>                                                         </td><td><span style=white-space:pre-wrap>           </span>      </td><td><span style=white-space:pre-wrap>  </span>               </td><td>                                                         </td><td>                                                         </td><td><span style=white-space:pre-wrap>                 </span></td><td><span style=white-space:pre-wrap>  </span>               </td><td>                                                         </td><td> 2%                                                      </td></tr>\n",
       "\t<tr><th scope=row>4318</th><td> 252                                                     </td><td>when                                                     </td><td>area                                                     </td><td>is                                                       </td><td> 61                                                      </td><td>to                                                       </td><td> 75                                                      </td><td>&amp;                                                    </td><td>cityahvaz                                                </td><td>is                                                       </td><td>...                                                      </td><td>0                                                        </td><td>                                                         </td><td><span style=white-space:pre-wrap>           </span>      </td><td><span style=white-space:pre-wrap>  </span>               </td><td>                                                         </td><td>                                                         </td><td><span style=white-space:pre-wrap>                 </span></td><td><span style=white-space:pre-wrap>  </span>               </td><td>                                                         </td><td> 2%                                                      </td></tr>\n",
       "\t<tr><th scope=row>1086</th><td> 267                                                     </td><td>when                                                     </td><td>area                                                     </td><td>is                                                       </td><td> 67                                                      </td><td>to                                                       </td><td> 73                                                      </td><td>&amp;                                                    </td><td>cityahvaz                                                </td><td>is                                                       </td><td>...                                                      </td><td>                                                         </td><td>                                                         </td><td><span style=white-space:pre-wrap>           </span>      </td><td><span style=white-space:pre-wrap>  </span>               </td><td>                                                         </td><td>                                                         </td><td><span style=white-space:pre-wrap>                 </span></td><td><span style=white-space:pre-wrap>  </span>               </td><td>                                                         </td><td> 1%                                                      </td></tr>\n",
       "\t<tr><th scope=row>160</th><td> 271                                                     </td><td>when                                                     </td><td>area                                                     </td><td>is                                                       </td><td>117                                                      </td><td>to                                                       </td><td>123                                                      </td><td>&amp;                                                    </td><td>cityahvaz                                                </td><td>is                                                       </td><td>...                                                      </td><td>                                                         </td><td>                                                         </td><td><span style=white-space:pre-wrap>           </span>      </td><td><span style=white-space:pre-wrap>  </span>               </td><td>                                                         </td><td>                                                         </td><td><span style=white-space:pre-wrap>                 </span></td><td><span style=white-space:pre-wrap>  </span>               </td><td>                                                         </td><td> 1%                                                      </td></tr>\n",
       "\t<tr><th scope=row>4319</th><td> 280                                                     </td><td>when                                                     </td><td>area                                                     </td><td>is                                                       </td><td> 61                                                      </td><td>to                                                       </td><td> 75                                                      </td><td>&amp;                                                    </td><td>cityahvaz                                                </td><td>is                                                       </td><td>...                                                      </td><td>0                                                        </td><td>                                                         </td><td><span style=white-space:pre-wrap>           </span>      </td><td><span style=white-space:pre-wrap>  </span>               </td><td>                                                         </td><td>                                                         </td><td><span style=white-space:pre-wrap>                 </span></td><td><span style=white-space:pre-wrap>  </span>               </td><td>                                                         </td><td> 2%                                                      </td></tr>\n",
       "\t<tr><th scope=row>4500</th><td> 281                                               </td><td>when                                               </td><td>area                                               </td><td>is                                                 </td><td> 88                                                </td><td>to                                                 </td><td> 90                                                </td><td>&amp;                                              </td><td>cityahvaz                                          </td><td>is                                                 </td><td>...                                                </td><td>                                                   </td><td>                                                   </td><td><span style=white-space:pre-wrap>           </span></td><td><span style=white-space:pre-wrap>  </span>         </td><td>                                                   </td><td>&amp;                                              </td><td>postal_code635111                                  </td><td>is                                                 </td><td>0                                                  </td><td> 2%                                                </td></tr>\n",
       "\t<tr><th scope=row>24</th><td> 301                                                     </td><td>when                                                     </td><td>area                                                     </td><td>&gt;=                                                    </td><td><span style=white-space:pre-wrap>   </span>              </td><td><span style=white-space:pre-wrap>  </span>               </td><td>196                                                      </td><td>                                                         </td><td><span style=white-space:pre-wrap>         </span>        </td><td><span style=white-space:pre-wrap>  </span>               </td><td>...                                                      </td><td>                                                         </td><td>                                                         </td><td><span style=white-space:pre-wrap>           </span>      </td><td><span style=white-space:pre-wrap>  </span>               </td><td>                                                         </td><td>                                                         </td><td><span style=white-space:pre-wrap>                 </span></td><td><span style=white-space:pre-wrap>  </span>               </td><td>                                                         </td><td> 2%                                                      </td></tr>\n",
       "\t<tr><th scope=row>322</th><td> 301                                                     </td><td>when                                                     </td><td>area                                                     </td><td>is                                                       </td><td> 93                                                      </td><td>to                                                       </td><td>100                                                      </td><td>&amp;                                                    </td><td>cityahvaz                                                </td><td>is                                                       </td><td>...                                                      </td><td>                                                         </td><td>                                                         </td><td><span style=white-space:pre-wrap>           </span>      </td><td><span style=white-space:pre-wrap>  </span>               </td><td>                                                         </td><td>                                                         </td><td><span style=white-space:pre-wrap>                 </span></td><td><span style=white-space:pre-wrap>  </span>               </td><td>                                                         </td><td> 3%                                                      </td></tr>\n",
       "\t<tr><th scope=row>1085</th><td> 303                                                     </td><td>when                                                     </td><td>area                                                     </td><td>is                                                       </td><td> 67                                                      </td><td>to                                                       </td><td> 80                                                      </td><td>&amp;                                                    </td><td>cityahvaz                                                </td><td>is                                                       </td><td>...                                                      </td><td>                                                         </td><td>                                                         </td><td><span style=white-space:pre-wrap>           </span>      </td><td><span style=white-space:pre-wrap>  </span>               </td><td>                                                         </td><td>                                                         </td><td><span style=white-space:pre-wrap>                 </span></td><td><span style=white-space:pre-wrap>  </span>               </td><td>                                                         </td><td> 2%                                                      </td></tr>\n",
       "\t<tr><th scope=row>4501</th><td> 307                                               </td><td>when                                               </td><td>area                                               </td><td>is                                                 </td><td> 88                                                </td><td>to                                                 </td><td> 90                                                </td><td>&amp;                                              </td><td>cityahvaz                                          </td><td>is                                                 </td><td>...                                                </td><td>                                                   </td><td>                                                   </td><td><span style=white-space:pre-wrap>           </span></td><td><span style=white-space:pre-wrap>  </span>         </td><td>                                                   </td><td>&amp;                                              </td><td>postal_code635111                                  </td><td>is                                                 </td><td>1                                                  </td><td> 1%                                                </td></tr>\n",
       "\t<tr><th scope=row>2251</th><td> 322                                                     </td><td>when                                                     </td><td>area                                                     </td><td>is                                                       </td><td> 88                                                      </td><td>to                                                       </td><td> 90                                                      </td><td>&amp;                                                    </td><td>cityahvaz                                                </td><td>is                                                       </td><td>...                                                      </td><td>                                                         </td><td>                                                         </td><td><span style=white-space:pre-wrap>           </span>      </td><td><span style=white-space:pre-wrap>  </span>               </td><td>                                                         </td><td>                                                         </td><td><span style=white-space:pre-wrap>                 </span></td><td><span style=white-space:pre-wrap>  </span>               </td><td>                                                         </td><td> 2%                                                      </td></tr>\n",
       "\t<tr><th scope=row>1087</th><td> 335                                                     </td><td>when                                                     </td><td>area                                                     </td><td>is                                                       </td><td> 73                                                      </td><td>to                                                       </td><td> 80                                                      </td><td>&amp;                                                    </td><td>cityahvaz                                                </td><td>is                                                       </td><td>...                                                      </td><td>                                                         </td><td>                                                         </td><td><span style=white-space:pre-wrap>           </span>      </td><td><span style=white-space:pre-wrap>  </span>               </td><td>                                                         </td><td>                                                         </td><td><span style=white-space:pre-wrap>                 </span></td><td><span style=white-space:pre-wrap>  </span>               </td><td>                                                         </td><td> 3%                                                      </td></tr>\n",
       "\t<tr><th scope=row>141</th><td> 352                                                     </td><td>when                                                     </td><td>area                                                     </td><td>is                                                       </td><td> 80                                                      </td><td>to                                                       </td><td> 85                                                      </td><td>&amp;                                                    </td><td>cityahvaz                                                </td><td>is                                                       </td><td>...                                                      </td><td>                                                         </td><td>                                                         </td><td><span style=white-space:pre-wrap>           </span>      </td><td><span style=white-space:pre-wrap>  </span>               </td><td>                                                         </td><td>                                                         </td><td><span style=white-space:pre-wrap>                 </span></td><td><span style=white-space:pre-wrap>  </span>               </td><td>                                                         </td><td> 3%                                                      </td></tr>\n",
       "\t<tr><th scope=row>323</th><td> 354                                                     </td><td>when                                                     </td><td>area                                                     </td><td>is                                                       </td><td>100                                                      </td><td>to                                                       </td><td>117                                                      </td><td>&amp;                                                    </td><td>cityahvaz                                                </td><td>is                                                       </td><td>...                                                      </td><td>                                                         </td><td>                                                         </td><td><span style=white-space:pre-wrap>           </span>      </td><td><span style=white-space:pre-wrap>  </span>               </td><td>                                                         </td><td>                                                         </td><td><span style=white-space:pre-wrap>                 </span></td><td><span style=white-space:pre-wrap>  </span>               </td><td>                                                         </td><td> 3%                                                      </td></tr>\n",
       "\t<tr><th scope=row>36</th><td> 361                                                     </td><td>when                                                     </td><td>area                                                     </td><td>&lt;                                                     </td><td> 75                                                      </td><td><span style=white-space:pre-wrap>  </span>               </td><td><span style=white-space:pre-wrap>   </span>              </td><td>&amp;                                                    </td><td>cityahvaz                                                </td><td>is                                                       </td><td>...                                                      </td><td>                                                         </td><td>                                                         </td><td><span style=white-space:pre-wrap>           </span>      </td><td><span style=white-space:pre-wrap>  </span>               </td><td>                                                         </td><td>                                                         </td><td><span style=white-space:pre-wrap>                 </span></td><td><span style=white-space:pre-wrap>  </span>               </td><td>                                                         </td><td> 2%                                                      </td></tr>\n",
       "\t<tr><th scope=row>164</th><td> 368                                                     </td><td>when                                                     </td><td>area                                                     </td><td>is                                                       </td><td> 90                                                      </td><td>to                                                       </td><td>109                                                      </td><td>&amp;                                                    </td><td>cityahvaz                                                </td><td>is                                                       </td><td>...                                                      </td><td>                                                         </td><td>                                                         </td><td><span style=white-space:pre-wrap>           </span>      </td><td><span style=white-space:pre-wrap>  </span>               </td><td>                                                         </td><td>                                                         </td><td><span style=white-space:pre-wrap>                 </span></td><td><span style=white-space:pre-wrap>  </span>               </td><td>                                                         </td><td> 3%                                                      </td></tr>\n",
       "\t<tr><th scope=row>42</th><td> 371                                                     </td><td>when                                                     </td><td>area                                                     </td><td>is                                                       </td><td> 90                                                      </td><td>to                                                       </td><td> 98                                                      </td><td>&amp;                                                    </td><td>cityahvaz                                                </td><td>is                                                       </td><td>...                                                      </td><td>                                                         </td><td>                                                         </td><td><span style=white-space:pre-wrap>           </span>      </td><td><span style=white-space:pre-wrap>  </span>               </td><td>                                                         </td><td>                                                         </td><td><span style=white-space:pre-wrap>                 </span></td><td><span style=white-space:pre-wrap>  </span>               </td><td>                                                         </td><td> 2%                                                      </td></tr>\n",
       "\t<tr><th scope=row>563</th><td> 380                                                     </td><td>when                                                     </td><td>area                                                     </td><td>is                                                       </td><td> 85                                                      </td><td>to                                                       </td><td> 88                                                      </td><td>&amp;                                                    </td><td>cityahvaz                                                </td><td>is                                                       </td><td>...                                                      </td><td>                                                         </td><td>                                                         </td><td><span style=white-space:pre-wrap>           </span>      </td><td><span style=white-space:pre-wrap>  </span>               </td><td>                                                         </td><td>                                                         </td><td><span style=white-space:pre-wrap>                 </span></td><td><span style=white-space:pre-wrap>  </span>               </td><td>                                                         </td><td> 2%                                                      </td></tr>\n",
       "\t<tr><th scope=row>172</th><td> 384                                                     </td><td>when                                                     </td><td>area                                                     </td><td>is                                                       </td><td>113                                                      </td><td>to                                                       </td><td>123                                                      </td><td>&amp;                                                    </td><td>cityahvaz                                                </td><td>is                                                       </td><td>...                                                      </td><td>                                                         </td><td>                                                         </td><td><span style=white-space:pre-wrap>           </span>      </td><td><span style=white-space:pre-wrap>  </span>               </td><td>                                                         </td><td>                                                         </td><td><span style=white-space:pre-wrap>                 </span></td><td><span style=white-space:pre-wrap>  </span>               </td><td>                                                         </td><td> 1%                                                      </td></tr>\n",
       "\t<tr><th scope=row>81</th><td> 401                                                     </td><td>when                                                     </td><td>area                                                     </td><td>is                                                       </td><td> 90                                                      </td><td>to                                                       </td><td> 93                                                      </td><td>&amp;                                                    </td><td>cityahvaz                                                </td><td>is                                                       </td><td>...                                                      </td><td>                                                         </td><td>                                                         </td><td><span style=white-space:pre-wrap>           </span>      </td><td><span style=white-space:pre-wrap>  </span>               </td><td>                                                         </td><td>                                                         </td><td><span style=white-space:pre-wrap>                 </span></td><td><span style=white-space:pre-wrap>  </span>               </td><td>                                                         </td><td> 1%                                                      </td></tr>\n",
       "\t<tr><th scope=row>346</th><td> 408                                                     </td><td>when                                                     </td><td>area                                                     </td><td>is                                                       </td><td> 98                                                      </td><td>to                                                       </td><td>113                                                      </td><td>&amp;                                                    </td><td>cityahvaz                                                </td><td>is                                                       </td><td>...                                                      </td><td>                                                         </td><td>                                                         </td><td><span style=white-space:pre-wrap>           </span>      </td><td><span style=white-space:pre-wrap>  </span>               </td><td>                                                         </td><td>                                                         </td><td><span style=white-space:pre-wrap>                 </span></td><td><span style=white-space:pre-wrap>  </span>               </td><td>                                                         </td><td> 2%                                                      </td></tr>\n",
       "\t<tr><th scope=row>330</th><td> 416                                                     </td><td>when                                                     </td><td>area                                                     </td><td>is                                                       </td><td> 90                                                      </td><td>to                                                       </td><td>109                                                      </td><td>&amp;                                                    </td><td>cityahvaz                                                </td><td>is                                                       </td><td>...                                                      </td><td>                                                         </td><td>                                                         </td><td><span style=white-space:pre-wrap>           </span>      </td><td><span style=white-space:pre-wrap>  </span>               </td><td>                                                         </td><td>                                                         </td><td><span style=white-space:pre-wrap>                 </span></td><td><span style=white-space:pre-wrap>  </span>               </td><td>                                                         </td><td> 3%                                                      </td></tr>\n",
       "\t<tr><th scope=row>71</th><td> 428                                                     </td><td>when                                                     </td><td>area                                                     </td><td>is                                                       </td><td> 80                                                      </td><td>to                                                       </td><td> 90                                                      </td><td>&amp;                                                    </td><td>cityahvaz                                                </td><td>is                                                       </td><td>...                                                      </td><td>                                                         </td><td>                                                         </td><td><span style=white-space:pre-wrap>           </span>      </td><td><span style=white-space:pre-wrap>  </span>               </td><td>                                                         </td><td>                                                         </td><td><span style=white-space:pre-wrap>                 </span></td><td><span style=white-space:pre-wrap>  </span>               </td><td>                                                         </td><td> 2%                                                      </td></tr>\n",
       "\t<tr><th scope=row>37</th><td> 433                                                     </td><td>when                                                     </td><td>area                                                     </td><td>is                                                       </td><td> 75                                                      </td><td>to                                                       </td><td> 81                                                      </td><td>&amp;                                                    </td><td>cityahvaz                                                </td><td>is                                                       </td><td>...                                                      </td><td>                                                         </td><td>                                                         </td><td><span style=white-space:pre-wrap>           </span>      </td><td><span style=white-space:pre-wrap>  </span>               </td><td>                                                         </td><td>                                                         </td><td><span style=white-space:pre-wrap>                 </span></td><td><span style=white-space:pre-wrap>  </span>               </td><td>                                                         </td><td> 1%                                                      </td></tr>\n",
       "\t<tr><th scope=row>112</th><td> 449                                                     </td><td>when                                                     </td><td>area                                                     </td><td>is                                                       </td><td>123                                                      </td><td>to                                                       </td><td>175                                                      </td><td>&amp;                                                    </td><td>cityahvaz                                                </td><td>is                                                       </td><td>...                                                      </td><td>                                                         </td><td>                                                         </td><td><span style=white-space:pre-wrap>           </span>      </td><td><span style=white-space:pre-wrap>  </span>               </td><td>                                                         </td><td>                                                         </td><td><span style=white-space:pre-wrap>                 </span></td><td><span style=white-space:pre-wrap>  </span>               </td><td>                                                         </td><td> 1%                                                      </td></tr>\n",
       "\t<tr><th scope=row>208</th><td> 470                                                     </td><td>when                                                     </td><td>area                                                     </td><td>is                                                       </td><td>123                                                      </td><td>to                                                       </td><td>162                                                      </td><td>                                                         </td><td><span style=white-space:pre-wrap>         </span>        </td><td><span style=white-space:pre-wrap>  </span>               </td><td>...                                                      </td><td>                                                         </td><td>&amp;                                                    </td><td>citychamran                                              </td><td>is                                                       </td><td>0                                                        </td><td>                                                         </td><td><span style=white-space:pre-wrap>                 </span></td><td><span style=white-space:pre-wrap>  </span>               </td><td>                                                         </td><td> 2%                                                      </td></tr>\n",
       "\t<tr><th scope=row>331</th><td> 479                                                     </td><td>when                                                     </td><td>area                                                     </td><td>is                                                       </td><td> 90                                                      </td><td>to                                                       </td><td>109                                                      </td><td>&amp;                                                    </td><td>cityahvaz                                                </td><td>is                                                       </td><td>...                                                      </td><td>                                                         </td><td>                                                         </td><td><span style=white-space:pre-wrap>           </span>      </td><td><span style=white-space:pre-wrap>  </span>               </td><td>                                                         </td><td>                                                         </td><td><span style=white-space:pre-wrap>                 </span></td><td><span style=white-space:pre-wrap>  </span>               </td><td>                                                         </td><td> 1%                                                      </td></tr>\n",
       "\t<tr><th scope=row>174</th><td> 512                                                     </td><td>when                                                     </td><td>area                                                     </td><td>is                                                       </td><td>113                                                      </td><td>to                                                       </td><td>123                                                      </td><td>&amp;                                                    </td><td>cityahvaz                                                </td><td>is                                                       </td><td>...                                                      </td><td>                                                         </td><td>                                                         </td><td><span style=white-space:pre-wrap>           </span>      </td><td><span style=white-space:pre-wrap>  </span>               </td><td>                                                         </td><td>                                                         </td><td><span style=white-space:pre-wrap>                 </span></td><td><span style=white-space:pre-wrap>  </span>               </td><td>                                                         </td><td> 2%                                                      </td></tr>\n",
       "\t<tr><th scope=row>83</th><td> 544                                                     </td><td>when                                                     </td><td>area                                                     </td><td>is                                                       </td><td>109                                                      </td><td>to                                                       </td><td>123                                                      </td><td>&amp;                                                    </td><td>cityahvaz                                                </td><td>is                                                       </td><td>...                                                      </td><td>                                                         </td><td>                                                         </td><td><span style=white-space:pre-wrap>           </span>      </td><td><span style=white-space:pre-wrap>  </span>               </td><td>                                                         </td><td>                                                         </td><td><span style=white-space:pre-wrap>                 </span></td><td><span style=white-space:pre-wrap>  </span>               </td><td>                                                         </td><td> 1%                                                      </td></tr>\n",
       "\t<tr><th scope=row>209</th><td> 572                                                     </td><td>when                                                     </td><td>area                                                     </td><td>is                                                       </td><td>123                                                      </td><td>to                                                       </td><td>162                                                      </td><td>                                                         </td><td><span style=white-space:pre-wrap>         </span>        </td><td><span style=white-space:pre-wrap>  </span>               </td><td>...                                                      </td><td>                                                         </td><td>&amp;                                                    </td><td>citychamran                                              </td><td>is                                                       </td><td>1                                                        </td><td>                                                         </td><td><span style=white-space:pre-wrap>                 </span></td><td><span style=white-space:pre-wrap>  </span>               </td><td>                                                         </td><td> 1%                                                      </td></tr>\n",
       "\t<tr><th scope=row>347</th><td> 581                                                     </td><td>when                                                     </td><td>area                                                     </td><td>is                                                       </td><td> 98                                                      </td><td>to                                                       </td><td>113                                                      </td><td>&amp;                                                    </td><td>cityahvaz                                                </td><td>is                                                       </td><td>...                                                      </td><td>                                                         </td><td>                                                         </td><td><span style=white-space:pre-wrap>           </span>      </td><td><span style=white-space:pre-wrap>  </span>               </td><td>                                                         </td><td>                                                         </td><td><span style=white-space:pre-wrap>                 </span></td><td><span style=white-space:pre-wrap>  </span>               </td><td>                                                         </td><td> 1%                                                      </td></tr>\n",
       "\t<tr><th scope=row>11</th><td> 596                                                     </td><td>when                                                     </td><td>area                                                     </td><td>is                                                       </td><td> 90                                                      </td><td>to                                                       </td><td>123                                                      </td><td>&amp;                                                    </td><td>cityahvaz                                                </td><td>is                                                       </td><td>...                                                      </td><td>                                                         </td><td>                                                         </td><td><span style=white-space:pre-wrap>           </span>      </td><td><span style=white-space:pre-wrap>  </span>               </td><td>                                                         </td><td>                                                         </td><td><span style=white-space:pre-wrap>                 </span></td><td><span style=white-space:pre-wrap>  </span>               </td><td>                                                         </td><td> 3%                                                      </td></tr>\n",
       "\t<tr><th scope=row>105</th><td> 600             </td><td>when             </td><td>area             </td><td>is               </td><td>123              </td><td>to               </td><td>162              </td><td>                 </td><td>                 </td><td>                 </td><td>...              </td><td>                 </td><td>                 </td><td>                 </td><td>                 </td><td>                 </td><td>                 </td><td>                 </td><td>                 </td><td>                 </td><td> 1%              </td></tr>\n",
       "\t<tr><th scope=row>175</th><td> 608                                                     </td><td>when                                                     </td><td>area                                                     </td><td>is                                                       </td><td> 98                                                      </td><td>to                                                       </td><td>113                                                      </td><td>&amp;                                                    </td><td>cityahvaz                                                </td><td>is                                                       </td><td>...                                                      </td><td>                                                         </td><td>                                                         </td><td><span style=white-space:pre-wrap>           </span>      </td><td><span style=white-space:pre-wrap>  </span>               </td><td>                                                         </td><td>                                                         </td><td><span style=white-space:pre-wrap>                 </span></td><td><span style=white-space:pre-wrap>  </span>               </td><td>                                                         </td><td> 2%                                                      </td></tr>\n",
       "\t<tr><th scope=row>25</th><td> 609                                                     </td><td>when                                                     </td><td>area                                                     </td><td>&gt;=                                                    </td><td><span style=white-space:pre-wrap>   </span>              </td><td><span style=white-space:pre-wrap>  </span>               </td><td>196                                                      </td><td>                                                         </td><td><span style=white-space:pre-wrap>         </span>        </td><td><span style=white-space:pre-wrap>  </span>               </td><td>...                                                      </td><td>                                                         </td><td>                                                         </td><td><span style=white-space:pre-wrap>           </span>      </td><td><span style=white-space:pre-wrap>  </span>               </td><td>                                                         </td><td>                                                         </td><td><span style=white-space:pre-wrap>                 </span></td><td><span style=white-space:pre-wrap>  </span>               </td><td>                                                         </td><td> 1%                                                      </td></tr>\n",
       "\t<tr><th scope=row>113</th><td> 623                                                     </td><td>when                                                     </td><td>area                                                     </td><td>is                                                       </td><td>123                                                      </td><td>to                                                       </td><td>175                                                      </td><td>&amp;                                                    </td><td>cityahvaz                                                </td><td>is                                                       </td><td>...                                                      </td><td>                                                         </td><td>                                                         </td><td><span style=white-space:pre-wrap>           </span>      </td><td><span style=white-space:pre-wrap>  </span>               </td><td>                                                         </td><td>                                                         </td><td><span style=white-space:pre-wrap>                 </span></td><td><span style=white-space:pre-wrap>  </span>               </td><td>                                                         </td><td> 3%                                                      </td></tr>\n",
       "\t<tr><th scope=row>19</th><td> 685                                                     </td><td>when                                                     </td><td>area                                                     </td><td>is                                                       </td><td> 81                                                      </td><td>to                                                       </td><td> 90                                                      </td><td>&amp;                                                    </td><td>cityahvaz                                                </td><td>is                                                       </td><td>...                                                      </td><td>                                                         </td><td>                                                         </td><td><span style=white-space:pre-wrap>           </span>      </td><td><span style=white-space:pre-wrap>  </span>               </td><td>                                                         </td><td>                                                         </td><td><span style=white-space:pre-wrap>                 </span></td><td><span style=white-space:pre-wrap>  </span>               </td><td>                                                         </td><td> 1%                                                      </td></tr>\n",
       "\t<tr><th scope=row>53</th><td> 765             </td><td>when             </td><td>area             </td><td>is               </td><td>123              </td><td>to               </td><td>162              </td><td>                 </td><td>                 </td><td>                 </td><td>...              </td><td>                 </td><td>                 </td><td>                 </td><td>                 </td><td>                 </td><td>                 </td><td>                 </td><td>                 </td><td>                 </td><td> 2%              </td></tr>\n",
       "\t<tr><th scope=row>57</th><td> 913                                                     </td><td>when                                                     </td><td>area                                                     </td><td>&gt;=                                                    </td><td><span style=white-space:pre-wrap>   </span>              </td><td><span style=white-space:pre-wrap>  </span>               </td><td>175                                                      </td><td>&amp;                                                    </td><td>cityahvaz                                                </td><td>is                                                       </td><td>...                                                      </td><td>                                                         </td><td>                                                         </td><td><span style=white-space:pre-wrap>           </span>      </td><td><span style=white-space:pre-wrap>  </span>               </td><td>                                                         </td><td>                                                         </td><td><span style=white-space:pre-wrap>                 </span></td><td><span style=white-space:pre-wrap>  </span>               </td><td>                                                         </td><td> 1%                                                      </td></tr>\n",
       "\t<tr><th scope=row>29</th><td>1068                                                     </td><td>when                                                     </td><td>area                                                     </td><td>&gt;=                                                    </td><td><span style=white-space:pre-wrap>   </span>              </td><td><span style=white-space:pre-wrap>  </span>               </td><td>123                                                      </td><td>&amp;                                                    </td><td>cityahvaz                                                </td><td>is                                                       </td><td>...                                                      </td><td>                                                         </td><td>                                                         </td><td><span style=white-space:pre-wrap>           </span>      </td><td><span style=white-space:pre-wrap>  </span>               </td><td>                                                         </td><td>                                                         </td><td><span style=white-space:pre-wrap>                 </span></td><td><span style=white-space:pre-wrap>  </span>               </td><td>                                                         </td><td> 1%                                                      </td></tr>\n",
       "\t<tr><th scope=row>27</th><td>1087             </td><td>when             </td><td>area             </td><td>is               </td><td>162              </td><td>to               </td><td>196              </td><td>                 </td><td>                 </td><td>                 </td><td>...              </td><td>                 </td><td>                 </td><td>                 </td><td>                 </td><td>                 </td><td>                 </td><td>                 </td><td>                 </td><td>                 </td><td> 1%              </td></tr>\n",
       "\t<tr><th scope=row>15</th><td>1390                                                     </td><td>when                                                     </td><td>area                                                     </td><td>&gt;=                                                    </td><td><span style=white-space:pre-wrap>   </span>              </td><td><span style=white-space:pre-wrap>  </span>               </td><td>123                                                      </td><td>                                                         </td><td><span style=white-space:pre-wrap>         </span>        </td><td><span style=white-space:pre-wrap>  </span>               </td><td>...                                                      </td><td>                                                         </td><td>                                                         </td><td><span style=white-space:pre-wrap>           </span>      </td><td><span style=white-space:pre-wrap>  </span>               </td><td>                                                         </td><td>                                                         </td><td><span style=white-space:pre-wrap>                 </span></td><td><span style=white-space:pre-wrap>  </span>               </td><td>                                                         </td><td> 1%                                                      </td></tr>\n",
       "</tbody>\n",
       "</table>\n"
      ],
      "text/latex": [
       "\\begin{tabular}{r|llllllllllllllllllllllllllllllllllllllllllllllllllllll}\n",
       "  & y\\_train &  & .1 & .2 & .3 & .4 & .5 & .6 & .7 & .8 & ... &  & .1 & .2 & .3 & .4 & .5 & .6 & .7 & .8 &   cover\\\\\n",
       "\\hline\n",
       "\t32 &  130              & when              & area              & <                 &  80               &                   &                   & \\&               & cityahvaz         & is                & ...               &                   &                   &                   &                   &                   &                   &                   &                   &                   &  1\\%            \\\\\n",
       "\t132 &  155              & when              & area              & <                 &  80               &                   &                   & \\&               & cityahvaz         & is                & ...               &                   &                   &                   &                   &                   &                   &                   &                   &                   &  3\\%            \\\\\n",
       "\t268 &  169              & when              & area              & <                 &  80               &                   &                   & \\&               & cityahvaz         & is                & ...               &                   &                   &                   &                   &                   &                   &                   &                   &                   &  2\\%            \\\\\n",
       "\t1076 &  172              & when              & area              & is                &  75               & to                &  76               & \\&               & cityahvaz         & is                & ...               &                   &                   &                   &                   &                   &                   &                   &                   &                   &  2\\%            \\\\\n",
       "\t1078 &  192              & when              & area              & <                 &  61               &                   &                   & \\&               & cityahvaz         & is                & ...               &                   &                   &                   &                   &                   &                   &                   &                   &                   &  1\\%            \\\\\n",
       "\t270 &  209              & when              & area              & <                 &  67               &                   &                   & \\&               & cityahvaz         & is                & ...               &                   &                   &                   &                   &                   &                   &                   &                   &                   &  2\\%            \\\\\n",
       "\t34 &  212              & when              & area              & is                &  80               & to                &  90               & \\&               & cityahvaz         & is                & ...               &                   &                   &                   &                   &                   &                   &                   &                   &                   &  2\\%            \\\\\n",
       "\t280 &  222              & when              & area              & is                &  85               & to                &  85               & \\&               & cityahvaz         & is                & ...               &                   &                   &                   &                   &                   &                   &                   &                   &                   &  3\\%            \\\\\n",
       "\t133 &  228              & when              & area              & <                 &  80               &                   &                   & \\&               & cityahvaz         & is                & ...               &                   &                   &                   &                   &                   &                   &                   &                   &                   &  2\\%            \\\\\n",
       "\t2158 &  232              & when              & area              & is                &  61               & to                &  75               & \\&               & cityahvaz         & is                & ...               & 1                 &                   &                   &                   &                   &                   &                   &                   &                   &  2\\%            \\\\\n",
       "\t1084 &  232              & when              & area              & is                &  67               & to                &  80               & \\&               & cityahvaz         & is                & ...               &                   &                   &                   &                   &                   &                   &                   &                   &                   &  1\\%            \\\\\n",
       "\t1124 &  236              & when              & area              & is                &  88               & to                &  90               & \\&               & cityahvaz         & is                & ...               &                   &                   &                   &                   &                   &                   &                   &                   &                   &  2\\%            \\\\\n",
       "\t1077 &  249              & when              & area              & is                &  76               & to                &  80               & \\&               & cityahvaz         & is                & ...               &                   &                   &                   &                   &                   &                   &                   &                   &                   &  2\\%            \\\\\n",
       "\t4318 &  252              & when              & area              & is                &  61               & to                &  75               & \\&               & cityahvaz         & is                & ...               & 0                 &                   &                   &                   &                   &                   &                   &                   &                   &  2\\%            \\\\\n",
       "\t1086 &  267              & when              & area              & is                &  67               & to                &  73               & \\&               & cityahvaz         & is                & ...               &                   &                   &                   &                   &                   &                   &                   &                   &                   &  1\\%            \\\\\n",
       "\t160 &  271              & when              & area              & is                & 117               & to                & 123               & \\&               & cityahvaz         & is                & ...               &                   &                   &                   &                   &                   &                   &                   &                   &                   &  1\\%            \\\\\n",
       "\t4319 &  280              & when              & area              & is                &  61               & to                &  75               & \\&               & cityahvaz         & is                & ...               & 0                 &                   &                   &                   &                   &                   &                   &                   &                   &  2\\%            \\\\\n",
       "\t4500 &  281                & when                & area                & is                  &  88                 & to                  &  90                 & \\&                 & cityahvaz           & is                  & ...                 &                     &                     &                     &                     &                     & \\&                 & postal\\_code635111 & is                  & 0                   &  2\\%              \\\\\n",
       "\t24 &  301              & when              & area              & >=                &                   &                   & 196               &                   &                   &                   & ...               &                   &                   &                   &                   &                   &                   &                   &                   &                   &  2\\%            \\\\\n",
       "\t322 &  301              & when              & area              & is                &  93               & to                & 100               & \\&               & cityahvaz         & is                & ...               &                   &                   &                   &                   &                   &                   &                   &                   &                   &  3\\%            \\\\\n",
       "\t1085 &  303              & when              & area              & is                &  67               & to                &  80               & \\&               & cityahvaz         & is                & ...               &                   &                   &                   &                   &                   &                   &                   &                   &                   &  2\\%            \\\\\n",
       "\t4501 &  307                & when                & area                & is                  &  88                 & to                  &  90                 & \\&                 & cityahvaz           & is                  & ...                 &                     &                     &                     &                     &                     & \\&                 & postal\\_code635111 & is                  & 1                   &  1\\%              \\\\\n",
       "\t2251 &  322              & when              & area              & is                &  88               & to                &  90               & \\&               & cityahvaz         & is                & ...               &                   &                   &                   &                   &                   &                   &                   &                   &                   &  2\\%            \\\\\n",
       "\t1087 &  335              & when              & area              & is                &  73               & to                &  80               & \\&               & cityahvaz         & is                & ...               &                   &                   &                   &                   &                   &                   &                   &                   &                   &  3\\%            \\\\\n",
       "\t141 &  352              & when              & area              & is                &  80               & to                &  85               & \\&               & cityahvaz         & is                & ...               &                   &                   &                   &                   &                   &                   &                   &                   &                   &  3\\%            \\\\\n",
       "\t323 &  354              & when              & area              & is                & 100               & to                & 117               & \\&               & cityahvaz         & is                & ...               &                   &                   &                   &                   &                   &                   &                   &                   &                   &  3\\%            \\\\\n",
       "\t36 &  361              & when              & area              & <                 &  75               &                   &                   & \\&               & cityahvaz         & is                & ...               &                   &                   &                   &                   &                   &                   &                   &                   &                   &  2\\%            \\\\\n",
       "\t164 &  368              & when              & area              & is                &  90               & to                & 109               & \\&               & cityahvaz         & is                & ...               &                   &                   &                   &                   &                   &                   &                   &                   &                   &  3\\%            \\\\\n",
       "\t42 &  371              & when              & area              & is                &  90               & to                &  98               & \\&               & cityahvaz         & is                & ...               &                   &                   &                   &                   &                   &                   &                   &                   &                   &  2\\%            \\\\\n",
       "\t563 &  380              & when              & area              & is                &  85               & to                &  88               & \\&               & cityahvaz         & is                & ...               &                   &                   &                   &                   &                   &                   &                   &                   &                   &  2\\%            \\\\\n",
       "\t172 &  384              & when              & area              & is                & 113               & to                & 123               & \\&               & cityahvaz         & is                & ...               &                   &                   &                   &                   &                   &                   &                   &                   &                   &  1\\%            \\\\\n",
       "\t81 &  401              & when              & area              & is                &  90               & to                &  93               & \\&               & cityahvaz         & is                & ...               &                   &                   &                   &                   &                   &                   &                   &                   &                   &  1\\%            \\\\\n",
       "\t346 &  408              & when              & area              & is                &  98               & to                & 113               & \\&               & cityahvaz         & is                & ...               &                   &                   &                   &                   &                   &                   &                   &                   &                   &  2\\%            \\\\\n",
       "\t330 &  416              & when              & area              & is                &  90               & to                & 109               & \\&               & cityahvaz         & is                & ...               &                   &                   &                   &                   &                   &                   &                   &                   &                   &  3\\%            \\\\\n",
       "\t71 &  428              & when              & area              & is                &  80               & to                &  90               & \\&               & cityahvaz         & is                & ...               &                   &                   &                   &                   &                   &                   &                   &                   &                   &  2\\%            \\\\\n",
       "\t37 &  433              & when              & area              & is                &  75               & to                &  81               & \\&               & cityahvaz         & is                & ...               &                   &                   &                   &                   &                   &                   &                   &                   &                   &  1\\%            \\\\\n",
       "\t112 &  449              & when              & area              & is                & 123               & to                & 175               & \\&               & cityahvaz         & is                & ...               &                   &                   &                   &                   &                   &                   &                   &                   &                   &  1\\%            \\\\\n",
       "\t208 &  470              & when              & area              & is                & 123               & to                & 162               &                   &                   &                   & ...               &                   & \\&               & citychamran       & is                & 0                 &                   &                   &                   &                   &  2\\%            \\\\\n",
       "\t331 &  479              & when              & area              & is                &  90               & to                & 109               & \\&               & cityahvaz         & is                & ...               &                   &                   &                   &                   &                   &                   &                   &                   &                   &  1\\%            \\\\\n",
       "\t174 &  512              & when              & area              & is                & 113               & to                & 123               & \\&               & cityahvaz         & is                & ...               &                   &                   &                   &                   &                   &                   &                   &                   &                   &  2\\%            \\\\\n",
       "\t83 &  544              & when              & area              & is                & 109               & to                & 123               & \\&               & cityahvaz         & is                & ...               &                   &                   &                   &                   &                   &                   &                   &                   &                   &  1\\%            \\\\\n",
       "\t209 &  572              & when              & area              & is                & 123               & to                & 162               &                   &                   &                   & ...               &                   & \\&               & citychamran       & is                & 1                 &                   &                   &                   &                   &  1\\%            \\\\\n",
       "\t347 &  581              & when              & area              & is                &  98               & to                & 113               & \\&               & cityahvaz         & is                & ...               &                   &                   &                   &                   &                   &                   &                   &                   &                   &  1\\%            \\\\\n",
       "\t11 &  596              & when              & area              & is                &  90               & to                & 123               & \\&               & cityahvaz         & is                & ...               &                   &                   &                   &                   &                   &                   &                   &                   &                   &  3\\%            \\\\\n",
       "\t105 &  600              & when              & area              & is                & 123               & to                & 162               &                   &                   &                   & ...               &                   &                   &                   &                   &                   &                   &                   &                   &                   &  1\\%            \\\\\n",
       "\t175 &  608              & when              & area              & is                &  98               & to                & 113               & \\&               & cityahvaz         & is                & ...               &                   &                   &                   &                   &                   &                   &                   &                   &                   &  2\\%            \\\\\n",
       "\t25 &  609              & when              & area              & >=                &                   &                   & 196               &                   &                   &                   & ...               &                   &                   &                   &                   &                   &                   &                   &                   &                   &  1\\%            \\\\\n",
       "\t113 &  623              & when              & area              & is                & 123               & to                & 175               & \\&               & cityahvaz         & is                & ...               &                   &                   &                   &                   &                   &                   &                   &                   &                   &  3\\%            \\\\\n",
       "\t19 &  685              & when              & area              & is                &  81               & to                &  90               & \\&               & cityahvaz         & is                & ...               &                   &                   &                   &                   &                   &                   &                   &                   &                   &  1\\%            \\\\\n",
       "\t53 &  765              & when              & area              & is                & 123               & to                & 162               &                   &                   &                   & ...               &                   &                   &                   &                   &                   &                   &                   &                   &                   &  2\\%            \\\\\n",
       "\t57 &  913              & when              & area              & >=                &                   &                   & 175               & \\&               & cityahvaz         & is                & ...               &                   &                   &                   &                   &                   &                   &                   &                   &                   &  1\\%            \\\\\n",
       "\t29 & 1068              & when              & area              & >=                &                   &                   & 123               & \\&               & cityahvaz         & is                & ...               &                   &                   &                   &                   &                   &                   &                   &                   &                   &  1\\%            \\\\\n",
       "\t27 & 1087              & when              & area              & is                & 162               & to                & 196               &                   &                   &                   & ...               &                   &                   &                   &                   &                   &                   &                   &                   &                   &  1\\%            \\\\\n",
       "\t15 & 1390              & when              & area              & >=                &                   &                   & 123               &                   &                   &                   & ...               &                   &                   &                   &                   &                   &                   &                   &                   &                   &  1\\%            \\\\\n",
       "\\end{tabular}\n"
      ],
      "text/markdown": [
       "\n",
       "| <!--/--> | y_train |  | .1 | .2 | .3 | .4 | .5 | .6 | .7 | .8 | ... |  | .1 | .2 | .3 | .4 | .5 | .6 | .7 | .8 |   cover |\n",
       "|---|---|---|---|---|---|---|---|---|---|---|---|---|---|---|---|---|---|---|---|---|---|\n",
       "| 32 |  130              | when              | area              | <                 |  80               |                   |                   | &                 | cityahvaz         | is                | ...               |                   |                   |                   |                   |                   |                   |                   |                   |                   |  1%               |\n",
       "| 132 |  155              | when              | area              | <                 |  80               |                   |                   | &                 | cityahvaz         | is                | ...               |                   |                   |                   |                   |                   |                   |                   |                   |                   |  3%               |\n",
       "| 268 |  169              | when              | area              | <                 |  80               |                   |                   | &                 | cityahvaz         | is                | ...               |                   |                   |                   |                   |                   |                   |                   |                   |                   |  2%               |\n",
       "| 1076 |  172              | when              | area              | is                |  75               | to                |  76               | &                 | cityahvaz         | is                | ...               |                   |                   |                   |                   |                   |                   |                   |                   |                   |  2%               |\n",
       "| 1078 |  192              | when              | area              | <                 |  61               |                   |                   | &                 | cityahvaz         | is                | ...               |                   |                   |                   |                   |                   |                   |                   |                   |                   |  1%               |\n",
       "| 270 |  209              | when              | area              | <                 |  67               |                   |                   | &                 | cityahvaz         | is                | ...               |                   |                   |                   |                   |                   |                   |                   |                   |                   |  2%               |\n",
       "| 34 |  212              | when              | area              | is                |  80               | to                |  90               | &                 | cityahvaz         | is                | ...               |                   |                   |                   |                   |                   |                   |                   |                   |                   |  2%               |\n",
       "| 280 |  222              | when              | area              | is                |  85               | to                |  85               | &                 | cityahvaz         | is                | ...               |                   |                   |                   |                   |                   |                   |                   |                   |                   |  3%               |\n",
       "| 133 |  228              | when              | area              | <                 |  80               |                   |                   | &                 | cityahvaz         | is                | ...               |                   |                   |                   |                   |                   |                   |                   |                   |                   |  2%               |\n",
       "| 2158 |  232              | when              | area              | is                |  61               | to                |  75               | &                 | cityahvaz         | is                | ...               | 1                 |                   |                   |                   |                   |                   |                   |                   |                   |  2%               |\n",
       "| 1084 |  232              | when              | area              | is                |  67               | to                |  80               | &                 | cityahvaz         | is                | ...               |                   |                   |                   |                   |                   |                   |                   |                   |                   |  1%               |\n",
       "| 1124 |  236              | when              | area              | is                |  88               | to                |  90               | &                 | cityahvaz         | is                | ...               |                   |                   |                   |                   |                   |                   |                   |                   |                   |  2%               |\n",
       "| 1077 |  249              | when              | area              | is                |  76               | to                |  80               | &                 | cityahvaz         | is                | ...               |                   |                   |                   |                   |                   |                   |                   |                   |                   |  2%               |\n",
       "| 4318 |  252              | when              | area              | is                |  61               | to                |  75               | &                 | cityahvaz         | is                | ...               | 0                 |                   |                   |                   |                   |                   |                   |                   |                   |  2%               |\n",
       "| 1086 |  267              | when              | area              | is                |  67               | to                |  73               | &                 | cityahvaz         | is                | ...               |                   |                   |                   |                   |                   |                   |                   |                   |                   |  1%               |\n",
       "| 160 |  271              | when              | area              | is                | 117               | to                | 123               | &                 | cityahvaz         | is                | ...               |                   |                   |                   |                   |                   |                   |                   |                   |                   |  1%               |\n",
       "| 4319 |  280              | when              | area              | is                |  61               | to                |  75               | &                 | cityahvaz         | is                | ...               | 0                 |                   |                   |                   |                   |                   |                   |                   |                   |  2%               |\n",
       "| 4500 |  281              | when              | area              | is                |  88               | to                |  90               | &                 | cityahvaz         | is                | ...               |                   |                   |                   |                   |                   | &                 | postal_code635111 | is                | 0                 |  2%               |\n",
       "| 24 |  301              | when              | area              | >=                |                   |                   | 196               |                   |                   |                   | ...               |                   |                   |                   |                   |                   |                   |                   |                   |                   |  2%               |\n",
       "| 322 |  301              | when              | area              | is                |  93               | to                | 100               | &                 | cityahvaz         | is                | ...               |                   |                   |                   |                   |                   |                   |                   |                   |                   |  3%               |\n",
       "| 1085 |  303              | when              | area              | is                |  67               | to                |  80               | &                 | cityahvaz         | is                | ...               |                   |                   |                   |                   |                   |                   |                   |                   |                   |  2%               |\n",
       "| 4501 |  307              | when              | area              | is                |  88               | to                |  90               | &                 | cityahvaz         | is                | ...               |                   |                   |                   |                   |                   | &                 | postal_code635111 | is                | 1                 |  1%               |\n",
       "| 2251 |  322              | when              | area              | is                |  88               | to                |  90               | &                 | cityahvaz         | is                | ...               |                   |                   |                   |                   |                   |                   |                   |                   |                   |  2%               |\n",
       "| 1087 |  335              | when              | area              | is                |  73               | to                |  80               | &                 | cityahvaz         | is                | ...               |                   |                   |                   |                   |                   |                   |                   |                   |                   |  3%               |\n",
       "| 141 |  352              | when              | area              | is                |  80               | to                |  85               | &                 | cityahvaz         | is                | ...               |                   |                   |                   |                   |                   |                   |                   |                   |                   |  3%               |\n",
       "| 323 |  354              | when              | area              | is                | 100               | to                | 117               | &                 | cityahvaz         | is                | ...               |                   |                   |                   |                   |                   |                   |                   |                   |                   |  3%               |\n",
       "| 36 |  361              | when              | area              | <                 |  75               |                   |                   | &                 | cityahvaz         | is                | ...               |                   |                   |                   |                   |                   |                   |                   |                   |                   |  2%               |\n",
       "| 164 |  368              | when              | area              | is                |  90               | to                | 109               | &                 | cityahvaz         | is                | ...               |                   |                   |                   |                   |                   |                   |                   |                   |                   |  3%               |\n",
       "| 42 |  371              | when              | area              | is                |  90               | to                |  98               | &                 | cityahvaz         | is                | ...               |                   |                   |                   |                   |                   |                   |                   |                   |                   |  2%               |\n",
       "| 563 |  380              | when              | area              | is                |  85               | to                |  88               | &                 | cityahvaz         | is                | ...               |                   |                   |                   |                   |                   |                   |                   |                   |                   |  2%               |\n",
       "| 172 |  384              | when              | area              | is                | 113               | to                | 123               | &                 | cityahvaz         | is                | ...               |                   |                   |                   |                   |                   |                   |                   |                   |                   |  1%               |\n",
       "| 81 |  401              | when              | area              | is                |  90               | to                |  93               | &                 | cityahvaz         | is                | ...               |                   |                   |                   |                   |                   |                   |                   |                   |                   |  1%               |\n",
       "| 346 |  408              | when              | area              | is                |  98               | to                | 113               | &                 | cityahvaz         | is                | ...               |                   |                   |                   |                   |                   |                   |                   |                   |                   |  2%               |\n",
       "| 330 |  416              | when              | area              | is                |  90               | to                | 109               | &                 | cityahvaz         | is                | ...               |                   |                   |                   |                   |                   |                   |                   |                   |                   |  3%               |\n",
       "| 71 |  428              | when              | area              | is                |  80               | to                |  90               | &                 | cityahvaz         | is                | ...               |                   |                   |                   |                   |                   |                   |                   |                   |                   |  2%               |\n",
       "| 37 |  433              | when              | area              | is                |  75               | to                |  81               | &                 | cityahvaz         | is                | ...               |                   |                   |                   |                   |                   |                   |                   |                   |                   |  1%               |\n",
       "| 112 |  449              | when              | area              | is                | 123               | to                | 175               | &                 | cityahvaz         | is                | ...               |                   |                   |                   |                   |                   |                   |                   |                   |                   |  1%               |\n",
       "| 208 |  470              | when              | area              | is                | 123               | to                | 162               |                   |                   |                   | ...               |                   | &                 | citychamran       | is                | 0                 |                   |                   |                   |                   |  2%               |\n",
       "| 331 |  479              | when              | area              | is                |  90               | to                | 109               | &                 | cityahvaz         | is                | ...               |                   |                   |                   |                   |                   |                   |                   |                   |                   |  1%               |\n",
       "| 174 |  512              | when              | area              | is                | 113               | to                | 123               | &                 | cityahvaz         | is                | ...               |                   |                   |                   |                   |                   |                   |                   |                   |                   |  2%               |\n",
       "| 83 |  544              | when              | area              | is                | 109               | to                | 123               | &                 | cityahvaz         | is                | ...               |                   |                   |                   |                   |                   |                   |                   |                   |                   |  1%               |\n",
       "| 209 |  572              | when              | area              | is                | 123               | to                | 162               |                   |                   |                   | ...               |                   | &                 | citychamran       | is                | 1                 |                   |                   |                   |                   |  1%               |\n",
       "| 347 |  581              | when              | area              | is                |  98               | to                | 113               | &                 | cityahvaz         | is                | ...               |                   |                   |                   |                   |                   |                   |                   |                   |                   |  1%               |\n",
       "| 11 |  596              | when              | area              | is                |  90               | to                | 123               | &                 | cityahvaz         | is                | ...               |                   |                   |                   |                   |                   |                   |                   |                   |                   |  3%               |\n",
       "| 105 |  600              | when              | area              | is                | 123               | to                | 162               |                   |                   |                   | ...               |                   |                   |                   |                   |                   |                   |                   |                   |                   |  1%               |\n",
       "| 175 |  608              | when              | area              | is                |  98               | to                | 113               | &                 | cityahvaz         | is                | ...               |                   |                   |                   |                   |                   |                   |                   |                   |                   |  2%               |\n",
       "| 25 |  609              | when              | area              | >=                |                   |                   | 196               |                   |                   |                   | ...               |                   |                   |                   |                   |                   |                   |                   |                   |                   |  1%               |\n",
       "| 113 |  623              | when              | area              | is                | 123               | to                | 175               | &                 | cityahvaz         | is                | ...               |                   |                   |                   |                   |                   |                   |                   |                   |                   |  3%               |\n",
       "| 19 |  685              | when              | area              | is                |  81               | to                |  90               | &                 | cityahvaz         | is                | ...               |                   |                   |                   |                   |                   |                   |                   |                   |                   |  1%               |\n",
       "| 53 |  765              | when              | area              | is                | 123               | to                | 162               |                   |                   |                   | ...               |                   |                   |                   |                   |                   |                   |                   |                   |                   |  2%               |\n",
       "| 57 |  913              | when              | area              | >=                |                   |                   | 175               | &                 | cityahvaz         | is                | ...               |                   |                   |                   |                   |                   |                   |                   |                   |                   |  1%               |\n",
       "| 29 | 1068              | when              | area              | >=                |                   |                   | 123               | &                 | cityahvaz         | is                | ...               |                   |                   |                   |                   |                   |                   |                   |                   |                   |  1%               |\n",
       "| 27 | 1087              | when              | area              | is                | 162               | to                | 196               |                   |                   |                   | ...               |                   |                   |                   |                   |                   |                   |                   |                   |                   |  1%               |\n",
       "| 15 | 1390              | when              | area              | >=                |                   |                   | 123               |                   |                   |                   | ...               |                   |                   |                   |                   |                   |                   |                   |                   |                   |  1%               |\n",
       "\n"
      ],
      "text/plain": [
       "     y_train      .1   .2 .3  .4 .5  .6 .7        .8 ...   .1 .2          .3 .4\n",
       "32    130    when area <   80        &  cityahvaz is ...                       \n",
       "132   155    when area <   80        &  cityahvaz is ...                       \n",
       "268   169    when area <   80        &  cityahvaz is ...                       \n",
       "1076  172    when area is  75 to  76 &  cityahvaz is ...                       \n",
       "1078  192    when area <   61        &  cityahvaz is ...                       \n",
       "270   209    when area <   67        &  cityahvaz is ...                       \n",
       "34    212    when area is  80 to  90 &  cityahvaz is ...                       \n",
       "280   222    when area is  85 to  85 &  cityahvaz is ...                       \n",
       "133   228    when area <   80        &  cityahvaz is ...                       \n",
       "2158  232    when area is  61 to  75 &  cityahvaz is ... 1                     \n",
       "1084  232    when area is  67 to  80 &  cityahvaz is ...                       \n",
       "1124  236    when area is  88 to  90 &  cityahvaz is ...                       \n",
       "1077  249    when area is  76 to  80 &  cityahvaz is ...                       \n",
       "4318  252    when area is  61 to  75 &  cityahvaz is ... 0                     \n",
       "1086  267    when area is  67 to  73 &  cityahvaz is ...                       \n",
       "160   271    when area is 117 to 123 &  cityahvaz is ...                       \n",
       "4319  280    when area is  61 to  75 &  cityahvaz is ... 0                     \n",
       "4500  281    when area is  88 to  90 &  cityahvaz is ...                       \n",
       "24    301    when area >=        196                 ...                       \n",
       "322   301    when area is  93 to 100 &  cityahvaz is ...                       \n",
       "1085  303    when area is  67 to  80 &  cityahvaz is ...                       \n",
       "4501  307    when area is  88 to  90 &  cityahvaz is ...                       \n",
       "2251  322    when area is  88 to  90 &  cityahvaz is ...                       \n",
       "1087  335    when area is  73 to  80 &  cityahvaz is ...                       \n",
       "141   352    when area is  80 to  85 &  cityahvaz is ...                       \n",
       "323   354    when area is 100 to 117 &  cityahvaz is ...                       \n",
       "36    361    when area <   75        &  cityahvaz is ...                       \n",
       "164   368    when area is  90 to 109 &  cityahvaz is ...                       \n",
       "42    371    when area is  90 to  98 &  cityahvaz is ...                       \n",
       "563   380    when area is  85 to  88 &  cityahvaz is ...                       \n",
       "172   384    when area is 113 to 123 &  cityahvaz is ...                       \n",
       "81    401    when area is  90 to  93 &  cityahvaz is ...                       \n",
       "346   408    when area is  98 to 113 &  cityahvaz is ...                       \n",
       "330   416    when area is  90 to 109 &  cityahvaz is ...                       \n",
       "71    428    when area is  80 to  90 &  cityahvaz is ...                       \n",
       "37    433    when area is  75 to  81 &  cityahvaz is ...                       \n",
       "112   449    when area is 123 to 175 &  cityahvaz is ...                       \n",
       "208   470    when area is 123 to 162                 ...   &  citychamran is 0 \n",
       "331   479    when area is  90 to 109 &  cityahvaz is ...                       \n",
       "174   512    when area is 113 to 123 &  cityahvaz is ...                       \n",
       "83    544    when area is 109 to 123 &  cityahvaz is ...                       \n",
       "209   572    when area is 123 to 162                 ...   &  citychamran is 1 \n",
       "347   581    when area is  98 to 113 &  cityahvaz is ...                       \n",
       "11    596    when area is  90 to 123 &  cityahvaz is ...                       \n",
       "105   600    when area is 123 to 162                 ...                       \n",
       "175   608    when area is  98 to 113 &  cityahvaz is ...                       \n",
       "25    609    when area >=        196                 ...                       \n",
       "113   623    when area is 123 to 175 &  cityahvaz is ...                       \n",
       "19    685    when area is  81 to  90 &  cityahvaz is ...                       \n",
       "53    765    when area is 123 to 162                 ...                       \n",
       "57    913    when area >=        175 &  cityahvaz is ...                       \n",
       "29   1068    when area >=        123 &  cityahvaz is ...                       \n",
       "27   1087    when area is 162 to 196                 ...                       \n",
       "15   1390    when area >=        123                 ...                       \n",
       "     .5 .6                .7 .8   cover\n",
       "32                               1%    \n",
       "132                              3%    \n",
       "268                              2%    \n",
       "1076                             2%    \n",
       "1078                             1%    \n",
       "270                              2%    \n",
       "34                               2%    \n",
       "280                              3%    \n",
       "133                              2%    \n",
       "2158                             2%    \n",
       "1084                             1%    \n",
       "1124                             2%    \n",
       "1077                             2%    \n",
       "4318                             2%    \n",
       "1086                             1%    \n",
       "160                              1%    \n",
       "4319                             2%    \n",
       "4500 &  postal_code635111 is 0   2%    \n",
       "24                               2%    \n",
       "322                              3%    \n",
       "1085                             2%    \n",
       "4501 &  postal_code635111 is 1   1%    \n",
       "2251                             2%    \n",
       "1087                             3%    \n",
       "141                              3%    \n",
       "323                              3%    \n",
       "36                               2%    \n",
       "164                              3%    \n",
       "42                               2%    \n",
       "563                              2%    \n",
       "172                              1%    \n",
       "81                               1%    \n",
       "346                              2%    \n",
       "330                              3%    \n",
       "71                               2%    \n",
       "37                               1%    \n",
       "112                              1%    \n",
       "208                              2%    \n",
       "331                              1%    \n",
       "174                              2%    \n",
       "83                               1%    \n",
       "209                              1%    \n",
       "347                              1%    \n",
       "11                               3%    \n",
       "105                              1%    \n",
       "175                              2%    \n",
       "25                               1%    \n",
       "113                              3%    \n",
       "19                               1%    \n",
       "53                               2%    \n",
       "57                               1%    \n",
       "29                               1%    \n",
       "27                               1%    \n",
       "15                               1%    "
      ]
     },
     "metadata": {},
     "output_type": "display_data"
    }
   ],
   "source": [
    "rpart.rules(deep.reg.tree,cover = TRUE)"
   ]
  },
  {
   "cell_type": "code",
   "execution_count": 39,
   "metadata": {},
   "outputs": [
    {
     "data": {
      "text/html": [
       "<table>\n",
       "<thead><tr><th></th><th scope=col>ME</th><th scope=col>RMSE</th><th scope=col>MAE</th><th scope=col>MPE</th><th scope=col>MAPE</th></tr></thead>\n",
       "<tbody>\n",
       "\t<tr><th scope=row>Test set</th><td>-0.000000000000002256542</td><td>176.3462                </td><td>113.7177                </td><td>-4872.698               </td><td>4891.876                </td></tr>\n",
       "</tbody>\n",
       "</table>\n"
      ],
      "text/latex": [
       "\\begin{tabular}{r|lllll}\n",
       "  & ME & RMSE & MAE & MPE & MAPE\\\\\n",
       "\\hline\n",
       "\tTest set & -0.000000000000002256542 & 176.3462                 & 113.7177                 & -4872.698                & 4891.876                \\\\\n",
       "\\end{tabular}\n"
      ],
      "text/markdown": [
       "\n",
       "| <!--/--> | ME | RMSE | MAE | MPE | MAPE |\n",
       "|---|---|---|---|---|---|\n",
       "| Test set | -0.000000000000002256542 | 176.3462                 | 113.7177                 | -4872.698                | 4891.876                 |\n",
       "\n"
      ],
      "text/plain": [
       "         ME                       RMSE     MAE      MPE       MAPE    \n",
       "Test set -0.000000000000002256542 176.3462 113.7177 -4872.698 4891.876"
      ]
     },
     "metadata": {},
     "output_type": "display_data"
    }
   ],
   "source": [
    "accuracy(predict(deep.reg.tree,x_train),y_train)"
   ]
  },
  {
   "cell_type": "code",
   "execution_count": 40,
   "metadata": {},
   "outputs": [
    {
     "data": {
      "text/html": [
       "<table>\n",
       "<thead><tr><th></th><th scope=col>ME</th><th scope=col>RMSE</th><th scope=col>MAE</th><th scope=col>MPE</th><th scope=col>MAPE</th></tr></thead>\n",
       "<tbody>\n",
       "\t<tr><th scope=row>Test set</th><td>42.81598 </td><td>259.4333 </td><td>151.7825 </td><td>-1755.838</td><td>1785.949 </td></tr>\n",
       "</tbody>\n",
       "</table>\n"
      ],
      "text/latex": [
       "\\begin{tabular}{r|lllll}\n",
       "  & ME & RMSE & MAE & MPE & MAPE\\\\\n",
       "\\hline\n",
       "\tTest set & 42.81598  & 259.4333  & 151.7825  & -1755.838 & 1785.949 \\\\\n",
       "\\end{tabular}\n"
      ],
      "text/markdown": [
       "\n",
       "| <!--/--> | ME | RMSE | MAE | MPE | MAPE |\n",
       "|---|---|---|---|---|---|\n",
       "| Test set | 42.81598  | 259.4333  | 151.7825  | -1755.838 | 1785.949  |\n",
       "\n"
      ],
      "text/plain": [
       "         ME       RMSE     MAE      MPE       MAPE    \n",
       "Test set 42.81598 259.4333 151.7825 -1755.838 1785.949"
      ]
     },
     "metadata": {},
     "output_type": "display_data"
    }
   ],
   "source": [
    "accuracy(predict(deep.reg.tree,x_test),y_test)"
   ]
  },
  {
   "cell_type": "code",
   "execution_count": null,
   "metadata": {},
   "outputs": [],
   "source": []
  },
  {
   "cell_type": "code",
   "execution_count": 41,
   "metadata": {},
   "outputs": [
    {
     "name": "stdout",
     "output_type": "stream",
     "text": [
      "\n",
      "Regression tree:\n",
      "rpart(formula = y_train ~ ., data = train, method = \"anova\", \n",
      "    cp = 0)\n",
      "\n",
      "Variables actually used in tree construction:\n",
      " [1] area                               building_age                      \n",
      " [3] cityabadan                         cityahvaz                         \n",
      " [5] citybandare_emam_khomeini          citybandare_mahshahr              \n",
      " [7] citychamran                        postal_code631579                 \n",
      " [9] postal_code635111                  skeleton_typebrick_or_cement_block\n",
      "[11] skeleton_typeconcrete              skeleton_typemetal                \n",
      "\n",
      "Root node error: 48176757/614 = 78464\n",
      "\n",
      "n= 614 \n",
      "\n",
      "            CP nsplit rel error  xerror    xstd\n",
      "1  0.240793018      0   1.00000 1.00425 0.13557\n",
      "2  0.059847642      1   0.75921 0.78844 0.11014\n",
      "3  0.042885368      2   0.69936 0.73839 0.11272\n",
      "4  0.027998852      4   0.61359 0.75817 0.11512\n",
      "5  0.023601447      5   0.58559 0.74939 0.11563\n",
      "6  0.020250407      7   0.53839 0.75634 0.11575\n",
      "7  0.014443176      8   0.51814 0.76050 0.11585\n",
      "8  0.010966263      9   0.50369 0.75430 0.11458\n",
      "9  0.009908470     10   0.49273 0.74085 0.11506\n",
      "10 0.009469504     11   0.48282 0.73929 0.11506\n",
      "11 0.008377270     12   0.47335 0.73854 0.10821\n",
      "12 0.007361642     13   0.46497 0.74018 0.10872\n",
      "13 0.007339947     14   0.45761 0.73618 0.10872\n",
      "14 0.005140450     15   0.45027 0.72909 0.10872\n",
      "15 0.004330327     16   0.44513 0.73782 0.11025\n",
      "16 0.003150177     17   0.44080 0.73954 0.11029\n",
      "17 0.003088965     18   0.43765 0.73763 0.10937\n",
      "18 0.002805694     20   0.43147 0.73763 0.10937\n",
      "19 0.002200956     21   0.42867 0.73532 0.10907\n",
      "20 0.002152135     22   0.42646 0.74394 0.11085\n",
      "21 0.002138819     24   0.42216 0.74735 0.11103\n",
      "22 0.001631756     27   0.41574 0.74260 0.10713\n",
      "23 0.001438326     30   0.41084 0.74256 0.10695\n",
      "24 0.001183281     31   0.40940 0.74725 0.10695\n",
      "25 0.001140911     32   0.40822 0.74503 0.10691\n",
      "26 0.001116409     33   0.40708 0.74533 0.10691\n",
      "27 0.000977614     34   0.40596 0.74958 0.10695\n",
      "28 0.000964405     35   0.40499 0.74801 0.10696\n",
      "29 0.000883467     36   0.40402 0.74817 0.10696\n",
      "30 0.000725336     37   0.40314 0.74653 0.10693\n",
      "31 0.000650813     38   0.40241 0.74742 0.10695\n",
      "32 0.000559276     39   0.40176 0.74772 0.10695\n",
      "33 0.000524747     41   0.40064 0.74608 0.10659\n",
      "34 0.000510447     42   0.40012 0.74606 0.10659\n",
      "35 0.000508986     43   0.39961 0.74606 0.10659\n",
      "36 0.000466130     44   0.39910 0.74607 0.10659\n",
      "37 0.000440098     47   0.39770 0.74648 0.10658\n",
      "38 0.000175551     49   0.39682 0.74775 0.10663\n",
      "39 0.000137621     50   0.39665 0.74875 0.10665\n",
      "40 0.000102012     51   0.39651 0.74866 0.10665\n",
      "41 0.000070437     52   0.39641 0.74856 0.10665\n",
      "42 0.000000000     53   0.39634 0.74858 0.10665\n"
     ]
    }
   ],
   "source": [
    "printcp(deep.reg.tree)"
   ]
  },
  {
   "cell_type": "code",
   "execution_count": null,
   "metadata": {},
   "outputs": [],
   "source": []
  },
  {
   "cell_type": "code",
   "execution_count": 42,
   "metadata": {},
   "outputs": [],
   "source": [
    "pruned.deep.reg.tree = prune(deep.reg.tree,cp=deep.reg.tree$cptable[which.min(deep.reg.tree$cptable[,'xerror']),'CP'])"
   ]
  },
  {
   "cell_type": "code",
   "execution_count": 43,
   "metadata": {},
   "outputs": [
    {
     "data": {
      "image/png": "[encoded data removed]",
      "text/plain": [
       "plot without title"
      ]
     },
     "metadata": {},
     "output_type": "display_data"
    }
   ],
   "source": [
    "rpart.plot(pruned.deep.reg.tree,split.font=2)"
   ]
  },
  {
   "cell_type": "code",
   "execution_count": 52,
   "metadata": {},
   "outputs": [
    {
     "data": {
      "text/html": [
       "<table>\n",
       "<thead><tr><th></th><th scope=col>y_train</th><th scope=col></th><th scope=col>.1</th><th scope=col>.2</th><th scope=col>.3</th><th scope=col>.4</th><th scope=col>.5</th><th scope=col>.6</th><th scope=col>.7</th><th scope=col>.8</th><th scope=col>...</th><th scope=col></th><th scope=col>.1</th><th scope=col>.2</th><th scope=col>.3</th><th scope=col>.4</th><th scope=col>.5</th><th scope=col>.6</th><th scope=col>.7</th><th scope=col>.8</th><th scope=col>  cover</th></tr></thead>\n",
       "<tbody>\n",
       "\t<tr><th scope=row>16</th><td> 229                                                        </td><td>when                                                        </td><td>area                                                        </td><td>&lt;                                                        </td><td> 80                                                         </td><td><span style=white-space:pre-wrap>  </span>                  </td><td><span style=white-space:pre-wrap>   </span>                 </td><td>&amp;                                                       </td><td>cityahvaz                                                   </td><td>is                                                          </td><td>...                                                         </td><td>                                                            </td><td>                                                            </td><td><span style=white-space:pre-wrap>            </span>        </td><td><span style=white-space:pre-wrap>  </span>                  </td><td>                                                            </td><td>                                                            </td><td><span style=white-space:pre-wrap>                    </span></td><td><span style=white-space:pre-wrap>  </span>                  </td><td>                                                            </td><td>28%                                                         </td></tr>\n",
       "\t<tr><th scope=row>17</th><td> 301                                                        </td><td>when                                                        </td><td>area                                                        </td><td>is                                                          </td><td> 80                                                         </td><td>to                                                          </td><td> 90                                                         </td><td>&amp;                                                       </td><td>cityahvaz                                                   </td><td>is                                                          </td><td>...                                                         </td><td>                                                            </td><td>                                                            </td><td><span style=white-space:pre-wrap>            </span>        </td><td><span style=white-space:pre-wrap>  </span>                  </td><td>                                                            </td><td>                                                            </td><td><span style=white-space:pre-wrap>                    </span></td><td><span style=white-space:pre-wrap>  </span>                  </td><td>                                                            </td><td>18%                                                         </td></tr>\n",
       "\t<tr><th scope=row>24</th><td> 301                                                        </td><td>when                                                        </td><td>area                                                        </td><td>&gt;=                                                       </td><td><span style=white-space:pre-wrap>   </span>                 </td><td><span style=white-space:pre-wrap>  </span>                  </td><td>196                                                         </td><td>                                                            </td><td><span style=white-space:pre-wrap>         </span>           </td><td><span style=white-space:pre-wrap>  </span>                  </td><td>...                                                         </td><td>0                                                           </td><td>&amp;                                                       </td><td>building_age                                                </td><td>&gt;=                                                       </td><td>7                                                           </td><td>                                                            </td><td><span style=white-space:pre-wrap>                    </span></td><td><span style=white-space:pre-wrap>  </span>                  </td><td>                                                            </td><td> 2%                                                         </td></tr>\n",
       "\t<tr><th scope=row>20</th><td> 381                                                        </td><td>when                                                        </td><td>area                                                        </td><td>is                                                          </td><td> 90                                                         </td><td>to                                                          </td><td>123                                                         </td><td>&amp;                                                       </td><td>cityahvaz                                                   </td><td>is                                                          </td><td>...                                                         </td><td>                                                            </td><td>&amp;                                                       </td><td>building_age                                                </td><td>&gt;=                                                       </td><td>3                                                           </td><td>                                                            </td><td><span style=white-space:pre-wrap>                    </span></td><td><span style=white-space:pre-wrap>  </span>                  </td><td>                                                            </td><td>16%                                                         </td></tr>\n",
       "\t<tr><th scope=row>18</th><td> 393                                                        </td><td>when                                                        </td><td>area                                                        </td><td>&lt;                                                        </td><td> 81                                                         </td><td><span style=white-space:pre-wrap>  </span>                  </td><td><span style=white-space:pre-wrap>   </span>                 </td><td>&amp;                                                       </td><td>cityahvaz                                                   </td><td>is                                                          </td><td>...                                                         </td><td>                                                            </td><td>                                                            </td><td><span style=white-space:pre-wrap>            </span>        </td><td><span style=white-space:pre-wrap>  </span>                  </td><td>                                                            </td><td>                                                            </td><td><span style=white-space:pre-wrap>                    </span></td><td><span style=white-space:pre-wrap>  </span>                  </td><td>                                                            </td><td> 3%                                                         </td></tr>\n",
       "\t<tr><th scope=row>21</th><td> 475                                                        </td><td>when                                                        </td><td>area                                                        </td><td>is                                                          </td><td> 90                                                         </td><td>to                                                          </td><td>123                                                         </td><td>&amp;                                                       </td><td>cityahvaz                                                   </td><td>is                                                          </td><td>...                                                         </td><td>                                                            </td><td>&amp;                                                       </td><td>building_age                                                </td><td>&lt;                                                        </td><td>3                                                           </td><td>                                                            </td><td><span style=white-space:pre-wrap>                    </span></td><td><span style=white-space:pre-wrap>  </span>                  </td><td>                                                            </td><td>11%                                                         </td></tr>\n",
       "\t<tr><th scope=row>52</th><td> 534                                                        </td><td>when                                                        </td><td>area                                                        </td><td>is                                                          </td><td>123                                                         </td><td>to                                                          </td><td>162                                                         </td><td>                                                            </td><td><span style=white-space:pre-wrap>         </span>           </td><td><span style=white-space:pre-wrap>  </span>                  </td><td>...                                                         </td><td>0                                                           </td><td>&amp;                                                       </td><td>building_age                                                </td><td>&gt;=                                                       </td><td>3                                                           </td><td>                                                            </td><td><span style=white-space:pre-wrap>                    </span></td><td><span style=white-space:pre-wrap>  </span>                  </td><td>                                                            </td><td> 5%                                                         </td></tr>\n",
       "\t<tr><th scope=row>56</th><td> 574                                                </td><td>when                                                </td><td>area                                                </td><td>is                                                  </td><td>123                                                 </td><td>to                                                  </td><td>175                                                 </td><td>&amp;                                               </td><td>cityahvaz                                           </td><td>is                                                  </td><td>...                                                 </td><td>1                                                   </td><td>                                                    </td><td><span style=white-space:pre-wrap>            </span></td><td><span style=white-space:pre-wrap>  </span>          </td><td>                                                    </td><td>&amp;                                               </td><td>citybandare_mahshahr                                </td><td>is                                                  </td><td>0                                                   </td><td> 4%                                                 </td></tr>\n",
       "\t<tr><th scope=row>11</th><td> 596                                                        </td><td>when                                                        </td><td>area                                                        </td><td>is                                                          </td><td> 90                                                         </td><td>to                                                          </td><td>123                                                         </td><td>&amp;                                                       </td><td>cityahvaz                                                   </td><td>is                                                          </td><td>...                                                         </td><td>                                                            </td><td>                                                            </td><td><span style=white-space:pre-wrap>            </span>        </td><td><span style=white-space:pre-wrap>  </span>                  </td><td>                                                            </td><td>                                                            </td><td><span style=white-space:pre-wrap>                    </span></td><td><span style=white-space:pre-wrap>  </span>                  </td><td>                                                            </td><td> 3%                                                         </td></tr>\n",
       "\t<tr><th scope=row>25</th><td> 609                                                        </td><td>when                                                        </td><td>area                                                        </td><td>&gt;=                                                       </td><td><span style=white-space:pre-wrap>   </span>                 </td><td><span style=white-space:pre-wrap>  </span>                  </td><td>196                                                         </td><td>                                                            </td><td><span style=white-space:pre-wrap>         </span>           </td><td><span style=white-space:pre-wrap>  </span>                  </td><td>...                                                         </td><td>0                                                           </td><td>&amp;                                                       </td><td>building_age                                                </td><td>&lt;                                                        </td><td>7                                                           </td><td>                                                            </td><td><span style=white-space:pre-wrap>                    </span></td><td><span style=white-space:pre-wrap>  </span>                  </td><td>                                                            </td><td> 1%                                                         </td></tr>\n",
       "\t<tr><th scope=row>19</th><td> 685                                                        </td><td>when                                                        </td><td>area                                                        </td><td>is                                                          </td><td> 81                                                         </td><td>to                                                          </td><td> 90                                                         </td><td>&amp;                                                       </td><td>cityahvaz                                                   </td><td>is                                                          </td><td>...                                                         </td><td>                                                            </td><td>                                                            </td><td><span style=white-space:pre-wrap>            </span>        </td><td><span style=white-space:pre-wrap>  </span>                  </td><td>                                                            </td><td>                                                            </td><td><span style=white-space:pre-wrap>                    </span></td><td><span style=white-space:pre-wrap>  </span>                  </td><td>                                                            </td><td> 1%                                                         </td></tr>\n",
       "\t<tr><th scope=row>53</th><td> 765                                                        </td><td>when                                                        </td><td>area                                                        </td><td>is                                                          </td><td>123                                                         </td><td>to                                                          </td><td>162                                                         </td><td>                                                            </td><td><span style=white-space:pre-wrap>         </span>           </td><td><span style=white-space:pre-wrap>  </span>                  </td><td>...                                                         </td><td>0                                                           </td><td>&amp;                                                       </td><td>building_age                                                </td><td>&lt;                                                        </td><td>3                                                           </td><td>                                                            </td><td><span style=white-space:pre-wrap>                    </span></td><td><span style=white-space:pre-wrap>  </span>                  </td><td>                                                            </td><td> 2%                                                         </td></tr>\n",
       "\t<tr><th scope=row>57</th><td> 913                                                </td><td>when                                                </td><td>area                                                </td><td>&gt;=                                               </td><td><span style=white-space:pre-wrap>   </span>         </td><td><span style=white-space:pre-wrap>  </span>          </td><td>175                                                 </td><td>&amp;                                               </td><td>cityahvaz                                           </td><td>is                                                  </td><td>...                                                 </td><td>1                                                   </td><td>                                                    </td><td><span style=white-space:pre-wrap>            </span></td><td><span style=white-space:pre-wrap>  </span>          </td><td>                                                    </td><td>&amp;                                               </td><td>citybandare_mahshahr                                </td><td>is                                                  </td><td>0                                                   </td><td> 1%                                                 </td></tr>\n",
       "\t<tr><th scope=row>29</th><td>1068                                                </td><td>when                                                </td><td>area                                                </td><td>&gt;=                                               </td><td><span style=white-space:pre-wrap>   </span>         </td><td><span style=white-space:pre-wrap>  </span>          </td><td>123                                                 </td><td>&amp;                                               </td><td>cityahvaz                                           </td><td>is                                                  </td><td>...                                                 </td><td>1                                                   </td><td>                                                    </td><td><span style=white-space:pre-wrap>            </span></td><td><span style=white-space:pre-wrap>  </span>          </td><td>                                                    </td><td>&amp;                                               </td><td>citybandare_mahshahr                                </td><td>is                                                  </td><td>0                                                   </td><td> 1%                                                 </td></tr>\n",
       "\t<tr><th scope=row>27</th><td>1087                </td><td>when                </td><td>area                </td><td>is                  </td><td>162                 </td><td>to                  </td><td>196                 </td><td>                    </td><td>                    </td><td>                    </td><td>...                 </td><td>0                   </td><td>                    </td><td>                    </td><td>                    </td><td>                    </td><td>                    </td><td>                    </td><td>                    </td><td>                    </td><td> 1%                 </td></tr>\n",
       "\t<tr><th scope=row>15</th><td>1390                                                </td><td>when                                                </td><td>area                                                </td><td>&gt;=                                               </td><td><span style=white-space:pre-wrap>   </span>         </td><td><span style=white-space:pre-wrap>  </span>          </td><td>123                                                 </td><td>                                                    </td><td><span style=white-space:pre-wrap>         </span>   </td><td><span style=white-space:pre-wrap>  </span>          </td><td>...                                                 </td><td>1                                                   </td><td>                                                    </td><td><span style=white-space:pre-wrap>            </span></td><td><span style=white-space:pre-wrap>  </span>          </td><td>                                                    </td><td>&amp;                                               </td><td>citybandare_mahshahr                                </td><td>is                                                  </td><td>1                                                   </td><td> 1%                                                 </td></tr>\n",
       "</tbody>\n",
       "</table>\n"
      ],
      "text/latex": [
       "\\begin{tabular}{r|llllllllllllllllllllllll}\n",
       "  & y\\_train &  & .1 & .2 & .3 & .4 & .5 & .6 & .7 & .8 & ... &  & .1 & .2 & .3 & .4 & .5 & .6 & .7 & .8 &   cover\\\\\n",
       "\\hline\n",
       "\t16 &  229                 & when                 & area                 & <                    &  80                  &                      &                      & \\&                  & cityahvaz            & is                   & ...                  &                      &                      &                      &                      &                      &                      &                      &                      &                      & 28\\%               \\\\\n",
       "\t17 &  301                 & when                 & area                 & is                   &  80                  & to                   &  90                  & \\&                  & cityahvaz            & is                   & ...                  &                      &                      &                      &                      &                      &                      &                      &                      &                      & 18\\%               \\\\\n",
       "\t24 &  301                 & when                 & area                 & >=                   &                      &                      & 196                  &                      &                      &                      & ...                  & 0                    & \\&                  & building\\_age       & >=                   & 7                    &                      &                      &                      &                      &  2\\%               \\\\\n",
       "\t20 &  381                 & when                 & area                 & is                   &  90                  & to                   & 123                  & \\&                  & cityahvaz            & is                   & ...                  &                      & \\&                  & building\\_age       & >=                   & 3                    &                      &                      &                      &                      & 16\\%               \\\\\n",
       "\t18 &  393                 & when                 & area                 & <                    &  81                  &                      &                      & \\&                  & cityahvaz            & is                   & ...                  &                      &                      &                      &                      &                      &                      &                      &                      &                      &  3\\%               \\\\\n",
       "\t21 &  475                 & when                 & area                 & is                   &  90                  & to                   & 123                  & \\&                  & cityahvaz            & is                   & ...                  &                      & \\&                  & building\\_age       & <                    & 3                    &                      &                      &                      &                      & 11\\%               \\\\\n",
       "\t52 &  534                 & when                 & area                 & is                   & 123                  & to                   & 162                  &                      &                      &                      & ...                  & 0                    & \\&                  & building\\_age       & >=                   & 3                    &                      &                      &                      &                      &  5\\%               \\\\\n",
       "\t56 &  574                   & when                   & area                   & is                     & 123                    & to                     & 175                    & \\&                    & cityahvaz              & is                     & ...                    & 1                      &                        &                        &                        &                        & \\&                    & citybandare\\_mahshahr & is                     & 0                      &  4\\%                 \\\\\n",
       "\t11 &  596                 & when                 & area                 & is                   &  90                  & to                   & 123                  & \\&                  & cityahvaz            & is                   & ...                  &                      &                      &                      &                      &                      &                      &                      &                      &                      &  3\\%               \\\\\n",
       "\t25 &  609                 & when                 & area                 & >=                   &                      &                      & 196                  &                      &                      &                      & ...                  & 0                    & \\&                  & building\\_age       & <                    & 7                    &                      &                      &                      &                      &  1\\%               \\\\\n",
       "\t19 &  685                 & when                 & area                 & is                   &  81                  & to                   &  90                  & \\&                  & cityahvaz            & is                   & ...                  &                      &                      &                      &                      &                      &                      &                      &                      &                      &  1\\%               \\\\\n",
       "\t53 &  765                 & when                 & area                 & is                   & 123                  & to                   & 162                  &                      &                      &                      & ...                  & 0                    & \\&                  & building\\_age       & <                    & 3                    &                      &                      &                      &                      &  2\\%               \\\\\n",
       "\t57 &  913                   & when                   & area                   & >=                     &                        &                        & 175                    & \\&                    & cityahvaz              & is                     & ...                    & 1                      &                        &                        &                        &                        & \\&                    & citybandare\\_mahshahr & is                     & 0                      &  1\\%                 \\\\\n",
       "\t29 & 1068                   & when                   & area                   & >=                     &                        &                        & 123                    & \\&                    & cityahvaz              & is                     & ...                    & 1                      &                        &                        &                        &                        & \\&                    & citybandare\\_mahshahr & is                     & 0                      &  1\\%                 \\\\\n",
       "\t27 & 1087                 & when                 & area                 & is                   & 162                  & to                   & 196                  &                      &                      &                      & ...                  & 0                    &                      &                      &                      &                      &                      &                      &                      &                      &  1\\%               \\\\\n",
       "\t15 & 1390                   & when                   & area                   & >=                     &                        &                        & 123                    &                        &                        &                        & ...                    & 1                      &                        &                        &                        &                        & \\&                    & citybandare\\_mahshahr & is                     & 1                      &  1\\%                 \\\\\n",
       "\\end{tabular}\n"
      ],
      "text/markdown": [
       "\n",
       "| <!--/--> | y_train |  | .1 | .2 | .3 | .4 | .5 | .6 | .7 | .8 | ... |  | .1 | .2 | .3 | .4 | .5 | .6 | .7 | .8 |   cover |\n",
       "|---|---|---|---|---|---|---|---|---|---|---|---|---|---|---|---|---|---|---|---|---|---|\n",
       "| 16 |  229                 | when                 | area                 | <                    |  80                  |                      |                      | &                    | cityahvaz            | is                   | ...                  |                      |                      |                      |                      |                      |                      |                      |                      |                      | 28%                  |\n",
       "| 17 |  301                 | when                 | area                 | is                   |  80                  | to                   |  90                  | &                    | cityahvaz            | is                   | ...                  |                      |                      |                      |                      |                      |                      |                      |                      |                      | 18%                  |\n",
       "| 24 |  301                 | when                 | area                 | >=                   |                      |                      | 196                  |                      |                      |                      | ...                  | 0                    | &                    | building_age         | >=                   | 7                    |                      |                      |                      |                      |  2%                  |\n",
       "| 20 |  381                 | when                 | area                 | is                   |  90                  | to                   | 123                  | &                    | cityahvaz            | is                   | ...                  |                      | &                    | building_age         | >=                   | 3                    |                      |                      |                      |                      | 16%                  |\n",
       "| 18 |  393                 | when                 | area                 | <                    |  81                  |                      |                      | &                    | cityahvaz            | is                   | ...                  |                      |                      |                      |                      |                      |                      |                      |                      |                      |  3%                  |\n",
       "| 21 |  475                 | when                 | area                 | is                   |  90                  | to                   | 123                  | &                    | cityahvaz            | is                   | ...                  |                      | &                    | building_age         | <                    | 3                    |                      |                      |                      |                      | 11%                  |\n",
       "| 52 |  534                 | when                 | area                 | is                   | 123                  | to                   | 162                  |                      |                      |                      | ...                  | 0                    | &                    | building_age         | >=                   | 3                    |                      |                      |                      |                      |  5%                  |\n",
       "| 56 |  574                 | when                 | area                 | is                   | 123                  | to                   | 175                  | &                    | cityahvaz            | is                   | ...                  | 1                    |                      |                      |                      |                      | &                    | citybandare_mahshahr | is                   | 0                    |  4%                  |\n",
       "| 11 |  596                 | when                 | area                 | is                   |  90                  | to                   | 123                  | &                    | cityahvaz            | is                   | ...                  |                      |                      |                      |                      |                      |                      |                      |                      |                      |  3%                  |\n",
       "| 25 |  609                 | when                 | area                 | >=                   |                      |                      | 196                  |                      |                      |                      | ...                  | 0                    | &                    | building_age         | <                    | 7                    |                      |                      |                      |                      |  1%                  |\n",
       "| 19 |  685                 | when                 | area                 | is                   |  81                  | to                   |  90                  | &                    | cityahvaz            | is                   | ...                  |                      |                      |                      |                      |                      |                      |                      |                      |                      |  1%                  |\n",
       "| 53 |  765                 | when                 | area                 | is                   | 123                  | to                   | 162                  |                      |                      |                      | ...                  | 0                    | &                    | building_age         | <                    | 3                    |                      |                      |                      |                      |  2%                  |\n",
       "| 57 |  913                 | when                 | area                 | >=                   |                      |                      | 175                  | &                    | cityahvaz            | is                   | ...                  | 1                    |                      |                      |                      |                      | &                    | citybandare_mahshahr | is                   | 0                    |  1%                  |\n",
       "| 29 | 1068                 | when                 | area                 | >=                   |                      |                      | 123                  | &                    | cityahvaz            | is                   | ...                  | 1                    |                      |                      |                      |                      | &                    | citybandare_mahshahr | is                   | 0                    |  1%                  |\n",
       "| 27 | 1087                 | when                 | area                 | is                   | 162                  | to                   | 196                  |                      |                      |                      | ...                  | 0                    |                      |                      |                      |                      |                      |                      |                      |                      |  1%                  |\n",
       "| 15 | 1390                 | when                 | area                 | >=                   |                      |                      | 123                  |                      |                      |                      | ...                  | 1                    |                      |                      |                      |                      | &                    | citybandare_mahshahr | is                   | 1                    |  1%                  |\n",
       "\n"
      ],
      "text/plain": [
       "   y_train      .1   .2 .3  .4 .5  .6 .7        .8 ...   .1 .2           .3 .4\n",
       "16  229    when area <   80        &  cityahvaz is ...                        \n",
       "17  301    when area is  80 to  90 &  cityahvaz is ...                        \n",
       "24  301    when area >=        196                 ... 0 &  building_age >= 7 \n",
       "20  381    when area is  90 to 123 &  cityahvaz is ...   &  building_age >= 3 \n",
       "18  393    when area <   81        &  cityahvaz is ...                        \n",
       "21  475    when area is  90 to 123 &  cityahvaz is ...   &  building_age <  3 \n",
       "52  534    when area is 123 to 162                 ... 0 &  building_age >= 3 \n",
       "56  574    when area is 123 to 175 &  cityahvaz is ... 1                      \n",
       "11  596    when area is  90 to 123 &  cityahvaz is ...                        \n",
       "25  609    when area >=        196                 ... 0 &  building_age <  7 \n",
       "19  685    when area is  81 to  90 &  cityahvaz is ...                        \n",
       "53  765    when area is 123 to 162                 ... 0 &  building_age <  3 \n",
       "57  913    when area >=        175 &  cityahvaz is ... 1                      \n",
       "29 1068    when area >=        123 &  cityahvaz is ... 1                      \n",
       "27 1087    when area is 162 to 196                 ... 0                      \n",
       "15 1390    when area >=        123                 ... 1                      \n",
       "   .5 .6                   .7 .8   cover\n",
       "16                               28%    \n",
       "17                               18%    \n",
       "24                                2%    \n",
       "20                               16%    \n",
       "18                                3%    \n",
       "21                               11%    \n",
       "52                                5%    \n",
       "56 &  citybandare_mahshahr is 0   4%    \n",
       "11                                3%    \n",
       "25                                1%    \n",
       "19                                1%    \n",
       "53                                2%    \n",
       "57 &  citybandare_mahshahr is 0   1%    \n",
       "29 &  citybandare_mahshahr is 0   1%    \n",
       "27                                1%    \n",
       "15 &  citybandare_mahshahr is 1   1%    "
      ]
     },
     "metadata": {},
     "output_type": "display_data"
    }
   ],
   "source": [
    "rpart.rules(pruned.deep.reg.tree,cover = TRUE)"
   ]
  },
  {
   "cell_type": "code",
   "execution_count": 44,
   "metadata": {},
   "outputs": [
    {
     "data": {
      "text/html": [
       "<table>\n",
       "<thead><tr><th></th><th scope=col>ME</th><th scope=col>RMSE</th><th scope=col>MAE</th><th scope=col>MPE</th><th scope=col>MAPE</th></tr></thead>\n",
       "<tbody>\n",
       "\t<tr><th scope=row>Test set</th><td>0.000000000000000792294</td><td>187.9625               </td><td>126.7318               </td><td>-6084.495              </td><td>6105.274               </td></tr>\n",
       "</tbody>\n",
       "</table>\n"
      ],
      "text/latex": [
       "\\begin{tabular}{r|lllll}\n",
       "  & ME & RMSE & MAE & MPE & MAPE\\\\\n",
       "\\hline\n",
       "\tTest set & 0.000000000000000792294 & 187.9625                & 126.7318                & -6084.495               & 6105.274               \\\\\n",
       "\\end{tabular}\n"
      ],
      "text/markdown": [
       "\n",
       "| <!--/--> | ME | RMSE | MAE | MPE | MAPE |\n",
       "|---|---|---|---|---|---|\n",
       "| Test set | 0.000000000000000792294 | 187.9625                | 126.7318                | -6084.495               | 6105.274                |\n",
       "\n"
      ],
      "text/plain": [
       "         ME                      RMSE     MAE      MPE       MAPE    \n",
       "Test set 0.000000000000000792294 187.9625 126.7318 -6084.495 6105.274"
      ]
     },
     "metadata": {},
     "output_type": "display_data"
    }
   ],
   "source": [
    "accuracy(predict(pruned.deep.reg.tree,x_train),y_train)"
   ]
  },
  {
   "cell_type": "code",
   "execution_count": 45,
   "metadata": {},
   "outputs": [
    {
     "data": {
      "text/html": [
       "<table>\n",
       "<thead><tr><th></th><th scope=col>ME</th><th scope=col>RMSE</th><th scope=col>MAE</th><th scope=col>MPE</th><th scope=col>MAPE</th></tr></thead>\n",
       "<tbody>\n",
       "\t<tr><th scope=row>Test set</th><td>35.27346 </td><td>252.3743 </td><td>153.564  </td><td>-1519.289</td><td>1547.558 </td></tr>\n",
       "</tbody>\n",
       "</table>\n"
      ],
      "text/latex": [
       "\\begin{tabular}{r|lllll}\n",
       "  & ME & RMSE & MAE & MPE & MAPE\\\\\n",
       "\\hline\n",
       "\tTest set & 35.27346  & 252.3743  & 153.564   & -1519.289 & 1547.558 \\\\\n",
       "\\end{tabular}\n"
      ],
      "text/markdown": [
       "\n",
       "| <!--/--> | ME | RMSE | MAE | MPE | MAPE |\n",
       "|---|---|---|---|---|---|\n",
       "| Test set | 35.27346  | 252.3743  | 153.564   | -1519.289 | 1547.558  |\n",
       "\n"
      ],
      "text/plain": [
       "         ME       RMSE     MAE     MPE       MAPE    \n",
       "Test set 35.27346 252.3743 153.564 -1519.289 1547.558"
      ]
     },
     "metadata": {},
     "output_type": "display_data"
    }
   ],
   "source": [
    "accuracy(predict(pruned.deep.reg.tree,x_test),y_test)"
   ]
  },
  {
   "cell_type": "code",
   "execution_count": null,
   "metadata": {},
   "outputs": [],
   "source": []
  },
  {
   "cell_type": "code",
   "execution_count": 46,
   "metadata": {},
   "outputs": [],
   "source": [
    "best.pruned.deep.reg.tree = prune(deep.reg.tree,cp=0.059847642)"
   ]
  },
  {
   "cell_type": "code",
   "execution_count": 47,
   "metadata": {},
   "outputs": [
    {
     "data": {
      "image/png": "[encoded data removed]",
      "text/plain": [
       "plot without title"
      ]
     },
     "metadata": {},
     "output_type": "display_data"
    }
   ],
   "source": [
    "rpart.plot(best.pruned.deep.reg.tree,split.font=2)"
   ]
  },
  {
   "cell_type": "code",
   "execution_count": 53,
   "metadata": {},
   "outputs": [
    {
     "data": {
      "text/html": [
       "<table>\n",
       "<thead><tr><th></th><th scope=col>y_train</th><th scope=col></th><th scope=col></th><th scope=col></th><th scope=col></th><th scope=col></th><th scope=col></th><th scope=col>  cover</th></tr></thead>\n",
       "<tbody>\n",
       "\t<tr><th scope=row>4</th><td>278                                        </td><td>when                                       </td><td>area                                       </td><td>&lt;                                       </td><td>90                                         </td><td><span style=white-space:pre-wrap>  </span> </td><td><span style=white-space:pre-wrap>   </span></td><td>51%                                        </td></tr>\n",
       "\t<tr><th scope=row>5</th><td>436 </td><td>when</td><td>area</td><td>is  </td><td>90  </td><td>to  </td><td>123 </td><td>30% </td></tr>\n",
       "\t<tr><th scope=row>3</th><td>688                                       </td><td>when                                      </td><td>area                                      </td><td>&gt;=                                     </td><td><span style=white-space:pre-wrap>  </span></td><td><span style=white-space:pre-wrap>  </span></td><td>123                                       </td><td>19%                                       </td></tr>\n",
       "</tbody>\n",
       "</table>\n"
      ],
      "text/latex": [
       "\\begin{tabular}{r|llllllll}\n",
       "  & y\\_train &  &  &  &  &  &  &   cover\\\\\n",
       "\\hline\n",
       "\t4 & 278   & when  & area  & <     & 90    &       &       & 51\\%\\\\\n",
       "\t5 & 436   & when  & area  & is    & 90    & to    & 123   & 30\\%\\\\\n",
       "\t3 & 688   & when  & area  & >=    &       &       & 123   & 19\\%\\\\\n",
       "\\end{tabular}\n"
      ],
      "text/markdown": [
       "\n",
       "| <!--/--> | y_train |  |  |  |  |  |  |   cover |\n",
       "|---|---|---|---|---|---|---|---|---|\n",
       "| 4 | 278  | when | area | <    | 90   |      |      | 51%  |\n",
       "| 5 | 436  | when | area | is   | 90   | to   | 123  | 30%  |\n",
       "| 3 | 688  | when | area | >=   |      |      | 123  | 19%  |\n",
       "\n"
      ],
      "text/plain": [
       "  y_train                          cover\n",
       "4 278     when area <  90        51%    \n",
       "5 436     when area is 90 to 123 30%    \n",
       "3 688     when area >=       123 19%    "
      ]
     },
     "metadata": {},
     "output_type": "display_data"
    }
   ],
   "source": [
    "rpart.rules(best.pruned.deep.reg.tree,cover = TRUE)"
   ]
  },
  {
   "cell_type": "code",
   "execution_count": 48,
   "metadata": {},
   "outputs": [
    {
     "data": {
      "text/html": [
       "<table>\n",
       "<thead><tr><th></th><th scope=col>ME</th><th scope=col>RMSE</th><th scope=col>MAE</th><th scope=col>MPE</th><th scope=col>MAPE</th></tr></thead>\n",
       "<tbody>\n",
       "\t<tr><th scope=row>Test set</th><td>-0.000000000000001883166</td><td>234.2528                </td><td>152.3075                </td><td>-6204.969               </td><td>6226.402                </td></tr>\n",
       "</tbody>\n",
       "</table>\n"
      ],
      "text/latex": [
       "\\begin{tabular}{r|lllll}\n",
       "  & ME & RMSE & MAE & MPE & MAPE\\\\\n",
       "\\hline\n",
       "\tTest set & -0.000000000000001883166 & 234.2528                 & 152.3075                 & -6204.969                & 6226.402                \\\\\n",
       "\\end{tabular}\n"
      ],
      "text/markdown": [
       "\n",
       "| <!--/--> | ME | RMSE | MAE | MPE | MAPE |\n",
       "|---|---|---|---|---|---|\n",
       "| Test set | -0.000000000000001883166 | 234.2528                 | 152.3075                 | -6204.969                | 6226.402                 |\n",
       "\n"
      ],
      "text/plain": [
       "         ME                       RMSE     MAE      MPE       MAPE    \n",
       "Test set -0.000000000000001883166 234.2528 152.3075 -6204.969 6226.402"
      ]
     },
     "metadata": {},
     "output_type": "display_data"
    }
   ],
   "source": [
    "accuracy(predict(best.pruned.deep.reg.tree,x_train),y_train)"
   ]
  },
  {
   "cell_type": "code",
   "execution_count": 49,
   "metadata": {},
   "outputs": [
    {
     "data": {
      "text/html": [
       "<table>\n",
       "<thead><tr><th></th><th scope=col>ME</th><th scope=col>RMSE</th><th scope=col>MAE</th><th scope=col>MPE</th><th scope=col>MAPE</th></tr></thead>\n",
       "<tbody>\n",
       "\t<tr><th scope=row>Test set</th><td>49.27933</td><td>270.3546</td><td>167.2234</td><td>-1842.7 </td><td>1872.237</td></tr>\n",
       "</tbody>\n",
       "</table>\n"
      ],
      "text/latex": [
       "\\begin{tabular}{r|lllll}\n",
       "  & ME & RMSE & MAE & MPE & MAPE\\\\\n",
       "\\hline\n",
       "\tTest set & 49.27933 & 270.3546 & 167.2234 & -1842.7  & 1872.237\\\\\n",
       "\\end{tabular}\n"
      ],
      "text/markdown": [
       "\n",
       "| <!--/--> | ME | RMSE | MAE | MPE | MAPE |\n",
       "|---|---|---|---|---|---|\n",
       "| Test set | 49.27933 | 270.3546 | 167.2234 | -1842.7  | 1872.237 |\n",
       "\n"
      ],
      "text/plain": [
       "         ME       RMSE     MAE      MPE     MAPE    \n",
       "Test set 49.27933 270.3546 167.2234 -1842.7 1872.237"
      ]
     },
     "metadata": {},
     "output_type": "display_data"
    }
   ],
   "source": [
    "accuracy(predict(best.pruned.deep.reg.tree,x_test),y_test)"
   ]
  },
  {
   "cell_type": "code",
   "execution_count": null,
   "metadata": {},
   "outputs": [],
   "source": []
  },
  {
   "cell_type": "code",
   "execution_count": 57,
   "metadata": {},
   "outputs": [],
   "source": [
    "set.seed(101)"
   ]
  },
  {
   "cell_type": "code",
   "execution_count": 58,
   "metadata": {},
   "outputs": [],
   "source": [
    "random.forest = randomForest(x=x_train, y=y_train, ntree=100, importance=T, nodesize=4)"
   ]
  },
  {
   "cell_type": "code",
   "execution_count": 59,
   "metadata": {},
   "outputs": [
    {
     "data": {
      "text/plain": [
       "                Length Class  Mode     \n",
       "call              6    -none- call     \n",
       "type              1    -none- character\n",
       "predicted       614    -none- numeric  \n",
       "mse             100    -none- numeric  \n",
       "rsq             100    -none- numeric  \n",
       "oob.times       614    -none- numeric  \n",
       "importance      652    -none- numeric  \n",
       "importanceSD    326    -none- numeric  \n",
       "localImportance   0    -none- NULL     \n",
       "proximity         0    -none- NULL     \n",
       "ntree             1    -none- numeric  \n",
       "mtry              1    -none- numeric  \n",
       "forest           11    -none- list     \n",
       "coefs             0    -none- NULL     \n",
       "y               614    -none- numeric  \n",
       "test              0    -none- NULL     \n",
       "inbag             0    -none- NULL     "
      ]
     },
     "metadata": {},
     "output_type": "display_data"
    }
   ],
   "source": [
    "summary(random.forest)"
   ]
  },
  {
   "cell_type": "code",
   "execution_count": 60,
   "metadata": {},
   "outputs": [
    {
     "data": {
      "text/html": [
       "<table>\n",
       "<thead><tr><th></th><th scope=col>ME</th><th scope=col>RMSE</th><th scope=col>MAE</th><th scope=col>MPE</th><th scope=col>MAPE</th></tr></thead>\n",
       "<tbody>\n",
       "\t<tr><th scope=row>Test set</th><td>5.204199</td><td>86.16244</td><td>55.99443</td><td>-2299.6 </td><td>2308.987</td></tr>\n",
       "</tbody>\n",
       "</table>\n"
      ],
      "text/latex": [
       "\\begin{tabular}{r|lllll}\n",
       "  & ME & RMSE & MAE & MPE & MAPE\\\\\n",
       "\\hline\n",
       "\tTest set & 5.204199 & 86.16244 & 55.99443 & -2299.6  & 2308.987\\\\\n",
       "\\end{tabular}\n"
      ],
      "text/markdown": [
       "\n",
       "| <!--/--> | ME | RMSE | MAE | MPE | MAPE |\n",
       "|---|---|---|---|---|---|\n",
       "| Test set | 5.204199 | 86.16244 | 55.99443 | -2299.6  | 2308.987 |\n",
       "\n"
      ],
      "text/plain": [
       "         ME       RMSE     MAE      MPE     MAPE    \n",
       "Test set 5.204199 86.16244 55.99443 -2299.6 2308.987"
      ]
     },
     "metadata": {},
     "output_type": "display_data"
    }
   ],
   "source": [
    "accuracy(predict(random.forest,x_train),y_train)"
   ]
  },
  {
   "cell_type": "code",
   "execution_count": 61,
   "metadata": {},
   "outputs": [
    {
     "data": {
      "text/html": [
       "<table>\n",
       "<thead><tr><th></th><th scope=col>ME</th><th scope=col>RMSE</th><th scope=col>MAE</th><th scope=col>MPE</th><th scope=col>MAPE</th></tr></thead>\n",
       "<tbody>\n",
       "\t<tr><th scope=row>Test set</th><td>44.75623 </td><td>250.0397 </td><td>148.2198 </td><td>-1708.236</td><td>1735.545 </td></tr>\n",
       "</tbody>\n",
       "</table>\n"
      ],
      "text/latex": [
       "\\begin{tabular}{r|lllll}\n",
       "  & ME & RMSE & MAE & MPE & MAPE\\\\\n",
       "\\hline\n",
       "\tTest set & 44.75623  & 250.0397  & 148.2198  & -1708.236 & 1735.545 \\\\\n",
       "\\end{tabular}\n"
      ],
      "text/markdown": [
       "\n",
       "| <!--/--> | ME | RMSE | MAE | MPE | MAPE |\n",
       "|---|---|---|---|---|---|\n",
       "| Test set | 44.75623  | 250.0397  | 148.2198  | -1708.236 | 1735.545  |\n",
       "\n"
      ],
      "text/plain": [
       "         ME       RMSE     MAE      MPE       MAPE    \n",
       "Test set 44.75623 250.0397 148.2198 -1708.236 1735.545"
      ]
     },
     "metadata": {},
     "output_type": "display_data"
    }
   ],
   "source": [
    "accuracy(predict(random.forest,x_test),y_test)"
   ]
  },
  {
   "cell_type": "code",
   "execution_count": 62,
   "metadata": {},
   "outputs": [
    {
     "data": {
      "image/png": "[encoded data removed]",
      "text/plain": [
       "Plot with title \"random.forest\""
      ]
     },
     "metadata": {},
     "output_type": "display_data"
    }
   ],
   "source": [
    "varImpPlot(random.forest,type=1)"
   ]
  },
  {
   "cell_type": "code",
   "execution_count": 63,
   "metadata": {},
   "outputs": [
    {
     "data": {
      "image/png": "[encoded data removed]",
      "text/plain": [
       "Plot with title \"random.forest\""
      ]
     },
     "metadata": {},
     "output_type": "display_data"
    }
   ],
   "source": [
    "varImpPlot(random.forest,type=2)"
   ]
  },
  {
   "cell_type": "code",
   "execution_count": null,
   "metadata": {},
   "outputs": [],
   "source": []
  },
  {
   "cell_type": "code",
   "execution_count": 64,
   "metadata": {},
   "outputs": [
    {
     "name": "stdout",
     "output_type": "stream",
     "text": [
      " plotmo grid:    cityabadan cityahvaz citybandare_emam_khomeini\n",
      "                          0         0                         0\n",
      " citybandare_mahshahr citybehbahan citychamran citydezfool cityhandijan\n",
      "                    0            0           0           0            0\n",
      " cityizeh citykhorramshahr citymasjed_soleiman cityraamshir cityshiban\n",
      "        0                0                   0            0          0\n",
      " cityshoosh cityshooshtar area building_age skeleton_typeadobe_or_clay\n",
      "          0             0   90          5.5                          0\n",
      " skeleton_typebrick_or_cement_block skeleton_typeconcrete skeleton_typemetal\n",
      "                                  0                     0                  0\n",
      " skeleton_typemetal_concrete skeleton_typenone postal_code181757\n",
      "                           0                 0                 0\n",
      " postal_code191181 postal_code613373 postal_code613388 postal_code613493\n",
      "                 0                 0                 0                 0\n",
      " postal_code613495 postal_code613664 postal_code613668 postal_code613669\n",
      "                 0                 0                 0                 0\n",
      " postal_code613674 postal_code613682 postal_code613691 postal_code613697\n",
      "                 0                 0                 0                 0\n",
      " postal_code613761 postal_code613783 postal_code613858 postal_code613865\n",
      "                 0                 0                 0                 0\n",
      " postal_code613866 postal_code613868 postal_code613873 postal_code613877\n",
      "                 0                 0                 0                 0\n",
      " postal_code613881 postal_code613968 postal_code613975 postal_code614398\n",
      "                 0                 0                 0                 0\n",
      " postal_code614464 postal_code614497 postal_code614498 postal_code614818\n",
      "                 0                 0                 0                 0\n",
      " postal_code615167 postal_code615377 postal_code615381 postal_code615458\n",
      "                 0                 0                 0                 0\n",
      " postal_code615468 postal_code615488 postal_code615568 postal_code615569\n",
      "                 0                 0                 0                 0\n",
      " postal_code615573 postal_code615574 postal_code615583 postal_code615591\n",
      "                 0                 0                 0                 0\n",
      " postal_code615896 postal_code616388 postal_code616394 postal_code616395\n",
      "                 0                 0                 0                 0\n",
      " postal_code616396 postal_code616397 postal_code616463 postal_code616464\n",
      "                 0                 0                 0                 0\n",
      " postal_code616478 postal_code616488 postal_code616571 postal_code616576\n",
      "                 0                 0                 0                 0\n",
      " postal_code617563 postal_code617596 postal_code617763 postal_code617781\n",
      "                 0                 0                 0                 0\n",
      " postal_code617797 postal_code618389 postal_code618397 postal_code618398\n",
      "                 0                 0                 0                 0\n",
      " postal_code618484 postal_code618491 postal_code618493 postal_code618576\n",
      "                 0                 0                 0                 0\n",
      " postal_code618761 postal_code618763 postal_code618776 postal_code618783\n",
      "                 0                 0                 0                 0\n",
      " postal_code619587 postal_code619595 postal_code619767 postal_code619785\n",
      "                 0                 0                 0                 0\n",
      " postal_code631131 postal_code631158 postal_code631316 postal_code631363\n",
      "                 0                 0                 0                 0\n",
      " postal_code631413 postal_code631442 postal_code631443 postal_code631453\n",
      "                 0                 0                 0                 0\n",
      " postal_code631454 postal_code631455 postal_code631470 postal_code631471\n",
      "                 0                 0                 0                 0\n",
      " postal_code631472 postal_code631473 postal_code631474 postal_code631475\n",
      "                 0                 0                 0                 0\n",
      " postal_code631481 postal_code631483 postal_code631491 postal_code631494\n",
      "                 0                 0                 0                 0\n",
      " postal_code631495 postal_code631498 postal_code631532 postal_code631545\n",
      "                 0                 0                 0                 0\n",
      " postal_code631546 postal_code631548 postal_code631565 postal_code631572\n",
      "                 0                 0                 0                 0\n",
      " postal_code631573 postal_code631576 postal_code631578 postal_code631579\n",
      "                 0                 0                 0                 0\n",
      " postal_code631580 postal_code631584 postal_code631586 postal_code631591\n",
      "                 0                 0                 0                 0\n",
      " postal_code631592 postal_code631593 postal_code631594 postal_code631631\n",
      "                 0                 0                 0                 0\n",
      " postal_code631643 postal_code631659 postal_code631661 postal_code631664\n",
      "                 0                 0                 0                 0\n",
      " postal_code631666 postal_code631675 postal_code631676 postal_code631678\n",
      "                 0                 0                 0                 0\n",
      " postal_code631681 postal_code631683 postal_code631685 postal_code631686\n",
      "                 0                 0                 0                 0\n",
      " postal_code631687 postal_code631688 postal_code631689 postal_code631691\n",
      "                 0                 0                 0                 0\n",
      " postal_code631747 postal_code631763 postal_code631769 postal_code631771\n",
      "                 0                 0                 0                 0\n",
      " postal_code631773 postal_code631774 postal_code631775 postal_code631783\n",
      "                 0                 0                 0                 0\n",
      " postal_code631784 postal_code631786 postal_code631787 postal_code631794\n",
      "                 0                 0                 0                 0\n",
      " postal_code631797 postal_code631826 postal_code631854 postal_code631861\n",
      "                 0                 0                 0                 0\n",
      " postal_code631863 postal_code631864 postal_code631865 postal_code631867\n",
      "                 0                 0                 0                 0\n",
      " postal_code631871 postal_code631873 postal_code631875 postal_code631876\n",
      "                 0                 0                 0                 0\n",
      " postal_code631878 postal_code631886 postal_code631887 postal_code631888\n",
      "                 0                 0                 0                 0\n",
      " postal_code631896 postal_code631963 postal_code631968 postal_code631971\n",
      "                 0                 0                 0                 0\n",
      " postal_code631974 postal_code631975 postal_code631976 postal_code631977\n",
      "                 0                 0                 0                 0\n",
      " postal_code631978 postal_code631981 postal_code631982 postal_code631983\n",
      "                 0                 0                 0                 0\n",
      " postal_code631984 postal_code631985 postal_code631986 postal_code631987\n",
      "                 0                 0                 0                 0\n",
      " postal_code631991 postal_code635110 postal_code635111 postal_code635112\n",
      "                 0                 0                 0                 0\n",
      " postal_code635113 postal_code635114 postal_code635115 postal_code635116\n",
      "                 0                 0                 0                 0\n",
      " postal_code635117 postal_code635119 postal_code635138 postal_code635160\n",
      "                 0                 0                 0                 0\n",
      " postal_code635161 postal_code635162 postal_code635164 postal_code635165\n",
      "                 0                 0                 0                 0\n",
      " postal_code635168 postal_code635171 postal_code635173 postal_code635174\n",
      "                 0                 0                 0                 0\n",
      " postal_code635175 postal_code635176 postal_code635179 postal_code635180\n",
      "                 0                 0                 0                 0\n",
      " postal_code635181 postal_code635182 postal_code635183 postal_code635184\n",
      "                 0                 0                 0                 0\n",
      " postal_code635185 postal_code635186 postal_code635187 postal_code635188\n",
      "                 0                 0                 0                 0\n",
      " postal_code635189 postal_code635190 postal_code635191 postal_code635192\n",
      "                 0                 0                 0                 0\n",
      " postal_code635194 postal_code635195 postal_code635197 postal_code635198\n",
      "                 0                 0                 0                 0\n",
      " postal_code635199 postal_code635241 postal_code635310 postal_code635312\n",
      "                 0                 0                 0                 0\n",
      " postal_code635315 postal_code635333 postal_code635410 postal_code635411\n",
      "                 0                 0                 0                 0\n",
      " postal_code635412 postal_code635413 postal_code635415 postal_code635416\n",
      "                 0                 0                 0                 0\n",
      " postal_code635417 postal_code635418 postal_code635471 postal_code635476\n",
      "                 0                 0                 0                 0\n",
      " postal_code635510 postal_code635512 postal_code635513 postal_code635514\n",
      "                 0                 0                 0                 0\n",
      " postal_code635515 postal_code635516 postal_code635517 postal_code635518\n",
      "                 0                 0                 0                 0\n",
      " postal_code635519 postal_code635551 postal_code635571 postal_code635610\n",
      "                 0                 0                 0                 0\n",
      " postal_code635611 postal_code635612 postal_code635613 postal_code635614\n",
      "                 0                 0                 0                 0\n",
      " postal_code635615 postal_code635616 postal_code635617 postal_code635618\n",
      "                 0                 0                 0                 0\n",
      " postal_code635619 postal_code635633 postal_code635645 postal_code635713\n",
      "                 0                 0                 0                 0\n",
      " postal_code635714 postal_code635715 postal_code635783 postal_code635785\n",
      "                 0                 0                 0                 0\n",
      " postal_code635897 postal_code635911 postal_code635913 postal_code635917\n",
      "                 0                 0                 0                 0\n",
      " postal_code636159 postal_code636189 postal_code636511 postal_code638171\n",
      "                 0                 0                 0                 0\n",
      " postal_code638194 postal_code638713 postal_code638714 postal_code639163\n",
      "                 0                 0                 0                 0\n",
      " postal_code639195 postal_code641374 postal_code641487 postal_code641665\n",
      "                 0                 0                 0                 0\n",
      " postal_code641671 postal_code641673 postal_code641763 postal_code641765\n",
      "                 0                 0                 0                 0\n",
      " postal_code641771 postal_code641781 postal_code641784 postal_code641797\n",
      "                 0                 0                 0                 0\n",
      " postal_code641881 postal_code641971 postal_code641977 postal_code641981\n",
      "                 0                 0                 0                 0\n",
      " postal_code645171 postal_code646166 postal_code646168 postal_code646174\n",
      "                 0                 0                 0                 0\n",
      " postal_code646178 postal_code646183 postal_code646185 postal_code646187\n",
      "                 0                 0                 0                 0\n",
      " postal_code646193 postal_code646542 postal_code647714 postal_code649161\n",
      "                 0                 0                 0                 0\n",
      " postal_code649165 postal_code649172 postal_code649176 postal_code649178\n",
      "                 0                 0                 0                 0\n",
      " postal_code656464 postal_code678945\n",
      "                 0                 0\n"
     ]
    },
    {
     "data": {
      "image/png": "[encoded data removed]",
      "text/plain": [
       "Plot with title \"6 buildng_g: skltn_typ\""
      ]
     },
     "metadata": {},
     "output_type": "display_data"
    }
   ],
   "source": [
    "plotmo(random.forest)"
   ]
  },
  {
   "cell_type": "code",
   "execution_count": null,
   "metadata": {},
   "outputs": [],
   "source": []
  },
  {
   "cell_type": "code",
   "execution_count": null,
   "metadata": {},
   "outputs": [],
   "source": []
  },
  {
   "cell_type": "code",
   "execution_count": null,
   "metadata": {},
   "outputs": [],
   "source": []
  },
  {
   "cell_type": "code",
   "execution_count": null,
   "metadata": {},
   "outputs": [],
   "source": []
  },
  {
   "cell_type": "code",
   "execution_count": null,
   "metadata": {},
   "outputs": [],
   "source": [
    "# ,mfinal=10,control = (minsplit = 1)"
   ]
  },
  {
   "cell_type": "code",
   "execution_count": 98,
   "metadata": {},
   "outputs": [],
   "source": [
    "# train$y_train = as.factor(train$y_train)"
   ]
  },
  {
   "cell_type": "code",
   "execution_count": 53,
   "metadata": {
    "scrolled": true
   },
   "outputs": [
    {
     "name": "stdout",
     "output_type": "stream",
     "text": [
      "Distribution not specified, assuming gaussian ...\n"
     ]
    },
    {
     "name": "stderr",
     "output_type": "stream",
     "text": [
      "Warning message in gbm.fit(x = x, y = y, offset = offset, distribution = distribution, :\n",
      "\"variable 13: cityshiban has no variation.\"Warning message in gbm.fit(x = x, y = y, offset = offset, distribution = distribution, :\n",
      "\"variable 26: postal_code613373 has no variation.\"Warning message in gbm.fit(x = x, y = y, offset = offset, distribution = distribution, :\n",
      "\"variable 28: postal_code613493 has no variation.\"Warning message in gbm.fit(x = x, y = y, offset = offset, distribution = distribution, :\n",
      "\"variable 32: postal_code613669 has no variation.\"Warning message in gbm.fit(x = x, y = y, offset = offset, distribution = distribution, :\n",
      "\"variable 38: postal_code613783 has no variation.\"Warning message in gbm.fit(x = x, y = y, offset = offset, distribution = distribution, :\n",
      "\"variable 39: postal_code613858 has no variation.\"Warning message in gbm.fit(x = x, y = y, offset = offset, distribution = distribution, :\n",
      "\"variable 52: postal_code614818 has no variation.\"Warning message in gbm.fit(x = x, y = y, offset = offset, distribution = distribution, :\n",
      "\"variable 55: postal_code615381 has no variation.\"Warning message in gbm.fit(x = x, y = y, offset = offset, distribution = distribution, :\n",
      "\"variable 62: postal_code615574 has no variation.\"Warning message in gbm.fit(x = x, y = y, offset = offset, distribution = distribution, :\n",
      "\"variable 66: postal_code616388 has no variation.\"Warning message in gbm.fit(x = x, y = y, offset = offset, distribution = distribution, :\n",
      "\"variable 71: postal_code616463 has no variation.\"Warning message in gbm.fit(x = x, y = y, offset = offset, distribution = distribution, :\n",
      "\"variable 77: postal_code617563 has no variation.\"Warning message in gbm.fit(x = x, y = y, offset = offset, distribution = distribution, :\n",
      "\"variable 78: postal_code617596 has no variation.\"Warning message in gbm.fit(x = x, y = y, offset = offset, distribution = distribution, :\n",
      "\"variable 83: postal_code618397 has no variation.\"Warning message in gbm.fit(x = x, y = y, offset = offset, distribution = distribution, :\n",
      "\"variable 84: postal_code618398 has no variation.\"Warning message in gbm.fit(x = x, y = y, offset = offset, distribution = distribution, :\n",
      "\"variable 86: postal_code618491 has no variation.\"Warning message in gbm.fit(x = x, y = y, offset = offset, distribution = distribution, :\n",
      "\"variable 89: postal_code618761 has no variation.\"Warning message in gbm.fit(x = x, y = y, offset = offset, distribution = distribution, :\n",
      "\"variable 100: postal_code631363 has no variation.\"Warning message in gbm.fit(x = x, y = y, offset = offset, distribution = distribution, :\n",
      "\"variable 109: postal_code631472 has no variation.\"Warning message in gbm.fit(x = x, y = y, offset = offset, distribution = distribution, :\n",
      "\"variable 112: postal_code631475 has no variation.\"Warning message in gbm.fit(x = x, y = y, offset = offset, distribution = distribution, :\n",
      "\"variable 121: postal_code631546 has no variation.\"Warning message in gbm.fit(x = x, y = y, offset = offset, distribution = distribution, :\n",
      "\"variable 133: postal_code631592 has no variation.\"Warning message in gbm.fit(x = x, y = y, offset = offset, distribution = distribution, :\n",
      "\"variable 151: postal_code631689 has no variation.\"Warning message in gbm.fit(x = x, y = y, offset = offset, distribution = distribution, :\n",
      "\"variable 160: postal_code631783 has no variation.\"Warning message in gbm.fit(x = x, y = y, offset = offset, distribution = distribution, :\n",
      "\"variable 163: postal_code631787 has no variation.\"Warning message in gbm.fit(x = x, y = y, offset = offset, distribution = distribution, :\n",
      "\"variable 174: postal_code631873 has no variation.\"Warning message in gbm.fit(x = x, y = y, offset = offset, distribution = distribution, :\n",
      "\"variable 176: postal_code631876 has no variation.\"Warning message in gbm.fit(x = x, y = y, offset = offset, distribution = distribution, :\n",
      "\"variable 177: postal_code631878 has no variation.\"Warning message in gbm.fit(x = x, y = y, offset = offset, distribution = distribution, :\n",
      "\"variable 184: postal_code631971 has no variation.\"Warning message in gbm.fit(x = x, y = y, offset = offset, distribution = distribution, :\n",
      "\"variable 230: postal_code635190 has no variation.\"Warning message in gbm.fit(x = x, y = y, offset = offset, distribution = distribution, :\n",
      "\"variable 241: postal_code635315 has no variation.\"Warning message in gbm.fit(x = x, y = y, offset = offset, distribution = distribution, :\n",
      "\"variable 243: postal_code635410 has no variation.\"Warning message in gbm.fit(x = x, y = y, offset = offset, distribution = distribution, :\n",
      "\"variable 253: postal_code635510 has no variation.\"Warning message in gbm.fit(x = x, y = y, offset = offset, distribution = distribution, :\n",
      "\"variable 263: postal_code635571 has no variation.\"Warning message in gbm.fit(x = x, y = y, offset = offset, distribution = distribution, :\n",
      "\"variable 279: postal_code635783 has no variation.\"Warning message in gbm.fit(x = x, y = y, offset = offset, distribution = distribution, :\n",
      "\"variable 288: postal_code638171 has no variation.\"Warning message in gbm.fit(x = x, y = y, offset = offset, distribution = distribution, :\n",
      "\"variable 293: postal_code639195 has no variation.\"Warning message in gbm.fit(x = x, y = y, offset = offset, distribution = distribution, :\n",
      "\"variable 294: postal_code641374 has no variation.\"Warning message in gbm.fit(x = x, y = y, offset = offset, distribution = distribution, :\n",
      "\"variable 301: postal_code641771 has no variation.\"Warning message in gbm.fit(x = x, y = y, offset = offset, distribution = distribution, :\n",
      "\"variable 302: postal_code641781 has no variation.\"Warning message in gbm.fit(x = x, y = y, offset = offset, distribution = distribution, :\n",
      "\"variable 304: postal_code641797 has no variation.\"Warning message in gbm.fit(x = x, y = y, offset = offset, distribution = distribution, :\n",
      "\"variable 314: postal_code646183 has no variation.\"Warning message in gbm.fit(x = x, y = y, offset = offset, distribution = distribution, :\n",
      "\"variable 318: postal_code646542 has no variation.\"Warning message in gbm.fit(x = x, y = y, offset = offset, distribution = distribution, :\n",
      "\"variable 322: postal_code649172 has no variation.\"Warning message in gbm.fit(x = x, y = y, offset = offset, distribution = distribution, :\n",
      "\"variable 325: postal_code656464 has no variation.\"Warning message in gbm.fit(x = x, y = y, offset = offset, distribution = distribution, :\n",
      "\"variable 326: postal_code678945 has no variation.\""
     ]
    }
   ],
   "source": [
    "set.seed(101)\n",
    "boosted.tree = gbm(y_train~. , data=train, cv.folds = 10)"
   ]
  },
  {
   "cell_type": "code",
   "execution_count": 54,
   "metadata": {},
   "outputs": [
    {
     "data": {
      "text/plain": [
       "gbm(formula = y_train ~ ., data = train, cv.folds = 10)\n",
       "A gradient boosted model with gaussian loss function.\n",
       "100 iterations were performed.\n",
       "The best cross-validation iteration was 100.\n",
       "There were 326 predictors of which 9 had non-zero influence."
      ]
     },
     "metadata": {},
     "output_type": "display_data"
    }
   ],
   "source": [
    "boosted.tree"
   ]
  },
  {
   "cell_type": "code",
   "execution_count": 55,
   "metadata": {
    "scrolled": true
   },
   "outputs": [
    {
     "data": {
      "text/html": [
       "<table>\n",
       "<thead><tr><th></th><th scope=col>var</th><th scope=col>rel.inf</th></tr></thead>\n",
       "<tbody>\n",
       "\t<tr><th scope=row>area</th><td>area                              </td><td>72.9519090                        </td></tr>\n",
       "\t<tr><th scope=row>cityahvaz</th><td>cityahvaz                         </td><td>13.1132179                        </td></tr>\n",
       "\t<tr><th scope=row>skeleton_typeconcrete</th><td>skeleton_typeconcrete             </td><td> 5.2239214                        </td></tr>\n",
       "\t<tr><th scope=row>building_age</th><td>building_age                      </td><td> 4.2112154                        </td></tr>\n",
       "\t<tr><th scope=row>citybandare_mahshahr</th><td>citybandare_mahshahr              </td><td> 2.5276543                        </td></tr>\n",
       "\t<tr><th scope=row>citychamran</th><td>citychamran                       </td><td> 1.2785502                        </td></tr>\n",
       "\t<tr><th scope=row>cityabadan</th><td>cityabadan                        </td><td> 0.2850227                        </td></tr>\n",
       "\t<tr><th scope=row>citybandare_emam_khomeini</th><td>citybandare_emam_khomeini         </td><td> 0.2734410                        </td></tr>\n",
       "\t<tr><th scope=row>skeleton_typenone</th><td>skeleton_typenone                 </td><td> 0.1350681                        </td></tr>\n",
       "\t<tr><th scope=row>citybehbahan</th><td>citybehbahan                      </td><td> 0.0000000                        </td></tr>\n",
       "\t<tr><th scope=row>citydezfool</th><td>citydezfool                       </td><td> 0.0000000                        </td></tr>\n",
       "\t<tr><th scope=row>cityhandijan</th><td>cityhandijan                      </td><td> 0.0000000                        </td></tr>\n",
       "\t<tr><th scope=row>cityizeh</th><td>cityizeh                          </td><td> 0.0000000                        </td></tr>\n",
       "\t<tr><th scope=row>citykhorramshahr</th><td>citykhorramshahr                  </td><td> 0.0000000                        </td></tr>\n",
       "\t<tr><th scope=row>citymasjed_soleiman</th><td>citymasjed_soleiman               </td><td> 0.0000000                        </td></tr>\n",
       "\t<tr><th scope=row>cityraamshir</th><td>cityraamshir                      </td><td> 0.0000000                        </td></tr>\n",
       "\t<tr><th scope=row>cityshiban</th><td>cityshiban                        </td><td> 0.0000000                        </td></tr>\n",
       "\t<tr><th scope=row>cityshoosh</th><td>cityshoosh                        </td><td> 0.0000000                        </td></tr>\n",
       "\t<tr><th scope=row>cityshooshtar</th><td>cityshooshtar                     </td><td> 0.0000000                        </td></tr>\n",
       "\t<tr><th scope=row>skeleton_typeadobe_or_clay</th><td>skeleton_typeadobe_or_clay        </td><td> 0.0000000                        </td></tr>\n",
       "\t<tr><th scope=row>skeleton_typebrick_or_cement_block</th><td>skeleton_typebrick_or_cement_block</td><td> 0.0000000                        </td></tr>\n",
       "\t<tr><th scope=row>skeleton_typemetal</th><td>skeleton_typemetal                </td><td> 0.0000000                        </td></tr>\n",
       "\t<tr><th scope=row>skeleton_typemetal_concrete</th><td>skeleton_typemetal_concrete       </td><td> 0.0000000                        </td></tr>\n",
       "\t<tr><th scope=row>postal_code181757</th><td>postal_code181757                 </td><td> 0.0000000                        </td></tr>\n",
       "\t<tr><th scope=row>postal_code191181</th><td>postal_code191181                 </td><td> 0.0000000                        </td></tr>\n",
       "\t<tr><th scope=row>postal_code613373</th><td>postal_code613373                 </td><td> 0.0000000                        </td></tr>\n",
       "\t<tr><th scope=row>postal_code613388</th><td>postal_code613388                 </td><td> 0.0000000                        </td></tr>\n",
       "\t<tr><th scope=row>postal_code613493</th><td>postal_code613493                 </td><td> 0.0000000                        </td></tr>\n",
       "\t<tr><th scope=row>postal_code613495</th><td>postal_code613495                 </td><td> 0.0000000                        </td></tr>\n",
       "\t<tr><th scope=row>postal_code613664</th><td>postal_code613664                 </td><td> 0.0000000                        </td></tr>\n",
       "\t<tr><th scope=row>...</th><td>...</td><td>...</td></tr>\n",
       "\t<tr><th scope=row>postal_code641671</th><td>postal_code641671</td><td>0                </td></tr>\n",
       "\t<tr><th scope=row>postal_code641673</th><td>postal_code641673</td><td>0                </td></tr>\n",
       "\t<tr><th scope=row>postal_code641763</th><td>postal_code641763</td><td>0                </td></tr>\n",
       "\t<tr><th scope=row>postal_code641765</th><td>postal_code641765</td><td>0                </td></tr>\n",
       "\t<tr><th scope=row>postal_code641771</th><td>postal_code641771</td><td>0                </td></tr>\n",
       "\t<tr><th scope=row>postal_code641781</th><td>postal_code641781</td><td>0                </td></tr>\n",
       "\t<tr><th scope=row>postal_code641784</th><td>postal_code641784</td><td>0                </td></tr>\n",
       "\t<tr><th scope=row>postal_code641797</th><td>postal_code641797</td><td>0                </td></tr>\n",
       "\t<tr><th scope=row>postal_code641881</th><td>postal_code641881</td><td>0                </td></tr>\n",
       "\t<tr><th scope=row>postal_code641971</th><td>postal_code641971</td><td>0                </td></tr>\n",
       "\t<tr><th scope=row>postal_code641977</th><td>postal_code641977</td><td>0                </td></tr>\n",
       "\t<tr><th scope=row>postal_code641981</th><td>postal_code641981</td><td>0                </td></tr>\n",
       "\t<tr><th scope=row>postal_code645171</th><td>postal_code645171</td><td>0                </td></tr>\n",
       "\t<tr><th scope=row>postal_code646166</th><td>postal_code646166</td><td>0                </td></tr>\n",
       "\t<tr><th scope=row>postal_code646168</th><td>postal_code646168</td><td>0                </td></tr>\n",
       "\t<tr><th scope=row>postal_code646174</th><td>postal_code646174</td><td>0                </td></tr>\n",
       "\t<tr><th scope=row>postal_code646178</th><td>postal_code646178</td><td>0                </td></tr>\n",
       "\t<tr><th scope=row>postal_code646183</th><td>postal_code646183</td><td>0                </td></tr>\n",
       "\t<tr><th scope=row>postal_code646185</th><td>postal_code646185</td><td>0                </td></tr>\n",
       "\t<tr><th scope=row>postal_code646187</th><td>postal_code646187</td><td>0                </td></tr>\n",
       "\t<tr><th scope=row>postal_code646193</th><td>postal_code646193</td><td>0                </td></tr>\n",
       "\t<tr><th scope=row>postal_code646542</th><td>postal_code646542</td><td>0                </td></tr>\n",
       "\t<tr><th scope=row>postal_code647714</th><td>postal_code647714</td><td>0                </td></tr>\n",
       "\t<tr><th scope=row>postal_code649161</th><td>postal_code649161</td><td>0                </td></tr>\n",
       "\t<tr><th scope=row>postal_code649165</th><td>postal_code649165</td><td>0                </td></tr>\n",
       "\t<tr><th scope=row>postal_code649172</th><td>postal_code649172</td><td>0                </td></tr>\n",
       "\t<tr><th scope=row>postal_code649176</th><td>postal_code649176</td><td>0                </td></tr>\n",
       "\t<tr><th scope=row>postal_code649178</th><td>postal_code649178</td><td>0                </td></tr>\n",
       "\t<tr><th scope=row>postal_code656464</th><td>postal_code656464</td><td>0                </td></tr>\n",
       "\t<tr><th scope=row>postal_code678945</th><td>postal_code678945</td><td>0                </td></tr>\n",
       "</tbody>\n",
       "</table>\n"
      ],
      "text/latex": [
       "\\begin{tabular}{r|ll}\n",
       "  & var & rel.inf\\\\\n",
       "\\hline\n",
       "\tarea & area                               & 72.9519090                        \\\\\n",
       "\tcityahvaz & cityahvaz                          & 13.1132179                        \\\\\n",
       "\tskeleton\\_typeconcrete & skeleton\\_typeconcrete              &  5.2239214                          \\\\\n",
       "\tbuilding\\_age & building\\_age                       &  4.2112154                          \\\\\n",
       "\tcitybandare\\_mahshahr & citybandare\\_mahshahr               &  2.5276543                          \\\\\n",
       "\tcitychamran & citychamran                        &  1.2785502                        \\\\\n",
       "\tcityabadan & cityabadan                         &  0.2850227                        \\\\\n",
       "\tcitybandare\\_emam\\_khomeini & citybandare\\_emam\\_khomeini          &  0.2734410                            \\\\\n",
       "\tskeleton\\_typenone & skeleton\\_typenone                  &  0.1350681                          \\\\\n",
       "\tcitybehbahan & citybehbahan                       &  0.0000000                        \\\\\n",
       "\tcitydezfool & citydezfool                        &  0.0000000                        \\\\\n",
       "\tcityhandijan & cityhandijan                       &  0.0000000                        \\\\\n",
       "\tcityizeh & cityizeh                           &  0.0000000                        \\\\\n",
       "\tcitykhorramshahr & citykhorramshahr                   &  0.0000000                        \\\\\n",
       "\tcitymasjed\\_soleiman & citymasjed\\_soleiman                &  0.0000000                          \\\\\n",
       "\tcityraamshir & cityraamshir                       &  0.0000000                        \\\\\n",
       "\tcityshiban & cityshiban                         &  0.0000000                        \\\\\n",
       "\tcityshoosh & cityshoosh                         &  0.0000000                        \\\\\n",
       "\tcityshooshtar & cityshooshtar                      &  0.0000000                        \\\\\n",
       "\tskeleton\\_typeadobe\\_or\\_clay & skeleton\\_typeadobe\\_or\\_clay         &  0.0000000                              \\\\\n",
       "\tskeleton\\_typebrick\\_or\\_cement\\_block & skeleton\\_typebrick\\_or\\_cement\\_block &  0.0000000                                \\\\\n",
       "\tskeleton\\_typemetal & skeleton\\_typemetal                 &  0.0000000                          \\\\\n",
       "\tskeleton\\_typemetal\\_concrete & skeleton\\_typemetal\\_concrete        &  0.0000000                            \\\\\n",
       "\tpostal\\_code181757 & postal\\_code181757                  &  0.0000000                          \\\\\n",
       "\tpostal\\_code191181 & postal\\_code191181                  &  0.0000000                          \\\\\n",
       "\tpostal\\_code613373 & postal\\_code613373                  &  0.0000000                          \\\\\n",
       "\tpostal\\_code613388 & postal\\_code613388                  &  0.0000000                          \\\\\n",
       "\tpostal\\_code613493 & postal\\_code613493                  &  0.0000000                          \\\\\n",
       "\tpostal\\_code613495 & postal\\_code613495                  &  0.0000000                          \\\\\n",
       "\tpostal\\_code613664 & postal\\_code613664                  &  0.0000000                          \\\\\n",
       "\t... & ... & ...\\\\\n",
       "\tpostal\\_code641671 & postal\\_code641671 & 0                  \\\\\n",
       "\tpostal\\_code641673 & postal\\_code641673 & 0                  \\\\\n",
       "\tpostal\\_code641763 & postal\\_code641763 & 0                  \\\\\n",
       "\tpostal\\_code641765 & postal\\_code641765 & 0                  \\\\\n",
       "\tpostal\\_code641771 & postal\\_code641771 & 0                  \\\\\n",
       "\tpostal\\_code641781 & postal\\_code641781 & 0                  \\\\\n",
       "\tpostal\\_code641784 & postal\\_code641784 & 0                  \\\\\n",
       "\tpostal\\_code641797 & postal\\_code641797 & 0                  \\\\\n",
       "\tpostal\\_code641881 & postal\\_code641881 & 0                  \\\\\n",
       "\tpostal\\_code641971 & postal\\_code641971 & 0                  \\\\\n",
       "\tpostal\\_code641977 & postal\\_code641977 & 0                  \\\\\n",
       "\tpostal\\_code641981 & postal\\_code641981 & 0                  \\\\\n",
       "\tpostal\\_code645171 & postal\\_code645171 & 0                  \\\\\n",
       "\tpostal\\_code646166 & postal\\_code646166 & 0                  \\\\\n",
       "\tpostal\\_code646168 & postal\\_code646168 & 0                  \\\\\n",
       "\tpostal\\_code646174 & postal\\_code646174 & 0                  \\\\\n",
       "\tpostal\\_code646178 & postal\\_code646178 & 0                  \\\\\n",
       "\tpostal\\_code646183 & postal\\_code646183 & 0                  \\\\\n",
       "\tpostal\\_code646185 & postal\\_code646185 & 0                  \\\\\n",
       "\tpostal\\_code646187 & postal\\_code646187 & 0                  \\\\\n",
       "\tpostal\\_code646193 & postal\\_code646193 & 0                  \\\\\n",
       "\tpostal\\_code646542 & postal\\_code646542 & 0                  \\\\\n",
       "\tpostal\\_code647714 & postal\\_code647714 & 0                  \\\\\n",
       "\tpostal\\_code649161 & postal\\_code649161 & 0                  \\\\\n",
       "\tpostal\\_code649165 & postal\\_code649165 & 0                  \\\\\n",
       "\tpostal\\_code649172 & postal\\_code649172 & 0                  \\\\\n",
       "\tpostal\\_code649176 & postal\\_code649176 & 0                  \\\\\n",
       "\tpostal\\_code649178 & postal\\_code649178 & 0                  \\\\\n",
       "\tpostal\\_code656464 & postal\\_code656464 & 0                  \\\\\n",
       "\tpostal\\_code678945 & postal\\_code678945 & 0                  \\\\\n",
       "\\end{tabular}\n"
      ],
      "text/markdown": [
       "\n",
       "| <!--/--> | var | rel.inf |\n",
       "|---|---|---|\n",
       "| area | area                               | 72.9519090                         |\n",
       "| cityahvaz | cityahvaz                          | 13.1132179                         |\n",
       "| skeleton_typeconcrete | skeleton_typeconcrete              |  5.2239214                         |\n",
       "| building_age | building_age                       |  4.2112154                         |\n",
       "| citybandare_mahshahr | citybandare_mahshahr               |  2.5276543                         |\n",
       "| citychamran | citychamran                        |  1.2785502                         |\n",
       "| cityabadan | cityabadan                         |  0.2850227                         |\n",
       "| citybandare_emam_khomeini | citybandare_emam_khomeini          |  0.2734410                         |\n",
       "| skeleton_typenone | skeleton_typenone                  |  0.1350681                         |\n",
       "| citybehbahan | citybehbahan                       |  0.0000000                         |\n",
       "| citydezfool | citydezfool                        |  0.0000000                         |\n",
       "| cityhandijan | cityhandijan                       |  0.0000000                         |\n",
       "| cityizeh | cityizeh                           |  0.0000000                         |\n",
       "| citykhorramshahr | citykhorramshahr                   |  0.0000000                         |\n",
       "| citymasjed_soleiman | citymasjed_soleiman                |  0.0000000                         |\n",
       "| cityraamshir | cityraamshir                       |  0.0000000                         |\n",
       "| cityshiban | cityshiban                         |  0.0000000                         |\n",
       "| cityshoosh | cityshoosh                         |  0.0000000                         |\n",
       "| cityshooshtar | cityshooshtar                      |  0.0000000                         |\n",
       "| skeleton_typeadobe_or_clay | skeleton_typeadobe_or_clay         |  0.0000000                         |\n",
       "| skeleton_typebrick_or_cement_block | skeleton_typebrick_or_cement_block |  0.0000000                         |\n",
       "| skeleton_typemetal | skeleton_typemetal                 |  0.0000000                         |\n",
       "| skeleton_typemetal_concrete | skeleton_typemetal_concrete        |  0.0000000                         |\n",
       "| postal_code181757 | postal_code181757                  |  0.0000000                         |\n",
       "| postal_code191181 | postal_code191181                  |  0.0000000                         |\n",
       "| postal_code613373 | postal_code613373                  |  0.0000000                         |\n",
       "| postal_code613388 | postal_code613388                  |  0.0000000                         |\n",
       "| postal_code613493 | postal_code613493                  |  0.0000000                         |\n",
       "| postal_code613495 | postal_code613495                  |  0.0000000                         |\n",
       "| postal_code613664 | postal_code613664                  |  0.0000000                         |\n",
       "| ... | ... | ... |\n",
       "| postal_code641671 | postal_code641671 | 0                 |\n",
       "| postal_code641673 | postal_code641673 | 0                 |\n",
       "| postal_code641763 | postal_code641763 | 0                 |\n",
       "| postal_code641765 | postal_code641765 | 0                 |\n",
       "| postal_code641771 | postal_code641771 | 0                 |\n",
       "| postal_code641781 | postal_code641781 | 0                 |\n",
       "| postal_code641784 | postal_code641784 | 0                 |\n",
       "| postal_code641797 | postal_code641797 | 0                 |\n",
       "| postal_code641881 | postal_code641881 | 0                 |\n",
       "| postal_code641971 | postal_code641971 | 0                 |\n",
       "| postal_code641977 | postal_code641977 | 0                 |\n",
       "| postal_code641981 | postal_code641981 | 0                 |\n",
       "| postal_code645171 | postal_code645171 | 0                 |\n",
       "| postal_code646166 | postal_code646166 | 0                 |\n",
       "| postal_code646168 | postal_code646168 | 0                 |\n",
       "| postal_code646174 | postal_code646174 | 0                 |\n",
       "| postal_code646178 | postal_code646178 | 0                 |\n",
       "| postal_code646183 | postal_code646183 | 0                 |\n",
       "| postal_code646185 | postal_code646185 | 0                 |\n",
       "| postal_code646187 | postal_code646187 | 0                 |\n",
       "| postal_code646193 | postal_code646193 | 0                 |\n",
       "| postal_code646542 | postal_code646542 | 0                 |\n",
       "| postal_code647714 | postal_code647714 | 0                 |\n",
       "| postal_code649161 | postal_code649161 | 0                 |\n",
       "| postal_code649165 | postal_code649165 | 0                 |\n",
       "| postal_code649172 | postal_code649172 | 0                 |\n",
       "| postal_code649176 | postal_code649176 | 0                 |\n",
       "| postal_code649178 | postal_code649178 | 0                 |\n",
       "| postal_code656464 | postal_code656464 | 0                 |\n",
       "| postal_code678945 | postal_code678945 | 0                 |\n",
       "\n"
      ],
      "text/plain": [
       "                                   var                               \n",
       "area                               area                              \n",
       "cityahvaz                          cityahvaz                         \n",
       "skeleton_typeconcrete              skeleton_typeconcrete             \n",
       "building_age                       building_age                      \n",
       "citybandare_mahshahr               citybandare_mahshahr              \n",
       "citychamran                        citychamran                       \n",
       "cityabadan                         cityabadan                        \n",
       "citybandare_emam_khomeini          citybandare_emam_khomeini         \n",
       "skeleton_typenone                  skeleton_typenone                 \n",
       "citybehbahan                       citybehbahan                      \n",
       "citydezfool                        citydezfool                       \n",
       "cityhandijan                       cityhandijan                      \n",
       "cityizeh                           cityizeh                          \n",
       "citykhorramshahr                   citykhorramshahr                  \n",
       "citymasjed_soleiman                citymasjed_soleiman               \n",
       "cityraamshir                       cityraamshir                      \n",
       "cityshiban                         cityshiban                        \n",
       "cityshoosh                         cityshoosh                        \n",
       "cityshooshtar                      cityshooshtar                     \n",
       "skeleton_typeadobe_or_clay         skeleton_typeadobe_or_clay        \n",
       "skeleton_typebrick_or_cement_block skeleton_typebrick_or_cement_block\n",
       "skeleton_typemetal                 skeleton_typemetal                \n",
       "skeleton_typemetal_concrete        skeleton_typemetal_concrete       \n",
       "postal_code181757                  postal_code181757                 \n",
       "postal_code191181                  postal_code191181                 \n",
       "postal_code613373                  postal_code613373                 \n",
       "postal_code613388                  postal_code613388                 \n",
       "postal_code613493                  postal_code613493                 \n",
       "postal_code613495                  postal_code613495                 \n",
       "postal_code613664                  postal_code613664                 \n",
       "...                                ...                               \n",
       "postal_code641671                  postal_code641671                 \n",
       "postal_code641673                  postal_code641673                 \n",
       "postal_code641763                  postal_code641763                 \n",
       "postal_code641765                  postal_code641765                 \n",
       "postal_code641771                  postal_code641771                 \n",
       "postal_code641781                  postal_code641781                 \n",
       "postal_code641784                  postal_code641784                 \n",
       "postal_code641797                  postal_code641797                 \n",
       "postal_code641881                  postal_code641881                 \n",
       "postal_code641971                  postal_code641971                 \n",
       "postal_code641977                  postal_code641977                 \n",
       "postal_code641981                  postal_code641981                 \n",
       "postal_code645171                  postal_code645171                 \n",
       "postal_code646166                  postal_code646166                 \n",
       "postal_code646168                  postal_code646168                 \n",
       "postal_code646174                  postal_code646174                 \n",
       "postal_code646178                  postal_code646178                 \n",
       "postal_code646183                  postal_code646183                 \n",
       "postal_code646185                  postal_code646185                 \n",
       "postal_code646187                  postal_code646187                 \n",
       "postal_code646193                  postal_code646193                 \n",
       "postal_code646542                  postal_code646542                 \n",
       "postal_code647714                  postal_code647714                 \n",
       "postal_code649161                  postal_code649161                 \n",
       "postal_code649165                  postal_code649165                 \n",
       "postal_code649172                  postal_code649172                 \n",
       "postal_code649176                  postal_code649176                 \n",
       "postal_code649178                  postal_code649178                 \n",
       "postal_code656464                  postal_code656464                 \n",
       "postal_code678945                  postal_code678945                 \n",
       "                                   rel.inf   \n",
       "area                               72.9519090\n",
       "cityahvaz                          13.1132179\n",
       "skeleton_typeconcrete               5.2239214\n",
       "building_age                        4.2112154\n",
       "citybandare_mahshahr                2.5276543\n",
       "citychamran                         1.2785502\n",
       "cityabadan                          0.2850227\n",
       "citybandare_emam_khomeini           0.2734410\n",
       "skeleton_typenone                   0.1350681\n",
       "citybehbahan                        0.0000000\n",
       "citydezfool                         0.0000000\n",
       "cityhandijan                        0.0000000\n",
       "cityizeh                            0.0000000\n",
       "citykhorramshahr                    0.0000000\n",
       "citymasjed_soleiman                 0.0000000\n",
       "cityraamshir                        0.0000000\n",
       "cityshiban                          0.0000000\n",
       "cityshoosh                          0.0000000\n",
       "cityshooshtar                       0.0000000\n",
       "skeleton_typeadobe_or_clay          0.0000000\n",
       "skeleton_typebrick_or_cement_block  0.0000000\n",
       "skeleton_typemetal                  0.0000000\n",
       "skeleton_typemetal_concrete         0.0000000\n",
       "postal_code181757                   0.0000000\n",
       "postal_code191181                   0.0000000\n",
       "postal_code613373                   0.0000000\n",
       "postal_code613388                   0.0000000\n",
       "postal_code613493                   0.0000000\n",
       "postal_code613495                   0.0000000\n",
       "postal_code613664                   0.0000000\n",
       "...                                ...       \n",
       "postal_code641671                  0         \n",
       "postal_code641673                  0         \n",
       "postal_code641763                  0         \n",
       "postal_code641765                  0         \n",
       "postal_code641771                  0         \n",
       "postal_code641781                  0         \n",
       "postal_code641784                  0         \n",
       "postal_code641797                  0         \n",
       "postal_code641881                  0         \n",
       "postal_code641971                  0         \n",
       "postal_code641977                  0         \n",
       "postal_code641981                  0         \n",
       "postal_code645171                  0         \n",
       "postal_code646166                  0         \n",
       "postal_code646168                  0         \n",
       "postal_code646174                  0         \n",
       "postal_code646178                  0         \n",
       "postal_code646183                  0         \n",
       "postal_code646185                  0         \n",
       "postal_code646187                  0         \n",
       "postal_code646193                  0         \n",
       "postal_code646542                  0         \n",
       "postal_code647714                  0         \n",
       "postal_code649161                  0         \n",
       "postal_code649165                  0         \n",
       "postal_code649172                  0         \n",
       "postal_code649176                  0         \n",
       "postal_code649178                  0         \n",
       "postal_code656464                  0         \n",
       "postal_code678945                  0         "
      ]
     },
     "metadata": {},
     "output_type": "display_data"
    },
    {
     "data": {
      "image/png": "[encoded data removed]",
      "text/plain": [
       "plot without title"
      ]
     },
     "metadata": {},
     "output_type": "display_data"
    }
   ],
   "source": [
    "summary(boosted.tree)"
   ]
  },
  {
   "cell_type": "code",
   "execution_count": 56,
   "metadata": {},
   "outputs": [
    {
     "name": "stderr",
     "output_type": "stream",
     "text": [
      "Using 100 trees...\n",
      "\n"
     ]
    },
    {
     "data": {
      "text/html": [
       "<table>\n",
       "<thead><tr><th></th><th scope=col>ME</th><th scope=col>RMSE</th><th scope=col>MAE</th><th scope=col>MPE</th><th scope=col>MAPE</th></tr></thead>\n",
       "<tbody>\n",
       "\t<tr><th scope=row>Test set</th><td>2.448334 </td><td>205.4627 </td><td>134.6677 </td><td>-6076.502</td><td>6097.818 </td></tr>\n",
       "</tbody>\n",
       "</table>\n"
      ],
      "text/latex": [
       "\\begin{tabular}{r|lllll}\n",
       "  & ME & RMSE & MAE & MPE & MAPE\\\\\n",
       "\\hline\n",
       "\tTest set & 2.448334  & 205.4627  & 134.6677  & -6076.502 & 6097.818 \\\\\n",
       "\\end{tabular}\n"
      ],
      "text/markdown": [
       "\n",
       "| <!--/--> | ME | RMSE | MAE | MPE | MAPE |\n",
       "|---|---|---|---|---|---|\n",
       "| Test set | 2.448334  | 205.4627  | 134.6677  | -6076.502 | 6097.818  |\n",
       "\n"
      ],
      "text/plain": [
       "         ME       RMSE     MAE      MPE       MAPE    \n",
       "Test set 2.448334 205.4627 134.6677 -6076.502 6097.818"
      ]
     },
     "metadata": {},
     "output_type": "display_data"
    }
   ],
   "source": [
    "accuracy(predict(boosted.tree,x_train),y_train)"
   ]
  },
  {
   "cell_type": "code",
   "execution_count": 57,
   "metadata": {},
   "outputs": [
    {
     "name": "stderr",
     "output_type": "stream",
     "text": [
      "Using 100 trees...\n",
      "\n"
     ]
    },
    {
     "data": {
      "text/html": [
       "<table>\n",
       "<thead><tr><th></th><th scope=col>ME</th><th scope=col>RMSE</th><th scope=col>MAE</th><th scope=col>MPE</th><th scope=col>MAPE</th></tr></thead>\n",
       "<tbody>\n",
       "\t<tr><th scope=row>Test set</th><td>39.19129 </td><td>244.9458 </td><td>148.4321 </td><td>-1824.321</td><td>1850.706 </td></tr>\n",
       "</tbody>\n",
       "</table>\n"
      ],
      "text/latex": [
       "\\begin{tabular}{r|lllll}\n",
       "  & ME & RMSE & MAE & MPE & MAPE\\\\\n",
       "\\hline\n",
       "\tTest set & 39.19129  & 244.9458  & 148.4321  & -1824.321 & 1850.706 \\\\\n",
       "\\end{tabular}\n"
      ],
      "text/markdown": [
       "\n",
       "| <!--/--> | ME | RMSE | MAE | MPE | MAPE |\n",
       "|---|---|---|---|---|---|\n",
       "| Test set | 39.19129  | 244.9458  | 148.4321  | -1824.321 | 1850.706  |\n",
       "\n"
      ],
      "text/plain": [
       "         ME       RMSE     MAE      MPE       MAPE    \n",
       "Test set 39.19129 244.9458 148.4321 -1824.321 1850.706"
      ]
     },
     "metadata": {},
     "output_type": "display_data"
    }
   ],
   "source": [
    "accuracy(predict(boosted.tree,x_test),y_test)"
   ]
  },
  {
   "cell_type": "code",
   "execution_count": null,
   "metadata": {},
   "outputs": [],
   "source": []
  },
  {
   "cell_type": "code",
   "execution_count": null,
   "metadata": {},
   "outputs": [],
   "source": []
  },
  {
   "cell_type": "code",
   "execution_count": null,
   "metadata": {},
   "outputs": [],
   "source": [
    "train = train[,c(2,16,17,20)]\n",
    "test = test[,c(2,16,17,20)]"
   ]
  },
  {
   "cell_type": "code",
   "execution_count": null,
   "metadata": {},
   "outputs": [],
   "source": [
    "nn = neuralnet(formula = y_train ~ ., data = train.pca, hidden = c(6), threshold = 1,\n",
    "  stepmax = 1e+09 ,algorithm = \"rprop+\",err.fct = \"sse\", learningrate.factor = list(minus = .5 ,plus = 1.5),\n",
    "  act.fct = \"logistic\", linear.output = TRUE, lifesign = 'full', lifesign.step=100)"
   ]
  },
  {
   "cell_type": "code",
   "execution_count": 55,
   "metadata": {},
   "outputs": [
    {
     "data": {
      "text/html": [
       "<table>\n",
       "<thead><tr><th></th><th scope=col>cityahvaz</th><th scope=col>area</th><th scope=col>building_age</th><th scope=col>skeleton_typeconcrete</th></tr></thead>\n",
       "<tbody>\n",
       "\t<tr><th scope=row>1</th><td>1     </td><td> 75.00</td><td> 2    </td><td>0     </td></tr>\n",
       "\t<tr><th scope=row>7</th><td>1     </td><td> 88.55</td><td> 3    </td><td>0     </td></tr>\n",
       "\t<tr><th scope=row>9</th><td>1     </td><td>119.19</td><td> 2    </td><td>1     </td></tr>\n",
       "\t<tr><th scope=row>17</th><td>1     </td><td> 63.11</td><td>15    </td><td>0     </td></tr>\n",
       "\t<tr><th scope=row>20</th><td>1     </td><td>103.06</td><td>60    </td><td>1     </td></tr>\n",
       "\t<tr><th scope=row>23</th><td>1     </td><td> 74.53</td><td> 4    </td><td>1     </td></tr>\n",
       "\t<tr><th scope=row>25</th><td>1     </td><td> 79.94</td><td> 8    </td><td>1     </td></tr>\n",
       "\t<tr><th scope=row>26</th><td>1     </td><td> 96.76</td><td>19    </td><td>1     </td></tr>\n",
       "\t<tr><th scope=row>34</th><td>1     </td><td>102.50</td><td> 6    </td><td>1     </td></tr>\n",
       "\t<tr><th scope=row>35</th><td>1     </td><td>140.99</td><td> 4    </td><td>1     </td></tr>\n",
       "\t<tr><th scope=row>36</th><td>1     </td><td>118.31</td><td>12    </td><td>1     </td></tr>\n",
       "\t<tr><th scope=row>40</th><td>1     </td><td>103.16</td><td> 7    </td><td>0     </td></tr>\n",
       "\t<tr><th scope=row>52</th><td>1     </td><td> 66.85</td><td> 9    </td><td>0     </td></tr>\n",
       "\t<tr><th scope=row>53</th><td>1     </td><td>148.11</td><td> 9    </td><td>0     </td></tr>\n",
       "\t<tr><th scope=row>58</th><td>1     </td><td> 70.00</td><td>15    </td><td>0     </td></tr>\n",
       "\t<tr><th scope=row>62</th><td>1     </td><td> 93.24</td><td> 9    </td><td>0     </td></tr>\n",
       "\t<tr><th scope=row>71</th><td>1     </td><td>110.16</td><td> 8    </td><td>0     </td></tr>\n",
       "\t<tr><th scope=row>74</th><td>1     </td><td> 88.21</td><td> 2    </td><td>0     </td></tr>\n",
       "\t<tr><th scope=row>77</th><td>1     </td><td> 87.54</td><td> 4    </td><td>1     </td></tr>\n",
       "\t<tr><th scope=row>82</th><td>0     </td><td> 63.00</td><td> 9    </td><td>0     </td></tr>\n",
       "\t<tr><th scope=row>84</th><td>0     </td><td> 61.85</td><td> 5    </td><td>0     </td></tr>\n",
       "\t<tr><th scope=row>88</th><td>0     </td><td> 66.80</td><td> 9    </td><td>0     </td></tr>\n",
       "\t<tr><th scope=row>90</th><td>0     </td><td> 78.70</td><td> 5    </td><td>1     </td></tr>\n",
       "\t<tr><th scope=row>91</th><td>0     </td><td> 95.50</td><td> 1    </td><td>0     </td></tr>\n",
       "\t<tr><th scope=row>107</th><td>0     </td><td> 84.26</td><td> 3    </td><td>0     </td></tr>\n",
       "\t<tr><th scope=row>113</th><td>0     </td><td> 95.00</td><td> 0    </td><td>1     </td></tr>\n",
       "\t<tr><th scope=row>120</th><td>0     </td><td> 92.69</td><td> 2    </td><td>0     </td></tr>\n",
       "\t<tr><th scope=row>123</th><td>0     </td><td>107.00</td><td> 7    </td><td>1     </td></tr>\n",
       "\t<tr><th scope=row>124</th><td>0     </td><td> 75.00</td><td> 2    </td><td>1     </td></tr>\n",
       "\t<tr><th scope=row>137</th><td>0     </td><td> 78.00</td><td> 0    </td><td>0     </td></tr>\n",
       "\t<tr><th scope=row>...</th><td>...</td><td>...</td><td>...</td><td>...</td></tr>\n",
       "\t<tr><th scope=row>606</th><td>0     </td><td> 75.49</td><td>15    </td><td>0     </td></tr>\n",
       "\t<tr><th scope=row>617</th><td>0     </td><td> 79.07</td><td> 6    </td><td>1     </td></tr>\n",
       "\t<tr><th scope=row>620</th><td>0     </td><td> 97.45</td><td> 1    </td><td>1     </td></tr>\n",
       "\t<tr><th scope=row>631</th><td>0     </td><td>224.75</td><td> 0    </td><td>1     </td></tr>\n",
       "\t<tr><th scope=row>632</th><td>0     </td><td> 82.55</td><td>10    </td><td>0     </td></tr>\n",
       "\t<tr><th scope=row>640</th><td>0     </td><td> 87.00</td><td> 5    </td><td>1     </td></tr>\n",
       "\t<tr><th scope=row>641</th><td>0     </td><td> 63.79</td><td> 9    </td><td>0     </td></tr>\n",
       "\t<tr><th scope=row>642</th><td>0     </td><td> 90.00</td><td> 0    </td><td>0     </td></tr>\n",
       "\t<tr><th scope=row>647</th><td>0     </td><td> 78.10</td><td> 6    </td><td>0     </td></tr>\n",
       "\t<tr><th scope=row>651</th><td>0     </td><td> 70.72</td><td> 9    </td><td>0     </td></tr>\n",
       "\t<tr><th scope=row>654</th><td>0     </td><td> 90.00</td><td> 4    </td><td>0     </td></tr>\n",
       "\t<tr><th scope=row>657</th><td>0     </td><td> 90.00</td><td> 5    </td><td>0     </td></tr>\n",
       "\t<tr><th scope=row>668</th><td>0     </td><td>230.00</td><td> 0    </td><td>1     </td></tr>\n",
       "\t<tr><th scope=row>673</th><td>0     </td><td> 71.69</td><td>14    </td><td>0     </td></tr>\n",
       "\t<tr><th scope=row>676</th><td>0     </td><td> 98.00</td><td> 9    </td><td>0     </td></tr>\n",
       "\t<tr><th scope=row>685</th><td>0     </td><td>140.00</td><td> 9    </td><td>0     </td></tr>\n",
       "\t<tr><th scope=row>688</th><td>0     </td><td> 80.22</td><td> 4    </td><td>0     </td></tr>\n",
       "\t<tr><th scope=row>696</th><td>0     </td><td> 85.00</td><td> 1    </td><td>0     </td></tr>\n",
       "\t<tr><th scope=row>708</th><td>0     </td><td> 90.00</td><td> 2    </td><td>0     </td></tr>\n",
       "\t<tr><th scope=row>711</th><td>0     </td><td>100.00</td><td>44    </td><td>0     </td></tr>\n",
       "\t<tr><th scope=row>713</th><td>0     </td><td> 50.00</td><td>34    </td><td>0     </td></tr>\n",
       "\t<tr><th scope=row>723</th><td>0     </td><td>125.80</td><td>12    </td><td>1     </td></tr>\n",
       "\t<tr><th scope=row>726</th><td>0     </td><td> 70.00</td><td> 9    </td><td>0     </td></tr>\n",
       "\t<tr><th scope=row>733</th><td>0     </td><td> 71.97</td><td> 2    </td><td>0     </td></tr>\n",
       "\t<tr><th scope=row>735</th><td>0     </td><td> 76.00</td><td> 9    </td><td>0     </td></tr>\n",
       "\t<tr><th scope=row>746</th><td>0     </td><td>115.90</td><td> 1    </td><td>0     </td></tr>\n",
       "\t<tr><th scope=row>747</th><td>0     </td><td> 85.00</td><td> 1    </td><td>0     </td></tr>\n",
       "\t<tr><th scope=row>756</th><td>0     </td><td> 25.00</td><td>14    </td><td>1     </td></tr>\n",
       "\t<tr><th scope=row>760</th><td>0     </td><td> 65.24</td><td> 3    </td><td>1     </td></tr>\n",
       "\t<tr><th scope=row>763</th><td>0     </td><td> 94.78</td><td>11    </td><td>1     </td></tr>\n",
       "</tbody>\n",
       "</table>\n"
      ],
      "text/latex": [
       "\\begin{tabular}{r|llll}\n",
       "  & cityahvaz & area & building\\_age & skeleton\\_typeconcrete\\\\\n",
       "\\hline\n",
       "\t1 & 1      &  75.00 &  2     & 0     \\\\\n",
       "\t7 & 1      &  88.55 &  3     & 0     \\\\\n",
       "\t9 & 1      & 119.19 &  2     & 1     \\\\\n",
       "\t17 & 1      &  63.11 & 15     & 0     \\\\\n",
       "\t20 & 1      & 103.06 & 60     & 1     \\\\\n",
       "\t23 & 1      &  74.53 &  4     & 1     \\\\\n",
       "\t25 & 1      &  79.94 &  8     & 1     \\\\\n",
       "\t26 & 1      &  96.76 & 19     & 1     \\\\\n",
       "\t34 & 1      & 102.50 &  6     & 1     \\\\\n",
       "\t35 & 1      & 140.99 &  4     & 1     \\\\\n",
       "\t36 & 1      & 118.31 & 12     & 1     \\\\\n",
       "\t40 & 1      & 103.16 &  7     & 0     \\\\\n",
       "\t52 & 1      &  66.85 &  9     & 0     \\\\\n",
       "\t53 & 1      & 148.11 &  9     & 0     \\\\\n",
       "\t58 & 1      &  70.00 & 15     & 0     \\\\\n",
       "\t62 & 1      &  93.24 &  9     & 0     \\\\\n",
       "\t71 & 1      & 110.16 &  8     & 0     \\\\\n",
       "\t74 & 1      &  88.21 &  2     & 0     \\\\\n",
       "\t77 & 1      &  87.54 &  4     & 1     \\\\\n",
       "\t82 & 0      &  63.00 &  9     & 0     \\\\\n",
       "\t84 & 0      &  61.85 &  5     & 0     \\\\\n",
       "\t88 & 0      &  66.80 &  9     & 0     \\\\\n",
       "\t90 & 0      &  78.70 &  5     & 1     \\\\\n",
       "\t91 & 0      &  95.50 &  1     & 0     \\\\\n",
       "\t107 & 0      &  84.26 &  3     & 0     \\\\\n",
       "\t113 & 0      &  95.00 &  0     & 1     \\\\\n",
       "\t120 & 0      &  92.69 &  2     & 0     \\\\\n",
       "\t123 & 0      & 107.00 &  7     & 1     \\\\\n",
       "\t124 & 0      &  75.00 &  2     & 1     \\\\\n",
       "\t137 & 0      &  78.00 &  0     & 0     \\\\\n",
       "\t... & ... & ... & ... & ...\\\\\n",
       "\t606 & 0      &  75.49 & 15     & 0     \\\\\n",
       "\t617 & 0      &  79.07 &  6     & 1     \\\\\n",
       "\t620 & 0      &  97.45 &  1     & 1     \\\\\n",
       "\t631 & 0      & 224.75 &  0     & 1     \\\\\n",
       "\t632 & 0      &  82.55 & 10     & 0     \\\\\n",
       "\t640 & 0      &  87.00 &  5     & 1     \\\\\n",
       "\t641 & 0      &  63.79 &  9     & 0     \\\\\n",
       "\t642 & 0      &  90.00 &  0     & 0     \\\\\n",
       "\t647 & 0      &  78.10 &  6     & 0     \\\\\n",
       "\t651 & 0      &  70.72 &  9     & 0     \\\\\n",
       "\t654 & 0      &  90.00 &  4     & 0     \\\\\n",
       "\t657 & 0      &  90.00 &  5     & 0     \\\\\n",
       "\t668 & 0      & 230.00 &  0     & 1     \\\\\n",
       "\t673 & 0      &  71.69 & 14     & 0     \\\\\n",
       "\t676 & 0      &  98.00 &  9     & 0     \\\\\n",
       "\t685 & 0      & 140.00 &  9     & 0     \\\\\n",
       "\t688 & 0      &  80.22 &  4     & 0     \\\\\n",
       "\t696 & 0      &  85.00 &  1     & 0     \\\\\n",
       "\t708 & 0      &  90.00 &  2     & 0     \\\\\n",
       "\t711 & 0      & 100.00 & 44     & 0     \\\\\n",
       "\t713 & 0      &  50.00 & 34     & 0     \\\\\n",
       "\t723 & 0      & 125.80 & 12     & 1     \\\\\n",
       "\t726 & 0      &  70.00 &  9     & 0     \\\\\n",
       "\t733 & 0      &  71.97 &  2     & 0     \\\\\n",
       "\t735 & 0      &  76.00 &  9     & 0     \\\\\n",
       "\t746 & 0      & 115.90 &  1     & 0     \\\\\n",
       "\t747 & 0      &  85.00 &  1     & 0     \\\\\n",
       "\t756 & 0      &  25.00 & 14     & 1     \\\\\n",
       "\t760 & 0      &  65.24 &  3     & 1     \\\\\n",
       "\t763 & 0      &  94.78 & 11     & 1     \\\\\n",
       "\\end{tabular}\n"
      ],
      "text/markdown": [
       "\n",
       "| <!--/--> | cityahvaz | area | building_age | skeleton_typeconcrete |\n",
       "|---|---|---|---|---|\n",
       "| 1 | 1      |  75.00 |  2     | 0      |\n",
       "| 7 | 1      |  88.55 |  3     | 0      |\n",
       "| 9 | 1      | 119.19 |  2     | 1      |\n",
       "| 17 | 1      |  63.11 | 15     | 0      |\n",
       "| 20 | 1      | 103.06 | 60     | 1      |\n",
       "| 23 | 1      |  74.53 |  4     | 1      |\n",
       "| 25 | 1      |  79.94 |  8     | 1      |\n",
       "| 26 | 1      |  96.76 | 19     | 1      |\n",
       "| 34 | 1      | 102.50 |  6     | 1      |\n",
       "| 35 | 1      | 140.99 |  4     | 1      |\n",
       "| 36 | 1      | 118.31 | 12     | 1      |\n",
       "| 40 | 1      | 103.16 |  7     | 0      |\n",
       "| 52 | 1      |  66.85 |  9     | 0      |\n",
       "| 53 | 1      | 148.11 |  9     | 0      |\n",
       "| 58 | 1      |  70.00 | 15     | 0      |\n",
       "| 62 | 1      |  93.24 |  9     | 0      |\n",
       "| 71 | 1      | 110.16 |  8     | 0      |\n",
       "| 74 | 1      |  88.21 |  2     | 0      |\n",
       "| 77 | 1      |  87.54 |  4     | 1      |\n",
       "| 82 | 0      |  63.00 |  9     | 0      |\n",
       "| 84 | 0      |  61.85 |  5     | 0      |\n",
       "| 88 | 0      |  66.80 |  9     | 0      |\n",
       "| 90 | 0      |  78.70 |  5     | 1      |\n",
       "| 91 | 0      |  95.50 |  1     | 0      |\n",
       "| 107 | 0      |  84.26 |  3     | 0      |\n",
       "| 113 | 0      |  95.00 |  0     | 1      |\n",
       "| 120 | 0      |  92.69 |  2     | 0      |\n",
       "| 123 | 0      | 107.00 |  7     | 1      |\n",
       "| 124 | 0      |  75.00 |  2     | 1      |\n",
       "| 137 | 0      |  78.00 |  0     | 0      |\n",
       "| ... | ... | ... | ... | ... |\n",
       "| 606 | 0      |  75.49 | 15     | 0      |\n",
       "| 617 | 0      |  79.07 |  6     | 1      |\n",
       "| 620 | 0      |  97.45 |  1     | 1      |\n",
       "| 631 | 0      | 224.75 |  0     | 1      |\n",
       "| 632 | 0      |  82.55 | 10     | 0      |\n",
       "| 640 | 0      |  87.00 |  5     | 1      |\n",
       "| 641 | 0      |  63.79 |  9     | 0      |\n",
       "| 642 | 0      |  90.00 |  0     | 0      |\n",
       "| 647 | 0      |  78.10 |  6     | 0      |\n",
       "| 651 | 0      |  70.72 |  9     | 0      |\n",
       "| 654 | 0      |  90.00 |  4     | 0      |\n",
       "| 657 | 0      |  90.00 |  5     | 0      |\n",
       "| 668 | 0      | 230.00 |  0     | 1      |\n",
       "| 673 | 0      |  71.69 | 14     | 0      |\n",
       "| 676 | 0      |  98.00 |  9     | 0      |\n",
       "| 685 | 0      | 140.00 |  9     | 0      |\n",
       "| 688 | 0      |  80.22 |  4     | 0      |\n",
       "| 696 | 0      |  85.00 |  1     | 0      |\n",
       "| 708 | 0      |  90.00 |  2     | 0      |\n",
       "| 711 | 0      | 100.00 | 44     | 0      |\n",
       "| 713 | 0      |  50.00 | 34     | 0      |\n",
       "| 723 | 0      | 125.80 | 12     | 1      |\n",
       "| 726 | 0      |  70.00 |  9     | 0      |\n",
       "| 733 | 0      |  71.97 |  2     | 0      |\n",
       "| 735 | 0      |  76.00 |  9     | 0      |\n",
       "| 746 | 0      | 115.90 |  1     | 0      |\n",
       "| 747 | 0      |  85.00 |  1     | 0      |\n",
       "| 756 | 0      |  25.00 | 14     | 1      |\n",
       "| 760 | 0      |  65.24 |  3     | 1      |\n",
       "| 763 | 0      |  94.78 | 11     | 1      |\n",
       "\n"
      ],
      "text/plain": [
       "    cityahvaz area   building_age skeleton_typeconcrete\n",
       "1   1          75.00  2           0                    \n",
       "7   1          88.55  3           0                    \n",
       "9   1         119.19  2           1                    \n",
       "17  1          63.11 15           0                    \n",
       "20  1         103.06 60           1                    \n",
       "23  1          74.53  4           1                    \n",
       "25  1          79.94  8           1                    \n",
       "26  1          96.76 19           1                    \n",
       "34  1         102.50  6           1                    \n",
       "35  1         140.99  4           1                    \n",
       "36  1         118.31 12           1                    \n",
       "40  1         103.16  7           0                    \n",
       "52  1          66.85  9           0                    \n",
       "53  1         148.11  9           0                    \n",
       "58  1          70.00 15           0                    \n",
       "62  1          93.24  9           0                    \n",
       "71  1         110.16  8           0                    \n",
       "74  1          88.21  2           0                    \n",
       "77  1          87.54  4           1                    \n",
       "82  0          63.00  9           0                    \n",
       "84  0          61.85  5           0                    \n",
       "88  0          66.80  9           0                    \n",
       "90  0          78.70  5           1                    \n",
       "91  0          95.50  1           0                    \n",
       "107 0          84.26  3           0                    \n",
       "113 0          95.00  0           1                    \n",
       "120 0          92.69  2           0                    \n",
       "123 0         107.00  7           1                    \n",
       "124 0          75.00  2           1                    \n",
       "137 0          78.00  0           0                    \n",
       "... ...       ...    ...          ...                  \n",
       "606 0          75.49 15           0                    \n",
       "617 0          79.07  6           1                    \n",
       "620 0          97.45  1           1                    \n",
       "631 0         224.75  0           1                    \n",
       "632 0          82.55 10           0                    \n",
       "640 0          87.00  5           1                    \n",
       "641 0          63.79  9           0                    \n",
       "642 0          90.00  0           0                    \n",
       "647 0          78.10  6           0                    \n",
       "651 0          70.72  9           0                    \n",
       "654 0          90.00  4           0                    \n",
       "657 0          90.00  5           0                    \n",
       "668 0         230.00  0           1                    \n",
       "673 0          71.69 14           0                    \n",
       "676 0          98.00  9           0                    \n",
       "685 0         140.00  9           0                    \n",
       "688 0          80.22  4           0                    \n",
       "696 0          85.00  1           0                    \n",
       "708 0          90.00  2           0                    \n",
       "711 0         100.00 44           0                    \n",
       "713 0          50.00 34           0                    \n",
       "723 0         125.80 12           1                    \n",
       "726 0          70.00  9           0                    \n",
       "733 0          71.97  2           0                    \n",
       "735 0          76.00  9           0                    \n",
       "746 0         115.90  1           0                    \n",
       "747 0          85.00  1           0                    \n",
       "756 0          25.00 14           1                    \n",
       "760 0          65.24  3           1                    \n",
       "763 0          94.78 11           1                    "
      ]
     },
     "metadata": {},
     "output_type": "display_data"
    }
   ],
   "source": [
    "test[,c(2,16,17,20)]"
   ]
  },
  {
   "cell_type": "code",
   "execution_count": null,
   "metadata": {},
   "outputs": [],
   "source": []
  },
  {
   "cell_type": "code",
   "execution_count": 58,
   "metadata": {},
   "outputs": [],
   "source": [
    "# train$y_train = as.numeric(train$y_train)"
   ]
  },
  {
   "cell_type": "code",
   "execution_count": 59,
   "metadata": {},
   "outputs": [],
   "source": [
    "# boosted.tree = blackboost(y_train ~. , data = train,tree_controls = partykit::ctree_control(\n",
    "#                                                                                                teststat = \"quad\",\n",
    "#                                                                                                testtype = \"Teststatistic\",\n",
    "#                                                                                                mincriterion = 0,\n",
    "#                                                                                                minsplit = 10, \n",
    "#                                                                                                minbucket = 4,\n",
    "#                                                                                                maxdepth = 6, \n",
    "#                                                                                                saveinfo = FALSE))"
   ]
  },
  {
   "cell_type": "code",
   "execution_count": 60,
   "metadata": {},
   "outputs": [],
   "source": [
    "# boosted.tree"
   ]
  },
  {
   "cell_type": "code",
   "execution_count": 61,
   "metadata": {},
   "outputs": [],
   "source": [
    "# accuracy(as.numeric(predict(boosted.tree,x_train)[,1]),y_train)"
   ]
  },
  {
   "cell_type": "code",
   "execution_count": 62,
   "metadata": {},
   "outputs": [],
   "source": [
    "# accuracy(as.numeric(predict(boosted.tree,x_test)[,1]),y_test)"
   ]
  },
  {
   "cell_type": "code",
   "execution_count": null,
   "metadata": {},
   "outputs": [],
   "source": []
  },
  {
   "cell_type": "code",
   "execution_count": null,
   "metadata": {},
   "outputs": [],
   "source": []
  },
  {
   "cell_type": "code",
   "execution_count": 107,
   "metadata": {},
   "outputs": [],
   "source": [
    "#brt package"
   ]
  },
  {
   "cell_type": "code",
   "execution_count": null,
   "metadata": {},
   "outputs": [],
   "source": []
  },
  {
   "cell_type": "code",
   "execution_count": null,
   "metadata": {},
   "outputs": [],
   "source": []
  },
  {
   "cell_type": "code",
   "execution_count": null,
   "metadata": {},
   "outputs": [],
   "source": []
  },
  {
   "cell_type": "code",
   "execution_count": null,
   "metadata": {},
   "outputs": [],
   "source": []
  }
 ],
 "metadata": {
  "kernelspec": {
   "display_name": "R",
   "language": "R",
   "name": "ir"
  },
  "language_info": {
   "codemirror_mode": "r",
   "file_extension": ".r",
   "mimetype": "text/x-r-source",
   "name": "R",
   "pygments_lexer": "r",
   "version": "3.6.1"
  }
 },
 "nbformat": 4,
 "nbformat_minor": 2
}
